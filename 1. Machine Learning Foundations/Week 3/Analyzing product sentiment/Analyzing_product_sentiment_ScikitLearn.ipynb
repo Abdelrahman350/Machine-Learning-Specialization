{
 "cells": [
  {
   "cell_type": "markdown",
   "metadata": {},
   "source": [
    "# Import Scikit Learn, Pandas and Numpy"
   ]
  },
  {
   "cell_type": "code",
   "execution_count": 1,
   "metadata": {},
   "outputs": [],
   "source": [
    "import sklearn\n",
    "import numpy as np\n",
    "import pandas as pd"
   ]
  },
  {
   "cell_type": "markdown",
   "metadata": {},
   "source": [
    "# 1. Read the Dataset using Pandas"
   ]
  },
  {
   "cell_type": "code",
   "execution_count": 2,
   "metadata": {},
   "outputs": [],
   "source": [
    "data = pd.read_csv(\"amazon_baby.csv\")"
   ]
  },
  {
   "cell_type": "code",
   "execution_count": 3,
   "metadata": {},
   "outputs": [
    {
     "data": {
      "text/html": [
       "<div>\n",
       "<style scoped>\n",
       "    .dataframe tbody tr th:only-of-type {\n",
       "        vertical-align: middle;\n",
       "    }\n",
       "\n",
       "    .dataframe tbody tr th {\n",
       "        vertical-align: top;\n",
       "    }\n",
       "\n",
       "    .dataframe thead th {\n",
       "        text-align: right;\n",
       "    }\n",
       "</style>\n",
       "<table border=\"1\" class=\"dataframe\">\n",
       "  <thead>\n",
       "    <tr style=\"text-align: right;\">\n",
       "      <th></th>\n",
       "      <th>name</th>\n",
       "      <th>review</th>\n",
       "      <th>rating</th>\n",
       "    </tr>\n",
       "  </thead>\n",
       "  <tbody>\n",
       "    <tr>\n",
       "      <th>0</th>\n",
       "      <td>Planetwise Flannel Wipes</td>\n",
       "      <td>These flannel wipes are OK, but in my opinion ...</td>\n",
       "      <td>3</td>\n",
       "    </tr>\n",
       "    <tr>\n",
       "      <th>1</th>\n",
       "      <td>Planetwise Wipe Pouch</td>\n",
       "      <td>it came early and was not disappointed. i love...</td>\n",
       "      <td>5</td>\n",
       "    </tr>\n",
       "    <tr>\n",
       "      <th>2</th>\n",
       "      <td>Annas Dream Full Quilt with 2 Shams</td>\n",
       "      <td>Very soft and comfortable and warmer than it l...</td>\n",
       "      <td>5</td>\n",
       "    </tr>\n",
       "    <tr>\n",
       "      <th>3</th>\n",
       "      <td>Stop Pacifier Sucking without tears with Thumb...</td>\n",
       "      <td>This is a product well worth the purchase.  I ...</td>\n",
       "      <td>5</td>\n",
       "    </tr>\n",
       "    <tr>\n",
       "      <th>4</th>\n",
       "      <td>Stop Pacifier Sucking without tears with Thumb...</td>\n",
       "      <td>All of my kids have cried non-stop when I trie...</td>\n",
       "      <td>5</td>\n",
       "    </tr>\n",
       "    <tr>\n",
       "      <th>...</th>\n",
       "      <td>...</td>\n",
       "      <td>...</td>\n",
       "      <td>...</td>\n",
       "    </tr>\n",
       "    <tr>\n",
       "      <th>183526</th>\n",
       "      <td>Baby Teething Necklace for Mom Pretty Donut Sh...</td>\n",
       "      <td>Such a great idea! very handy to have and look...</td>\n",
       "      <td>5</td>\n",
       "    </tr>\n",
       "    <tr>\n",
       "      <th>183527</th>\n",
       "      <td>Baby Teething Necklace for Mom Pretty Donut Sh...</td>\n",
       "      <td>This product rocks!  It is a great blend of fu...</td>\n",
       "      <td>5</td>\n",
       "    </tr>\n",
       "    <tr>\n",
       "      <th>183528</th>\n",
       "      <td>Abstract 2 PK Baby / Toddler Training Cup (Pink)</td>\n",
       "      <td>This item looks great and cool for my kids.......</td>\n",
       "      <td>5</td>\n",
       "    </tr>\n",
       "    <tr>\n",
       "      <th>183529</th>\n",
       "      <td>Baby Food Freezer Tray - Bacteria Resistant, B...</td>\n",
       "      <td>I am extremely happy with this product. I have...</td>\n",
       "      <td>5</td>\n",
       "    </tr>\n",
       "    <tr>\n",
       "      <th>183530</th>\n",
       "      <td>Best 2 Pack Baby Car Shade for Kids - Window S...</td>\n",
       "      <td>I love this product very mush . I have bought ...</td>\n",
       "      <td>5</td>\n",
       "    </tr>\n",
       "  </tbody>\n",
       "</table>\n",
       "<p>183531 rows × 3 columns</p>\n",
       "</div>"
      ],
      "text/plain": [
       "                                                     name  \\\n",
       "0                                Planetwise Flannel Wipes   \n",
       "1                                   Planetwise Wipe Pouch   \n",
       "2                     Annas Dream Full Quilt with 2 Shams   \n",
       "3       Stop Pacifier Sucking without tears with Thumb...   \n",
       "4       Stop Pacifier Sucking without tears with Thumb...   \n",
       "...                                                   ...   \n",
       "183526  Baby Teething Necklace for Mom Pretty Donut Sh...   \n",
       "183527  Baby Teething Necklace for Mom Pretty Donut Sh...   \n",
       "183528   Abstract 2 PK Baby / Toddler Training Cup (Pink)   \n",
       "183529  Baby Food Freezer Tray - Bacteria Resistant, B...   \n",
       "183530  Best 2 Pack Baby Car Shade for Kids - Window S...   \n",
       "\n",
       "                                                   review  rating  \n",
       "0       These flannel wipes are OK, but in my opinion ...       3  \n",
       "1       it came early and was not disappointed. i love...       5  \n",
       "2       Very soft and comfortable and warmer than it l...       5  \n",
       "3       This is a product well worth the purchase.  I ...       5  \n",
       "4       All of my kids have cried non-stop when I trie...       5  \n",
       "...                                                   ...     ...  \n",
       "183526  Such a great idea! very handy to have and look...       5  \n",
       "183527  This product rocks!  It is a great blend of fu...       5  \n",
       "183528  This item looks great and cool for my kids.......       5  \n",
       "183529  I am extremely happy with this product. I have...       5  \n",
       "183530  I love this product very mush . I have bought ...       5  \n",
       "\n",
       "[183531 rows x 3 columns]"
      ]
     },
     "execution_count": 3,
     "metadata": {},
     "output_type": "execute_result"
    }
   ],
   "source": [
    "data"
   ]
  },
  {
   "cell_type": "markdown",
   "metadata": {},
   "source": [
    "# 2. Exploratory Data Analysis"
   ]
  },
  {
   "cell_type": "code",
   "execution_count": 4,
   "metadata": {},
   "outputs": [
    {
     "data": {
      "text/html": [
       "<div>\n",
       "<style scoped>\n",
       "    .dataframe tbody tr th:only-of-type {\n",
       "        vertical-align: middle;\n",
       "    }\n",
       "\n",
       "    .dataframe tbody tr th {\n",
       "        vertical-align: top;\n",
       "    }\n",
       "\n",
       "    .dataframe thead th {\n",
       "        text-align: right;\n",
       "    }\n",
       "</style>\n",
       "<table border=\"1\" class=\"dataframe\">\n",
       "  <thead>\n",
       "    <tr style=\"text-align: right;\">\n",
       "      <th></th>\n",
       "      <th>name</th>\n",
       "      <th>review</th>\n",
       "      <th>rating</th>\n",
       "    </tr>\n",
       "  </thead>\n",
       "  <tbody>\n",
       "    <tr>\n",
       "      <th>0</th>\n",
       "      <td>Planetwise Flannel Wipes</td>\n",
       "      <td>These flannel wipes are OK, but in my opinion ...</td>\n",
       "      <td>3</td>\n",
       "    </tr>\n",
       "    <tr>\n",
       "      <th>1</th>\n",
       "      <td>Planetwise Wipe Pouch</td>\n",
       "      <td>it came early and was not disappointed. i love...</td>\n",
       "      <td>5</td>\n",
       "    </tr>\n",
       "    <tr>\n",
       "      <th>2</th>\n",
       "      <td>Annas Dream Full Quilt with 2 Shams</td>\n",
       "      <td>Very soft and comfortable and warmer than it l...</td>\n",
       "      <td>5</td>\n",
       "    </tr>\n",
       "    <tr>\n",
       "      <th>3</th>\n",
       "      <td>Stop Pacifier Sucking without tears with Thumb...</td>\n",
       "      <td>This is a product well worth the purchase.  I ...</td>\n",
       "      <td>5</td>\n",
       "    </tr>\n",
       "    <tr>\n",
       "      <th>4</th>\n",
       "      <td>Stop Pacifier Sucking without tears with Thumb...</td>\n",
       "      <td>All of my kids have cried non-stop when I trie...</td>\n",
       "      <td>5</td>\n",
       "    </tr>\n",
       "  </tbody>\n",
       "</table>\n",
       "</div>"
      ],
      "text/plain": [
       "                                                name  \\\n",
       "0                           Planetwise Flannel Wipes   \n",
       "1                              Planetwise Wipe Pouch   \n",
       "2                Annas Dream Full Quilt with 2 Shams   \n",
       "3  Stop Pacifier Sucking without tears with Thumb...   \n",
       "4  Stop Pacifier Sucking without tears with Thumb...   \n",
       "\n",
       "                                              review  rating  \n",
       "0  These flannel wipes are OK, but in my opinion ...       3  \n",
       "1  it came early and was not disappointed. i love...       5  \n",
       "2  Very soft and comfortable and warmer than it l...       5  \n",
       "3  This is a product well worth the purchase.  I ...       5  \n",
       "4  All of my kids have cried non-stop when I trie...       5  "
      ]
     },
     "execution_count": 4,
     "metadata": {},
     "output_type": "execute_result"
    }
   ],
   "source": [
    "data.head()"
   ]
  },
  {
   "cell_type": "code",
   "execution_count": 5,
   "metadata": {},
   "outputs": [
    {
     "name": "stdout",
     "output_type": "stream",
     "text": [
      "<class 'pandas.core.frame.DataFrame'>\n",
      "RangeIndex: 183531 entries, 0 to 183530\n",
      "Data columns (total 3 columns):\n",
      " #   Column  Non-Null Count   Dtype \n",
      "---  ------  --------------   ----- \n",
      " 0   name    183213 non-null  object\n",
      " 1   review  182702 non-null  object\n",
      " 2   rating  183531 non-null  int64 \n",
      "dtypes: int64(1), object(2)\n",
      "memory usage: 4.2+ MB\n"
     ]
    }
   ],
   "source": [
    "data.info()"
   ]
  },
  {
   "cell_type": "markdown",
   "metadata": {},
   "source": [
    "### The first observation is that we have cells with null review and they have rating. Those rows which contain those cells should be dropped from the data as they will confuse the model by acting like noise."
   ]
  },
  {
   "cell_type": "code",
   "execution_count": 6,
   "metadata": {},
   "outputs": [
    {
     "data": {
      "text/html": [
       "<div>\n",
       "<style scoped>\n",
       "    .dataframe tbody tr th:only-of-type {\n",
       "        vertical-align: middle;\n",
       "    }\n",
       "\n",
       "    .dataframe tbody tr th {\n",
       "        vertical-align: top;\n",
       "    }\n",
       "\n",
       "    .dataframe thead th {\n",
       "        text-align: right;\n",
       "    }\n",
       "</style>\n",
       "<table border=\"1\" class=\"dataframe\">\n",
       "  <thead>\n",
       "    <tr style=\"text-align: right;\">\n",
       "      <th></th>\n",
       "      <th>rating</th>\n",
       "    </tr>\n",
       "  </thead>\n",
       "  <tbody>\n",
       "    <tr>\n",
       "      <th>count</th>\n",
       "      <td>183531.000000</td>\n",
       "    </tr>\n",
       "    <tr>\n",
       "      <th>mean</th>\n",
       "      <td>4.120448</td>\n",
       "    </tr>\n",
       "    <tr>\n",
       "      <th>std</th>\n",
       "      <td>1.285017</td>\n",
       "    </tr>\n",
       "    <tr>\n",
       "      <th>min</th>\n",
       "      <td>1.000000</td>\n",
       "    </tr>\n",
       "    <tr>\n",
       "      <th>25%</th>\n",
       "      <td>4.000000</td>\n",
       "    </tr>\n",
       "    <tr>\n",
       "      <th>50%</th>\n",
       "      <td>5.000000</td>\n",
       "    </tr>\n",
       "    <tr>\n",
       "      <th>75%</th>\n",
       "      <td>5.000000</td>\n",
       "    </tr>\n",
       "    <tr>\n",
       "      <th>max</th>\n",
       "      <td>5.000000</td>\n",
       "    </tr>\n",
       "  </tbody>\n",
       "</table>\n",
       "</div>"
      ],
      "text/plain": [
       "              rating\n",
       "count  183531.000000\n",
       "mean        4.120448\n",
       "std         1.285017\n",
       "min         1.000000\n",
       "25%         4.000000\n",
       "50%         5.000000\n",
       "75%         5.000000\n",
       "max         5.000000"
      ]
     },
     "execution_count": 6,
     "metadata": {},
     "output_type": "execute_result"
    }
   ],
   "source": [
    "data.describe()"
   ]
  },
  {
   "cell_type": "code",
   "execution_count": 7,
   "metadata": {},
   "outputs": [
    {
     "data": {
      "image/png": "[encoded data removed]",
      "text/plain": [
       "<Figure size 432x288 with 1 Axes>"
      ]
     },
     "metadata": {
      "needs_background": "light"
     },
     "output_type": "display_data"
    }
   ],
   "source": [
    "%matplotlib inline\n",
    "import matplotlib.pyplot as plt\n",
    "data.hist(bins=[1, 1.5, 2, 2.5, 3, 3.5, 4, 4.5, 5, 5.5])\n",
    "plt.show()"
   ]
  },
  {
   "cell_type": "markdown",
   "metadata": {},
   "source": [
    "### The second observation is that we have imbalanced classes in our Data. At this project we will just use different metrics to measure model performance besides accuracy like recall, $F_{1}$ score and ROC."
   ]
  },
  {
   "cell_type": "markdown",
   "metadata": {},
   "source": [
    "# 3. Data Preprocessing\n",
    "### Drop null rows using DataFrame.dropna()"
   ]
  },
  {
   "cell_type": "code",
   "execution_count": 8,
   "metadata": {},
   "outputs": [
    {
     "name": "stdout",
     "output_type": "stream",
     "text": [
      "<class 'pandas.core.frame.DataFrame'>\n",
      "RangeIndex: 182384 entries, 0 to 182383\n",
      "Data columns (total 3 columns):\n",
      " #   Column  Non-Null Count   Dtype \n",
      "---  ------  --------------   ----- \n",
      " 0   name    182384 non-null  object\n",
      " 1   review  182384 non-null  object\n",
      " 2   rating  182384 non-null  int64 \n",
      "dtypes: int64(1), object(2)\n",
      "memory usage: 4.2+ MB\n"
     ]
    }
   ],
   "source": [
    "data.dropna(inplace=True)\n",
    "data.reset_index(drop=True, inplace=True)\n",
    "data.info()"
   ]
  },
  {
   "cell_type": "markdown",
   "metadata": {},
   "source": [
    "### Ignore the three stars ratings.\n",
    "\n",
    "Because they are neutral, and dropp those rows with neutral reviews.\n",
    "This step is done before building the word count vector to save memory space and computational power by not getting the word count vector for those neutral reviews."
   ]
  },
  {
   "cell_type": "code",
   "execution_count": 9,
   "metadata": {},
   "outputs": [],
   "source": [
    "data = data[data['rating'] != 3]\n",
    "data.reset_index(drop=True, inplace=True)"
   ]
  },
  {
   "cell_type": "code",
   "execution_count": 10,
   "metadata": {},
   "outputs": [
    {
     "name": "stdout",
     "output_type": "stream",
     "text": [
      "<class 'pandas.core.frame.DataFrame'>\n",
      "RangeIndex: 165679 entries, 0 to 165678\n",
      "Data columns (total 3 columns):\n",
      " #   Column  Non-Null Count   Dtype \n",
      "---  ------  --------------   ----- \n",
      " 0   name    165679 non-null  object\n",
      " 1   review  165679 non-null  object\n",
      " 2   rating  165679 non-null  int64 \n",
      "dtypes: int64(1), object(2)\n",
      "memory usage: 3.8+ MB\n"
     ]
    }
   ],
   "source": [
    "data.info()"
   ]
  },
  {
   "cell_type": "markdown",
   "metadata": {},
   "source": [
    "### Build word count vectors"
   ]
  },
  {
   "cell_type": "code",
   "execution_count": 11,
   "metadata": {},
   "outputs": [],
   "source": [
    "import pandas as pd\n",
    "import numpy as np    \n",
    "from sklearn.feature_extraction.text import CountVectorizer\n",
    "\n",
    "def dictionarize(row):\n",
    "    cv = CountVectorizer(\n",
    "        analyzer = \"word\",  \n",
    "        token_pattern = '[a-zA-Z0-9$&+:;=?@#|<>.^*()%!]+'\n",
    "    )\n",
    "    text = [row.loc['review']]\n",
    "    cv_fit=cv.fit_transform(text)    \n",
    "    word_list = cv.get_feature_names();    \n",
    "    count_list = cv_fit.toarray().sum(axis=0)\n",
    "    dictionary = dict(zip(word_list,count_list))\n",
    "    row['word_count'] = dictionary\n",
    "    return row\n",
    "\n",
    "data = data.apply(dictionarize, axis=1)"
   ]
  },
  {
   "cell_type": "code",
   "execution_count": 12,
   "metadata": {},
   "outputs": [
    {
     "data": {
      "text/html": [
       "<div>\n",
       "<style scoped>\n",
       "    .dataframe tbody tr th:only-of-type {\n",
       "        vertical-align: middle;\n",
       "    }\n",
       "\n",
       "    .dataframe tbody tr th {\n",
       "        vertical-align: top;\n",
       "    }\n",
       "\n",
       "    .dataframe thead th {\n",
       "        text-align: right;\n",
       "    }\n",
       "</style>\n",
       "<table border=\"1\" class=\"dataframe\">\n",
       "  <thead>\n",
       "    <tr style=\"text-align: right;\">\n",
       "      <th></th>\n",
       "      <th>name</th>\n",
       "      <th>review</th>\n",
       "      <th>rating</th>\n",
       "      <th>word_count</th>\n",
       "    </tr>\n",
       "  </thead>\n",
       "  <tbody>\n",
       "    <tr>\n",
       "      <th>0</th>\n",
       "      <td>Planetwise Wipe Pouch</td>\n",
       "      <td>it came early and was not disappointed. i love...</td>\n",
       "      <td>5</td>\n",
       "      <td>{'and': 3, 'bags': 1, 'came': 1, 'disappointed...</td>\n",
       "    </tr>\n",
       "    <tr>\n",
       "      <th>1</th>\n",
       "      <td>Annas Dream Full Quilt with 2 Shams</td>\n",
       "      <td>Very soft and comfortable and warmer than it l...</td>\n",
       "      <td>5</td>\n",
       "      <td>{'and': 2, 'anyone': 1, 'bed': 1, 'comfortable...</td>\n",
       "    </tr>\n",
       "    <tr>\n",
       "      <th>2</th>\n",
       "      <td>Stop Pacifier Sucking without tears with Thumb...</td>\n",
       "      <td>This is a product well worth the purchase.  I ...</td>\n",
       "      <td>5</td>\n",
       "      <td>{'a': 2, 'about': 1, 'and': 3, 'anything': 1, ...</td>\n",
       "    </tr>\n",
       "    <tr>\n",
       "      <th>3</th>\n",
       "      <td>Stop Pacifier Sucking without tears with Thumb...</td>\n",
       "      <td>All of my kids have cried non-stop when I trie...</td>\n",
       "      <td>5</td>\n",
       "      <td>{'a': 2, 'all': 2, 'allow': 1, 'an': 1, 'and':...</td>\n",
       "    </tr>\n",
       "    <tr>\n",
       "      <th>4</th>\n",
       "      <td>Stop Pacifier Sucking without tears with Thumb...</td>\n",
       "      <td>When the Binky Fairy came to our house, we did...</td>\n",
       "      <td>5</td>\n",
       "      <td>{'a': 2, 'about': 2, 'adorable': 1, 'and': 2, ...</td>\n",
       "    </tr>\n",
       "  </tbody>\n",
       "</table>\n",
       "</div>"
      ],
      "text/plain": [
       "                                                name  \\\n",
       "0                              Planetwise Wipe Pouch   \n",
       "1                Annas Dream Full Quilt with 2 Shams   \n",
       "2  Stop Pacifier Sucking without tears with Thumb...   \n",
       "3  Stop Pacifier Sucking without tears with Thumb...   \n",
       "4  Stop Pacifier Sucking without tears with Thumb...   \n",
       "\n",
       "                                              review  rating  \\\n",
       "0  it came early and was not disappointed. i love...       5   \n",
       "1  Very soft and comfortable and warmer than it l...       5   \n",
       "2  This is a product well worth the purchase.  I ...       5   \n",
       "3  All of my kids have cried non-stop when I trie...       5   \n",
       "4  When the Binky Fairy came to our house, we did...       5   \n",
       "\n",
       "                                          word_count  \n",
       "0  {'and': 3, 'bags': 1, 'came': 1, 'disappointed...  \n",
       "1  {'and': 2, 'anyone': 1, 'bed': 1, 'comfortable...  \n",
       "2  {'a': 2, 'about': 1, 'and': 3, 'anything': 1, ...  \n",
       "3  {'a': 2, 'all': 2, 'allow': 1, 'an': 1, 'and':...  \n",
       "4  {'a': 2, 'about': 2, 'adorable': 1, 'and': 2, ...  "
      ]
     },
     "execution_count": 12,
     "metadata": {},
     "output_type": "execute_result"
    }
   ],
   "source": [
    "data.head()"
   ]
  },
  {
   "cell_type": "code",
   "execution_count": 13,
   "metadata": {},
   "outputs": [
    {
     "data": {
      "text/html": [
       "<div>\n",
       "<style scoped>\n",
       "    .dataframe tbody tr th:only-of-type {\n",
       "        vertical-align: middle;\n",
       "    }\n",
       "\n",
       "    .dataframe tbody tr th {\n",
       "        vertical-align: top;\n",
       "    }\n",
       "\n",
       "    .dataframe thead th {\n",
       "        text-align: right;\n",
       "    }\n",
       "</style>\n",
       "<table border=\"1\" class=\"dataframe\">\n",
       "  <thead>\n",
       "    <tr style=\"text-align: right;\">\n",
       "      <th></th>\n",
       "      <th>name</th>\n",
       "      <th>review</th>\n",
       "      <th>rating</th>\n",
       "      <th>word_count</th>\n",
       "      <th>sentiment</th>\n",
       "    </tr>\n",
       "  </thead>\n",
       "  <tbody>\n",
       "    <tr>\n",
       "      <th>0</th>\n",
       "      <td>Planetwise Wipe Pouch</td>\n",
       "      <td>it came early and was not disappointed. i love...</td>\n",
       "      <td>5</td>\n",
       "      <td>{'and': 3, 'bags': 1, 'came': 1, 'disappointed...</td>\n",
       "      <td>1</td>\n",
       "    </tr>\n",
       "    <tr>\n",
       "      <th>1</th>\n",
       "      <td>Annas Dream Full Quilt with 2 Shams</td>\n",
       "      <td>Very soft and comfortable and warmer than it l...</td>\n",
       "      <td>5</td>\n",
       "      <td>{'and': 2, 'anyone': 1, 'bed': 1, 'comfortable...</td>\n",
       "      <td>1</td>\n",
       "    </tr>\n",
       "    <tr>\n",
       "      <th>2</th>\n",
       "      <td>Stop Pacifier Sucking without tears with Thumb...</td>\n",
       "      <td>This is a product well worth the purchase.  I ...</td>\n",
       "      <td>5</td>\n",
       "      <td>{'a': 2, 'about': 1, 'and': 3, 'anything': 1, ...</td>\n",
       "      <td>1</td>\n",
       "    </tr>\n",
       "    <tr>\n",
       "      <th>3</th>\n",
       "      <td>Stop Pacifier Sucking without tears with Thumb...</td>\n",
       "      <td>All of my kids have cried non-stop when I trie...</td>\n",
       "      <td>5</td>\n",
       "      <td>{'a': 2, 'all': 2, 'allow': 1, 'an': 1, 'and':...</td>\n",
       "      <td>1</td>\n",
       "    </tr>\n",
       "    <tr>\n",
       "      <th>4</th>\n",
       "      <td>Stop Pacifier Sucking without tears with Thumb...</td>\n",
       "      <td>When the Binky Fairy came to our house, we did...</td>\n",
       "      <td>5</td>\n",
       "      <td>{'a': 2, 'about': 2, 'adorable': 1, 'and': 2, ...</td>\n",
       "      <td>1</td>\n",
       "    </tr>\n",
       "  </tbody>\n",
       "</table>\n",
       "</div>"
      ],
      "text/plain": [
       "                                                name  \\\n",
       "0                              Planetwise Wipe Pouch   \n",
       "1                Annas Dream Full Quilt with 2 Shams   \n",
       "2  Stop Pacifier Sucking without tears with Thumb...   \n",
       "3  Stop Pacifier Sucking without tears with Thumb...   \n",
       "4  Stop Pacifier Sucking without tears with Thumb...   \n",
       "\n",
       "                                              review  rating  \\\n",
       "0  it came early and was not disappointed. i love...       5   \n",
       "1  Very soft and comfortable and warmer than it l...       5   \n",
       "2  This is a product well worth the purchase.  I ...       5   \n",
       "3  All of my kids have cried non-stop when I trie...       5   \n",
       "4  When the Binky Fairy came to our house, we did...       5   \n",
       "\n",
       "                                          word_count  sentiment  \n",
       "0  {'and': 3, 'bags': 1, 'came': 1, 'disappointed...          1  \n",
       "1  {'and': 2, 'anyone': 1, 'bed': 1, 'comfortable...          1  \n",
       "2  {'a': 2, 'about': 1, 'and': 3, 'anything': 1, ...          1  \n",
       "3  {'a': 2, 'all': 2, 'allow': 1, 'an': 1, 'and':...          1  \n",
       "4  {'a': 2, 'about': 2, 'adorable': 1, 'and': 2, ...          1  "
      ]
     },
     "execution_count": 13,
     "metadata": {},
     "output_type": "execute_result"
    }
   ],
   "source": [
    "data = data.assign(sentiment = (data['rating'] >= 4).astype(int))\n",
    "data.head()"
   ]
  },
  {
   "cell_type": "code",
   "execution_count": 14,
   "metadata": {},
   "outputs": [
    {
     "data": {
      "image/png": "[encoded data removed]",
      "text/plain": [
       "<Figure size 432x288 with 1 Axes>"
      ]
     },
     "metadata": {
      "needs_background": "light"
     },
     "output_type": "display_data"
    }
   ],
   "source": [
    "data['sentiment'].hist(bins=4)\n",
    "plt.show()"
   ]
  },
  {
   "cell_type": "markdown",
   "metadata": {},
   "source": [
    "# 4. Train-Test Split"
   ]
  },
  {
   "cell_type": "code",
   "execution_count": 15,
   "metadata": {},
   "outputs": [],
   "source": [
    "from sklearn.model_selection import train_test_split\n",
    "train_set, test_set = train_test_split(data, test_size=0.2, random_state=42)"
   ]
  },
  {
   "cell_type": "markdown",
   "metadata": {},
   "source": [
    "# 5. Logistic Regression Pipeline"
   ]
  },
  {
   "cell_type": "code",
   "execution_count": 16,
   "metadata": {},
   "outputs": [
    {
     "data": {
      "text/html": [
       "<style>div.sk-top-container {color: black;background-color: white;}div.sk-toggleable {background-color: white;}label.sk-toggleable__label {cursor: pointer;display: block;width: 100%;margin-bottom: 0;padding: 0.2em 0.3em;box-sizing: border-box;text-align: center;}div.sk-toggleable__content {max-height: 0;max-width: 0;overflow: hidden;text-align: left;background-color: #f0f8ff;}div.sk-toggleable__content pre {margin: 0.2em;color: black;border-radius: 0.25em;background-color: #f0f8ff;}input.sk-toggleable__control:checked~div.sk-toggleable__content {max-height: 200px;max-width: 100%;overflow: auto;}div.sk-estimator input.sk-toggleable__control:checked~label.sk-toggleable__label {background-color: #d4ebff;}div.sk-label input.sk-toggleable__control:checked~label.sk-toggleable__label {background-color: #d4ebff;}input.sk-hidden--visually {border: 0;clip: rect(1px 1px 1px 1px);clip: rect(1px, 1px, 1px, 1px);height: 1px;margin: -1px;overflow: hidden;padding: 0;position: absolute;width: 1px;}div.sk-estimator {font-family: monospace;background-color: #f0f8ff;margin: 0.25em 0.25em;border: 1px dotted black;border-radius: 0.25em;box-sizing: border-box;}div.sk-estimator:hover {background-color: #d4ebff;}div.sk-parallel-item::after {content: \"\";width: 100%;border-bottom: 1px solid gray;flex-grow: 1;}div.sk-label:hover label.sk-toggleable__label {background-color: #d4ebff;}div.sk-serial::before {content: \"\";position: absolute;border-left: 1px solid gray;box-sizing: border-box;top: 2em;bottom: 0;left: 50%;}div.sk-serial {display: flex;flex-direction: column;align-items: center;background-color: white;}div.sk-item {z-index: 1;}div.sk-parallel {display: flex;align-items: stretch;justify-content: center;background-color: white;}div.sk-parallel-item {display: flex;flex-direction: column;position: relative;background-color: white;}div.sk-parallel-item:first-child::after {align-self: flex-end;width: 50%;}div.sk-parallel-item:last-child::after {align-self: flex-start;width: 50%;}div.sk-parallel-item:only-child::after {width: 0;}div.sk-dashed-wrapped {border: 1px dashed gray;margin: 0.2em;box-sizing: border-box;padding-bottom: 0.1em;background-color: white;position: relative;}div.sk-label label {font-family: monospace;font-weight: bold;background-color: white;display: inline-block;line-height: 1.2em;}div.sk-label-container {position: relative;z-index: 2;text-align: center;}div.sk-container {display: inline-block;position: relative;}</style><div class=\"sk-top-container\"><div class=\"sk-container\"><div class=\"sk-item sk-dashed-wrapped\"><div class=\"sk-label-container\"><div class=\"sk-label sk-toggleable\"><input class=\"sk-toggleable__control sk-hidden--visually\" id=\"4e94b5fc-bd0b-46c9-b0b0-c3af7cb90baa\" type=\"checkbox\" ><label class=\"sk-toggleable__label\" for=\"4e94b5fc-bd0b-46c9-b0b0-c3af7cb90baa\">Pipeline</label><div class=\"sk-toggleable__content\"><pre>Pipeline(steps=[('Count_Vectorizer', CountVectorizer()),\n",
       "                ('TF-IDF', TfidfTransformer()),\n",
       "                ('Logistic_Regression',\n",
       "                 LogisticRegression(class_weight='dict', max_iter=1000))],\n",
       "         verbose=True)</pre></div></div></div><div class=\"sk-serial\"><div class=\"sk-item\"><div class=\"sk-estimator sk-toggleable\"><input class=\"sk-toggleable__control sk-hidden--visually\" id=\"a3a22d9b-03c4-4d54-9f48-fad4a3c74baf\" type=\"checkbox\" ><label class=\"sk-toggleable__label\" for=\"a3a22d9b-03c4-4d54-9f48-fad4a3c74baf\">CountVectorizer</label><div class=\"sk-toggleable__content\"><pre>CountVectorizer()</pre></div></div></div><div class=\"sk-item\"><div class=\"sk-estimator sk-toggleable\"><input class=\"sk-toggleable__control sk-hidden--visually\" id=\"58a27991-6b85-4afa-8a51-58915205c576\" type=\"checkbox\" ><label class=\"sk-toggleable__label\" for=\"58a27991-6b85-4afa-8a51-58915205c576\">TfidfTransformer</label><div class=\"sk-toggleable__content\"><pre>TfidfTransformer()</pre></div></div></div><div class=\"sk-item\"><div class=\"sk-estimator sk-toggleable\"><input class=\"sk-toggleable__control sk-hidden--visually\" id=\"9e5299d9-8fc8-478b-92a7-149b4011a740\" type=\"checkbox\" ><label class=\"sk-toggleable__label\" for=\"9e5299d9-8fc8-478b-92a7-149b4011a740\">LogisticRegression</label><div class=\"sk-toggleable__content\"><pre>LogisticRegression(class_weight='dict', max_iter=1000)</pre></div></div></div></div></div></div></div>"
      ],
      "text/plain": [
       "Pipeline(steps=[('Count_Vectorizer', CountVectorizer()),\n",
       "                ('TF-IDF', TfidfTransformer()),\n",
       "                ('Logistic_Regression',\n",
       "                 LogisticRegression(class_weight='dict', max_iter=1000))],\n",
       "         verbose=True)"
      ]
     },
     "execution_count": 16,
     "metadata": {},
     "output_type": "execute_result"
    }
   ],
   "source": [
    "from sklearn.pipeline import Pipeline\n",
    "from sklearn.compose import ColumnTransformer\n",
    "from sklearn.linear_model import LogisticRegression\n",
    "from sklearn.feature_extraction.text import TfidfVectorizer, TfidfTransformer\n",
    "\n",
    "sentiment_pipeline = Pipeline(\n",
    "    [\n",
    "        ('Count_Vectorizer', CountVectorizer()),\n",
    "        ('TF-IDF', TfidfTransformer()),\n",
    "        ('Logistic_Regression', LogisticRegression(solver='lbfgs', max_iter=1000, class_weight='dict'))\n",
    "    ],\n",
    "    verbose=True\n",
    ")\n",
    "\n",
    "from sklearn import set_config\n",
    "set_config(display='diagram')\n",
    "sentiment_pipeline"
   ]
  },
  {
   "cell_type": "markdown",
   "metadata": {},
   "source": [
    "# 6. Pipeline Training"
   ]
  },
  {
   "cell_type": "code",
   "execution_count": 17,
   "metadata": {},
   "outputs": [
    {
     "name": "stdout",
     "output_type": "stream",
     "text": [
      "[Pipeline] .. (step 1 of 3) Processing Count_Vectorizer, total=   8.5s\n",
      "[Pipeline] ............ (step 2 of 3) Processing TF-IDF, total=   1.2s\n",
      "[Pipeline]  (step 3 of 3) Processing Logistic_Regression, total=  10.0s\n"
     ]
    },
    {
     "data": {
      "text/html": [
       "<style>div.sk-top-container {color: black;background-color: white;}div.sk-toggleable {background-color: white;}label.sk-toggleable__label {cursor: pointer;display: block;width: 100%;margin-bottom: 0;padding: 0.2em 0.3em;box-sizing: border-box;text-align: center;}div.sk-toggleable__content {max-height: 0;max-width: 0;overflow: hidden;text-align: left;background-color: #f0f8ff;}div.sk-toggleable__content pre {margin: 0.2em;color: black;border-radius: 0.25em;background-color: #f0f8ff;}input.sk-toggleable__control:checked~div.sk-toggleable__content {max-height: 200px;max-width: 100%;overflow: auto;}div.sk-estimator input.sk-toggleable__control:checked~label.sk-toggleable__label {background-color: #d4ebff;}div.sk-label input.sk-toggleable__control:checked~label.sk-toggleable__label {background-color: #d4ebff;}input.sk-hidden--visually {border: 0;clip: rect(1px 1px 1px 1px);clip: rect(1px, 1px, 1px, 1px);height: 1px;margin: -1px;overflow: hidden;padding: 0;position: absolute;width: 1px;}div.sk-estimator {font-family: monospace;background-color: #f0f8ff;margin: 0.25em 0.25em;border: 1px dotted black;border-radius: 0.25em;box-sizing: border-box;}div.sk-estimator:hover {background-color: #d4ebff;}div.sk-parallel-item::after {content: \"\";width: 100%;border-bottom: 1px solid gray;flex-grow: 1;}div.sk-label:hover label.sk-toggleable__label {background-color: #d4ebff;}div.sk-serial::before {content: \"\";position: absolute;border-left: 1px solid gray;box-sizing: border-box;top: 2em;bottom: 0;left: 50%;}div.sk-serial {display: flex;flex-direction: column;align-items: center;background-color: white;}div.sk-item {z-index: 1;}div.sk-parallel {display: flex;align-items: stretch;justify-content: center;background-color: white;}div.sk-parallel-item {display: flex;flex-direction: column;position: relative;background-color: white;}div.sk-parallel-item:first-child::after {align-self: flex-end;width: 50%;}div.sk-parallel-item:last-child::after {align-self: flex-start;width: 50%;}div.sk-parallel-item:only-child::after {width: 0;}div.sk-dashed-wrapped {border: 1px dashed gray;margin: 0.2em;box-sizing: border-box;padding-bottom: 0.1em;background-color: white;position: relative;}div.sk-label label {font-family: monospace;font-weight: bold;background-color: white;display: inline-block;line-height: 1.2em;}div.sk-label-container {position: relative;z-index: 2;text-align: center;}div.sk-container {display: inline-block;position: relative;}</style><div class=\"sk-top-container\"><div class=\"sk-container\"><div class=\"sk-item sk-dashed-wrapped\"><div class=\"sk-label-container\"><div class=\"sk-label sk-toggleable\"><input class=\"sk-toggleable__control sk-hidden--visually\" id=\"353301b8-559a-40b1-9bd4-9be0b906bb89\" type=\"checkbox\" ><label class=\"sk-toggleable__label\" for=\"353301b8-559a-40b1-9bd4-9be0b906bb89\">Pipeline</label><div class=\"sk-toggleable__content\"><pre>Pipeline(steps=[('Count_Vectorizer', CountVectorizer()),\n",
       "                ('TF-IDF', TfidfTransformer()),\n",
       "                ('Logistic_Regression',\n",
       "                 LogisticRegression(class_weight='dict', max_iter=1000))],\n",
       "         verbose=True)</pre></div></div></div><div class=\"sk-serial\"><div class=\"sk-item\"><div class=\"sk-estimator sk-toggleable\"><input class=\"sk-toggleable__control sk-hidden--visually\" id=\"57aa0345-7974-4a62-b2d2-414a355bfcbc\" type=\"checkbox\" ><label class=\"sk-toggleable__label\" for=\"57aa0345-7974-4a62-b2d2-414a355bfcbc\">CountVectorizer</label><div class=\"sk-toggleable__content\"><pre>CountVectorizer()</pre></div></div></div><div class=\"sk-item\"><div class=\"sk-estimator sk-toggleable\"><input class=\"sk-toggleable__control sk-hidden--visually\" id=\"c88cd895-470d-4f3c-8634-6e937c8fed84\" type=\"checkbox\" ><label class=\"sk-toggleable__label\" for=\"c88cd895-470d-4f3c-8634-6e937c8fed84\">TfidfTransformer</label><div class=\"sk-toggleable__content\"><pre>TfidfTransformer()</pre></div></div></div><div class=\"sk-item\"><div class=\"sk-estimator sk-toggleable\"><input class=\"sk-toggleable__control sk-hidden--visually\" id=\"f982811a-ea8d-4098-bccc-5a893d85a750\" type=\"checkbox\" ><label class=\"sk-toggleable__label\" for=\"f982811a-ea8d-4098-bccc-5a893d85a750\">LogisticRegression</label><div class=\"sk-toggleable__content\"><pre>LogisticRegression(class_weight='dict', max_iter=1000)</pre></div></div></div></div></div></div></div>"
      ],
      "text/plain": [
       "Pipeline(steps=[('Count_Vectorizer', CountVectorizer()),\n",
       "                ('TF-IDF', TfidfTransformer()),\n",
       "                ('Logistic_Regression',\n",
       "                 LogisticRegression(class_weight='dict', max_iter=1000))],\n",
       "         verbose=True)"
      ]
     },
     "execution_count": 17,
     "metadata": {},
     "output_type": "execute_result"
    }
   ],
   "source": [
    "sentiment_pipeline.fit(train_set['review'], train_set['sentiment'])"
   ]
  },
  {
   "cell_type": "markdown",
   "metadata": {},
   "source": [
    "### Plot Learning Curves"
   ]
  },
  {
   "cell_type": "code",
   "execution_count": 18,
   "metadata": {},
   "outputs": [],
   "source": [
    "from sklearn.model_selection import learning_curve\n",
    "\n",
    "def plot_learning_curve(estimator, title, X, y, ylim=None, cv=None,\n",
    "                        n_jobs=1, train_sizes=np.linspace(.1, 1.0, 5)):\n",
    "    \"\"\"\n",
    "    Generate a simple plot of the test and traning learning curve.\n",
    "\n",
    "    Parameters\n",
    "    ----------\n",
    "    estimator : object type that implements the \"fit\" and \"predict\" methods\n",
    "        An object of that type which is cloned for each validation.\n",
    "\n",
    "    title : string\n",
    "        Title for the chart.\n",
    "\n",
    "    X : array-like, shape (n_samples, n_features)\n",
    "        Training vector, where n_samples is the number of samples and\n",
    "        n_features is the number of features.\n",
    "\n",
    "    y : array-like, shape (n_samples) or (n_samples, n_features), optional\n",
    "        Target relative to X for classification or regression;\n",
    "        None for unsupervised learning.\n",
    "\n",
    "    ylim : tuple, shape (ymin, ymax), optional\n",
    "        Defines minimum and maximum yvalues plotted.\n",
    "\n",
    "    cv : integer, cross-validation generator, optional\n",
    "        If an integer is passed, it is the number of folds (defaults to 3).\n",
    "        Specific cross-validation objects can be passed, see\n",
    "        sklearn.cross_validation module for the list of possible objects\n",
    "\n",
    "    n_jobs : integer, optional\n",
    "        Number of jobs to run in parallel (default 1).\n",
    "    \"\"\"\n",
    "    estimator.verbose = False\n",
    "    plt.figure()\n",
    "    plt.title(title)\n",
    "    if ylim is not None:\n",
    "        plt.ylim(*ylim)\n",
    "    plt.xlabel(\"Training examples\")\n",
    "    plt.ylabel(\"Score\")\n",
    "    train_sizes, train_scores, test_scores = learning_curve(\n",
    "        estimator, X, y, cv=cv, n_jobs=n_jobs, train_sizes=train_sizes)\n",
    "    train_scores_mean = np.mean(train_scores, axis=1)\n",
    "    train_scores_std = np.std(train_scores, axis=1)\n",
    "    test_scores_mean = np.mean(test_scores, axis=1)\n",
    "    test_scores_std = np.std(test_scores, axis=1)\n",
    "    plt.grid()\n",
    "\n",
    "    plt.fill_between(train_sizes, train_scores_mean - train_scores_std,\n",
    "                     train_scores_mean + train_scores_std, alpha=0.1,\n",
    "                     color=\"r\")\n",
    "    plt.fill_between(train_sizes, test_scores_mean - test_scores_std,\n",
    "                     test_scores_mean + test_scores_std, alpha=0.1, color=\"g\")\n",
    "    plt.plot(train_sizes, train_scores_mean, 'o-', color=\"r\",\n",
    "             label=\"Training score\")\n",
    "    plt.plot(train_sizes, test_scores_mean, 'o-', color=\"g\",\n",
    "             label=\"Cross-validation score\")\n",
    "\n",
    "    plt.legend(loc=\"best\")\n",
    "    estimator.verbose = True\n",
    "    return plt"
   ]
  },
  {
   "cell_type": "markdown",
   "metadata": {},
   "source": [
    "# 7. Metrics"
   ]
  },
  {
   "cell_type": "code",
   "execution_count": 19,
   "metadata": {},
   "outputs": [
    {
     "name": "stdout",
     "output_type": "stream",
     "text": [
      "Classification report:\n",
      "\n",
      "              precision    recall  f1-score   support\n",
      "\n",
      "           0       0.87      0.71      0.78      5338\n",
      "           1       0.95      0.98      0.96     27798\n",
      "\n",
      "    accuracy                           0.94     33136\n",
      "   macro avg       0.91      0.84      0.87     33136\n",
      "weighted avg       0.93      0.94      0.93     33136\n",
      "\n"
     ]
    }
   ],
   "source": [
    "from sklearn.metrics import classification_report\n",
    "\n",
    "y_pred = sentiment_pipeline.predict(test_set['review'])\n",
    "print('Classification report:\\n\\n{}'.format(\n",
    "    classification_report(test_set['sentiment'], y_pred))\n",
    ")"
   ]
  },
  {
   "cell_type": "code",
   "execution_count": 20,
   "metadata": {},
   "outputs": [
    {
     "data": {
      "text/plain": [
       "<module 'matplotlib.pyplot' from '/home/abdelrahman/anaconda3/envs/turiCreate/lib/python3.8/site-packages/matplotlib/pyplot.py'>"
      ]
     },
     "execution_count": 20,
     "metadata": {},
     "output_type": "execute_result"
    },
    {
     "data": {
      "image/png": "[encoded data removed]",
      "text/plain": [
       "<Figure size 432x288 with 1 Axes>"
      ]
     },
     "metadata": {
      "needs_background": "light"
     },
     "output_type": "display_data"
    }
   ],
   "source": [
    "plot_learning_curve(sentiment_pipeline, 'Pipeline Learning Curves', train_set['review'], train_set['sentiment'])"
   ]
  },
  {
   "cell_type": "code",
   "execution_count": 21,
   "metadata": {},
   "outputs": [
    {
     "data": {
      "text/plain": [
       "Text(0.5, 1.0, 'Two-class Precision-Recall curve')"
      ]
     },
     "execution_count": 21,
     "metadata": {},
     "output_type": "execute_result"
    },
    {
     "data": {
      "image/png": "[encoded data removed]",
      "text/plain": [
       "<Figure size 432x288 with 1 Axes>"
      ]
     },
     "metadata": {
      "needs_background": "light"
     },
     "output_type": "display_data"
    }
   ],
   "source": [
    "from sklearn.metrics import plot_precision_recall_curve, plot_roc_curve\n",
    "from sklearn.metrics import average_precision_score\n",
    "\n",
    "average_precision = average_precision_score(test_set['sentiment'], y_pred)\n",
    "disp = plot_precision_recall_curve(sentiment_pipeline, test_set['review'], test_set['sentiment'])\n",
    "\n",
    "disp.ax_.set_title('Two-class Precision-Recall curve')"
   ]
  },
  {
   "cell_type": "code",
   "execution_count": 22,
   "metadata": {},
   "outputs": [
    {
     "data": {
      "text/plain": [
       "Text(0.5, 1.0, 'Two-class ROC curve')"
      ]
     },
     "execution_count": 22,
     "metadata": {},
     "output_type": "execute_result"
    },
    {
     "data": {
      "image/png": "[encoded data removed]",
      "text/plain": [
       "<Figure size 432x288 with 1 Axes>"
      ]
     },
     "metadata": {
      "needs_background": "light"
     },
     "output_type": "display_data"
    }
   ],
   "source": [
    "disp = plot_roc_curve(sentiment_pipeline, test_set['review'], test_set['sentiment'])\n",
    "disp.ax_.set_title('Two-class ROC curve')"
   ]
  },
  {
   "cell_type": "code",
   "execution_count": 23,
   "metadata": {},
   "outputs": [
    {
     "name": "stdout",
     "output_type": "stream",
     "text": [
      "The accuracy of the sentiment_pipeline is 0.9352064220183486\n"
     ]
    }
   ],
   "source": [
    "from sklearn.metrics import accuracy_score\n",
    "y_pred_selected_words = sentiment_pipeline.predict(test_set['review'])\n",
    "y_true_selected_words = test_set['sentiment']\n",
    "accuracy_score(y_true_selected_words, y_pred_selected_words)\n",
    "print('The accuracy of the sentiment_pipeline is',accuracy_score(y_true_selected_words, y_pred_selected_words))"
   ]
  },
  {
   "cell_type": "markdown",
   "metadata": {},
   "source": [
    "# Assignment\n",
    "## 1. Use .apply() to build a new feature with the counts for each of the selected_words."
   ]
  },
  {
   "cell_type": "code",
   "execution_count": 24,
   "metadata": {},
   "outputs": [],
   "source": [
    "selected_words = ['awesome', 'great', 'fantastic', 'amazing', 'love', 'horrible', 'bad', 'terrible', 'awful', 'wow', 'hate']"
   ]
  },
  {
   "cell_type": "code",
   "execution_count": 25,
   "metadata": {},
   "outputs": [],
   "source": [
    "def dictionary_count(row):\n",
    "    count_list = []\n",
    "    for word in selected_words:\n",
    "        count_list.append(row['word_count'].get(word, 0))\n",
    "    dictionary = dict(zip(selected_words, count_list))\n",
    "    row['selected_words'] = dictionary\n",
    "    return row\n",
    "\n",
    "data = data.apply(dictionary_count, axis=1)"
   ]
  },
  {
   "cell_type": "code",
   "execution_count": 26,
   "metadata": {},
   "outputs": [
    {
     "data": {
      "text/html": [
       "<div>\n",
       "<style scoped>\n",
       "    .dataframe tbody tr th:only-of-type {\n",
       "        vertical-align: middle;\n",
       "    }\n",
       "\n",
       "    .dataframe tbody tr th {\n",
       "        vertical-align: top;\n",
       "    }\n",
       "\n",
       "    .dataframe thead th {\n",
       "        text-align: right;\n",
       "    }\n",
       "</style>\n",
       "<table border=\"1\" class=\"dataframe\">\n",
       "  <thead>\n",
       "    <tr style=\"text-align: right;\">\n",
       "      <th></th>\n",
       "      <th>name</th>\n",
       "      <th>review</th>\n",
       "      <th>rating</th>\n",
       "      <th>word_count</th>\n",
       "      <th>sentiment</th>\n",
       "      <th>selected_words</th>\n",
       "    </tr>\n",
       "  </thead>\n",
       "  <tbody>\n",
       "    <tr>\n",
       "      <th>0</th>\n",
       "      <td>Planetwise Wipe Pouch</td>\n",
       "      <td>it came early and was not disappointed. i love...</td>\n",
       "      <td>5</td>\n",
       "      <td>{'and': 3, 'bags': 1, 'came': 1, 'disappointed...</td>\n",
       "      <td>1</td>\n",
       "      <td>{'awesome': 0, 'great': 0, 'fantastic': 0, 'am...</td>\n",
       "    </tr>\n",
       "    <tr>\n",
       "      <th>1</th>\n",
       "      <td>Annas Dream Full Quilt with 2 Shams</td>\n",
       "      <td>Very soft and comfortable and warmer than it l...</td>\n",
       "      <td>5</td>\n",
       "      <td>{'and': 2, 'anyone': 1, 'bed': 1, 'comfortable...</td>\n",
       "      <td>1</td>\n",
       "      <td>{'awesome': 0, 'great': 0, 'fantastic': 0, 'am...</td>\n",
       "    </tr>\n",
       "    <tr>\n",
       "      <th>2</th>\n",
       "      <td>Stop Pacifier Sucking without tears with Thumb...</td>\n",
       "      <td>This is a product well worth the purchase.  I ...</td>\n",
       "      <td>5</td>\n",
       "      <td>{'a': 2, 'about': 1, 'and': 3, 'anything': 1, ...</td>\n",
       "      <td>1</td>\n",
       "      <td>{'awesome': 0, 'great': 0, 'fantastic': 0, 'am...</td>\n",
       "    </tr>\n",
       "    <tr>\n",
       "      <th>3</th>\n",
       "      <td>Stop Pacifier Sucking without tears with Thumb...</td>\n",
       "      <td>All of my kids have cried non-stop when I trie...</td>\n",
       "      <td>5</td>\n",
       "      <td>{'a': 2, 'all': 2, 'allow': 1, 'an': 1, 'and':...</td>\n",
       "      <td>1</td>\n",
       "      <td>{'awesome': 0, 'great': 1, 'fantastic': 0, 'am...</td>\n",
       "    </tr>\n",
       "    <tr>\n",
       "      <th>4</th>\n",
       "      <td>Stop Pacifier Sucking without tears with Thumb...</td>\n",
       "      <td>When the Binky Fairy came to our house, we did...</td>\n",
       "      <td>5</td>\n",
       "      <td>{'a': 2, 'about': 2, 'adorable': 1, 'and': 2, ...</td>\n",
       "      <td>1</td>\n",
       "      <td>{'awesome': 0, 'great': 1, 'fantastic': 0, 'am...</td>\n",
       "    </tr>\n",
       "  </tbody>\n",
       "</table>\n",
       "</div>"
      ],
      "text/plain": [
       "                                                name  \\\n",
       "0                              Planetwise Wipe Pouch   \n",
       "1                Annas Dream Full Quilt with 2 Shams   \n",
       "2  Stop Pacifier Sucking without tears with Thumb...   \n",
       "3  Stop Pacifier Sucking without tears with Thumb...   \n",
       "4  Stop Pacifier Sucking without tears with Thumb...   \n",
       "\n",
       "                                              review  rating  \\\n",
       "0  it came early and was not disappointed. i love...       5   \n",
       "1  Very soft and comfortable and warmer than it l...       5   \n",
       "2  This is a product well worth the purchase.  I ...       5   \n",
       "3  All of my kids have cried non-stop when I trie...       5   \n",
       "4  When the Binky Fairy came to our house, we did...       5   \n",
       "\n",
       "                                          word_count  sentiment  \\\n",
       "0  {'and': 3, 'bags': 1, 'came': 1, 'disappointed...          1   \n",
       "1  {'and': 2, 'anyone': 1, 'bed': 1, 'comfortable...          1   \n",
       "2  {'a': 2, 'about': 1, 'and': 3, 'anything': 1, ...          1   \n",
       "3  {'a': 2, 'all': 2, 'allow': 1, 'an': 1, 'and':...          1   \n",
       "4  {'a': 2, 'about': 2, 'adorable': 1, 'and': 2, ...          1   \n",
       "\n",
       "                                      selected_words  \n",
       "0  {'awesome': 0, 'great': 0, 'fantastic': 0, 'am...  \n",
       "1  {'awesome': 0, 'great': 0, 'fantastic': 0, 'am...  \n",
       "2  {'awesome': 0, 'great': 0, 'fantastic': 0, 'am...  \n",
       "3  {'awesome': 0, 'great': 1, 'fantastic': 0, 'am...  \n",
       "4  {'awesome': 0, 'great': 1, 'fantastic': 0, 'am...  "
      ]
     },
     "execution_count": 26,
     "metadata": {},
     "output_type": "execute_result"
    }
   ],
   "source": [
    "data.head()"
   ]
  },
  {
   "cell_type": "code",
   "execution_count": 27,
   "metadata": {},
   "outputs": [],
   "source": [
    "from collections import Counter\n",
    "\n",
    "counts = sum(map(Counter, data['selected_words']), Counter())\n",
    "results = pd.DataFrame.from_dict(counts, orient='index', columns=['Sums'])\\\n",
    "            .sort_values(by=['Sums'], ascending=False)"
   ]
  },
  {
   "cell_type": "code",
   "execution_count": 28,
   "metadata": {},
   "outputs": [
    {
     "data": {
      "text/html": [
       "<div>\n",
       "<style scoped>\n",
       "    .dataframe tbody tr th:only-of-type {\n",
       "        vertical-align: middle;\n",
       "    }\n",
       "\n",
       "    .dataframe tbody tr th {\n",
       "        vertical-align: top;\n",
       "    }\n",
       "\n",
       "    .dataframe thead th {\n",
       "        text-align: right;\n",
       "    }\n",
       "</style>\n",
       "<table border=\"1\" class=\"dataframe\">\n",
       "  <thead>\n",
       "    <tr style=\"text-align: right;\">\n",
       "      <th></th>\n",
       "      <th>Sums</th>\n",
       "    </tr>\n",
       "  </thead>\n",
       "  <tbody>\n",
       "    <tr>\n",
       "      <th>great</th>\n",
       "      <td>45238</td>\n",
       "    </tr>\n",
       "    <tr>\n",
       "      <th>love</th>\n",
       "      <td>40894</td>\n",
       "    </tr>\n",
       "    <tr>\n",
       "      <th>bad</th>\n",
       "      <td>3490</td>\n",
       "    </tr>\n",
       "    <tr>\n",
       "      <th>awesome</th>\n",
       "      <td>2247</td>\n",
       "    </tr>\n",
       "    <tr>\n",
       "      <th>amazing</th>\n",
       "      <td>1466</td>\n",
       "    </tr>\n",
       "    <tr>\n",
       "      <th>hate</th>\n",
       "      <td>1083</td>\n",
       "    </tr>\n",
       "    <tr>\n",
       "      <th>fantastic</th>\n",
       "      <td>983</td>\n",
       "    </tr>\n",
       "    <tr>\n",
       "      <th>terrible</th>\n",
       "      <td>745</td>\n",
       "    </tr>\n",
       "    <tr>\n",
       "      <th>horrible</th>\n",
       "      <td>743</td>\n",
       "    </tr>\n",
       "    <tr>\n",
       "      <th>awful</th>\n",
       "      <td>393</td>\n",
       "    </tr>\n",
       "    <tr>\n",
       "      <th>wow</th>\n",
       "      <td>235</td>\n",
       "    </tr>\n",
       "  </tbody>\n",
       "</table>\n",
       "</div>"
      ],
      "text/plain": [
       "            Sums\n",
       "great      45238\n",
       "love       40894\n",
       "bad         3490\n",
       "awesome     2247\n",
       "amazing     1466\n",
       "hate        1083\n",
       "fantastic    983\n",
       "terrible     745\n",
       "horrible     743\n",
       "awful        393\n",
       "wow          235"
      ]
     },
     "execution_count": 28,
     "metadata": {},
     "output_type": "execute_result"
    }
   ],
   "source": [
    "results"
   ]
  },
  {
   "cell_type": "markdown",
   "metadata": {},
   "source": [
    "## 2. Create a new sentiment analysis model using only the selected_words as features"
   ]
  },
  {
   "cell_type": "code",
   "execution_count": 29,
   "metadata": {},
   "outputs": [
    {
     "data": {
      "text/html": [
       "<style>div.sk-top-container {color: black;background-color: white;}div.sk-toggleable {background-color: white;}label.sk-toggleable__label {cursor: pointer;display: block;width: 100%;margin-bottom: 0;padding: 0.2em 0.3em;box-sizing: border-box;text-align: center;}div.sk-toggleable__content {max-height: 0;max-width: 0;overflow: hidden;text-align: left;background-color: #f0f8ff;}div.sk-toggleable__content pre {margin: 0.2em;color: black;border-radius: 0.25em;background-color: #f0f8ff;}input.sk-toggleable__control:checked~div.sk-toggleable__content {max-height: 200px;max-width: 100%;overflow: auto;}div.sk-estimator input.sk-toggleable__control:checked~label.sk-toggleable__label {background-color: #d4ebff;}div.sk-label input.sk-toggleable__control:checked~label.sk-toggleable__label {background-color: #d4ebff;}input.sk-hidden--visually {border: 0;clip: rect(1px 1px 1px 1px);clip: rect(1px, 1px, 1px, 1px);height: 1px;margin: -1px;overflow: hidden;padding: 0;position: absolute;width: 1px;}div.sk-estimator {font-family: monospace;background-color: #f0f8ff;margin: 0.25em 0.25em;border: 1px dotted black;border-radius: 0.25em;box-sizing: border-box;}div.sk-estimator:hover {background-color: #d4ebff;}div.sk-parallel-item::after {content: \"\";width: 100%;border-bottom: 1px solid gray;flex-grow: 1;}div.sk-label:hover label.sk-toggleable__label {background-color: #d4ebff;}div.sk-serial::before {content: \"\";position: absolute;border-left: 1px solid gray;box-sizing: border-box;top: 2em;bottom: 0;left: 50%;}div.sk-serial {display: flex;flex-direction: column;align-items: center;background-color: white;}div.sk-item {z-index: 1;}div.sk-parallel {display: flex;align-items: stretch;justify-content: center;background-color: white;}div.sk-parallel-item {display: flex;flex-direction: column;position: relative;background-color: white;}div.sk-parallel-item:first-child::after {align-self: flex-end;width: 50%;}div.sk-parallel-item:last-child::after {align-self: flex-start;width: 50%;}div.sk-parallel-item:only-child::after {width: 0;}div.sk-dashed-wrapped {border: 1px dashed gray;margin: 0.2em;box-sizing: border-box;padding-bottom: 0.1em;background-color: white;position: relative;}div.sk-label label {font-family: monospace;font-weight: bold;background-color: white;display: inline-block;line-height: 1.2em;}div.sk-label-container {position: relative;z-index: 2;text-align: center;}div.sk-container {display: inline-block;position: relative;}</style><div class=\"sk-top-container\"><div class=\"sk-container\"><div class=\"sk-item sk-dashed-wrapped\"><div class=\"sk-label-container\"><div class=\"sk-label sk-toggleable\"><input class=\"sk-toggleable__control sk-hidden--visually\" id=\"a42b9742-b0f0-4989-8989-922c9cf90a82\" type=\"checkbox\" ><label class=\"sk-toggleable__label\" for=\"a42b9742-b0f0-4989-8989-922c9cf90a82\">Pipeline</label><div class=\"sk-toggleable__content\"><pre>Pipeline(steps=[('Dictionary_Vectorizer',\n",
       "                 DictVectorizer(sort=False, sparse=False)),\n",
       "                ('Scaler', StandardScaler()),\n",
       "                ('Logistic_Regression',\n",
       "                 LogisticRegression(class_weight='dict', max_iter=1000))],\n",
       "         verbose=True)</pre></div></div></div><div class=\"sk-serial\"><div class=\"sk-item\"><div class=\"sk-estimator sk-toggleable\"><input class=\"sk-toggleable__control sk-hidden--visually\" id=\"81384958-8cb0-47b2-88ff-2e36264ff5dd\" type=\"checkbox\" ><label class=\"sk-toggleable__label\" for=\"81384958-8cb0-47b2-88ff-2e36264ff5dd\">DictVectorizer</label><div class=\"sk-toggleable__content\"><pre>DictVectorizer(sort=False, sparse=False)</pre></div></div></div><div class=\"sk-item\"><div class=\"sk-estimator sk-toggleable\"><input class=\"sk-toggleable__control sk-hidden--visually\" id=\"206e430f-e9c5-4a61-ba73-6ddcbcfed02c\" type=\"checkbox\" ><label class=\"sk-toggleable__label\" for=\"206e430f-e9c5-4a61-ba73-6ddcbcfed02c\">StandardScaler</label><div class=\"sk-toggleable__content\"><pre>StandardScaler()</pre></div></div></div><div class=\"sk-item\"><div class=\"sk-estimator sk-toggleable\"><input class=\"sk-toggleable__control sk-hidden--visually\" id=\"8b9ccdba-4b3c-4dd6-8afd-6babf30efe04\" type=\"checkbox\" ><label class=\"sk-toggleable__label\" for=\"8b9ccdba-4b3c-4dd6-8afd-6babf30efe04\">LogisticRegression</label><div class=\"sk-toggleable__content\"><pre>LogisticRegression(class_weight='dict', max_iter=1000)</pre></div></div></div></div></div></div></div>"
      ],
      "text/plain": [
       "Pipeline(steps=[('Dictionary_Vectorizer',\n",
       "                 DictVectorizer(sort=False, sparse=False)),\n",
       "                ('Scaler', StandardScaler()),\n",
       "                ('Logistic_Regression',\n",
       "                 LogisticRegression(class_weight='dict', max_iter=1000))],\n",
       "         verbose=True)"
      ]
     },
     "execution_count": 29,
     "metadata": {},
     "output_type": "execute_result"
    }
   ],
   "source": [
    "from sklearn.preprocessing import StandardScaler\n",
    "from sklearn.feature_extraction import DictVectorizer\n",
    "from sklearn.preprocessing import Normalizer\n",
    "\n",
    "selected_words_pipeline = Pipeline(\n",
    "    [\n",
    "        ('Dictionary_Vectorizer', DictVectorizer(sparse=False, sort=False)),\n",
    "        ('Scaler', StandardScaler()),\n",
    "        ('Logistic_Regression', LogisticRegression(solver='lbfgs', max_iter=1000, class_weight='dict'))\n",
    "    ],\n",
    "    verbose=True\n",
    ")\n",
    "\n",
    "from sklearn import set_config\n",
    "set_config(display='diagram')\n",
    "selected_words_pipeline"
   ]
  },
  {
   "cell_type": "markdown",
   "metadata": {},
   "source": [
    "### Train-Test split"
   ]
  },
  {
   "cell_type": "code",
   "execution_count": 30,
   "metadata": {},
   "outputs": [],
   "source": [
    "train_set, test_set = train_test_split(data, test_size=0.2, random_state=15)"
   ]
  },
  {
   "cell_type": "markdown",
   "metadata": {},
   "source": [
    "### Training the selected_words_pipeline"
   ]
  },
  {
   "cell_type": "code",
   "execution_count": 31,
   "metadata": {},
   "outputs": [
    {
     "name": "stdout",
     "output_type": "stream",
     "text": [
      "[Pipeline]  (step 1 of 3) Processing Dictionary_Vectorizer, total=   2.9s\n",
      "[Pipeline] ............ (step 2 of 3) Processing Scaler, total=   0.4s\n",
      "[Pipeline]  (step 3 of 3) Processing Logistic_Regression, total=   1.7s\n"
     ]
    },
    {
     "data": {
      "text/html": [
       "<style>div.sk-top-container {color: black;background-color: white;}div.sk-toggleable {background-color: white;}label.sk-toggleable__label {cursor: pointer;display: block;width: 100%;margin-bottom: 0;padding: 0.2em 0.3em;box-sizing: border-box;text-align: center;}div.sk-toggleable__content {max-height: 0;max-width: 0;overflow: hidden;text-align: left;background-color: #f0f8ff;}div.sk-toggleable__content pre {margin: 0.2em;color: black;border-radius: 0.25em;background-color: #f0f8ff;}input.sk-toggleable__control:checked~div.sk-toggleable__content {max-height: 200px;max-width: 100%;overflow: auto;}div.sk-estimator input.sk-toggleable__control:checked~label.sk-toggleable__label {background-color: #d4ebff;}div.sk-label input.sk-toggleable__control:checked~label.sk-toggleable__label {background-color: #d4ebff;}input.sk-hidden--visually {border: 0;clip: rect(1px 1px 1px 1px);clip: rect(1px, 1px, 1px, 1px);height: 1px;margin: -1px;overflow: hidden;padding: 0;position: absolute;width: 1px;}div.sk-estimator {font-family: monospace;background-color: #f0f8ff;margin: 0.25em 0.25em;border: 1px dotted black;border-radius: 0.25em;box-sizing: border-box;}div.sk-estimator:hover {background-color: #d4ebff;}div.sk-parallel-item::after {content: \"\";width: 100%;border-bottom: 1px solid gray;flex-grow: 1;}div.sk-label:hover label.sk-toggleable__label {background-color: #d4ebff;}div.sk-serial::before {content: \"\";position: absolute;border-left: 1px solid gray;box-sizing: border-box;top: 2em;bottom: 0;left: 50%;}div.sk-serial {display: flex;flex-direction: column;align-items: center;background-color: white;}div.sk-item {z-index: 1;}div.sk-parallel {display: flex;align-items: stretch;justify-content: center;background-color: white;}div.sk-parallel-item {display: flex;flex-direction: column;position: relative;background-color: white;}div.sk-parallel-item:first-child::after {align-self: flex-end;width: 50%;}div.sk-parallel-item:last-child::after {align-self: flex-start;width: 50%;}div.sk-parallel-item:only-child::after {width: 0;}div.sk-dashed-wrapped {border: 1px dashed gray;margin: 0.2em;box-sizing: border-box;padding-bottom: 0.1em;background-color: white;position: relative;}div.sk-label label {font-family: monospace;font-weight: bold;background-color: white;display: inline-block;line-height: 1.2em;}div.sk-label-container {position: relative;z-index: 2;text-align: center;}div.sk-container {display: inline-block;position: relative;}</style><div class=\"sk-top-container\"><div class=\"sk-container\"><div class=\"sk-item sk-dashed-wrapped\"><div class=\"sk-label-container\"><div class=\"sk-label sk-toggleable\"><input class=\"sk-toggleable__control sk-hidden--visually\" id=\"25032899-7b96-45d4-a06a-3c101fb7171c\" type=\"checkbox\" ><label class=\"sk-toggleable__label\" for=\"25032899-7b96-45d4-a06a-3c101fb7171c\">Pipeline</label><div class=\"sk-toggleable__content\"><pre>Pipeline(steps=[('Dictionary_Vectorizer',\n",
       "                 DictVectorizer(sort=False, sparse=False)),\n",
       "                ('Scaler', StandardScaler()),\n",
       "                ('Logistic_Regression',\n",
       "                 LogisticRegression(class_weight='dict', max_iter=1000))],\n",
       "         verbose=True)</pre></div></div></div><div class=\"sk-serial\"><div class=\"sk-item\"><div class=\"sk-estimator sk-toggleable\"><input class=\"sk-toggleable__control sk-hidden--visually\" id=\"d868512f-1a00-442a-84c7-3e81b77fdfb1\" type=\"checkbox\" ><label class=\"sk-toggleable__label\" for=\"d868512f-1a00-442a-84c7-3e81b77fdfb1\">DictVectorizer</label><div class=\"sk-toggleable__content\"><pre>DictVectorizer(sort=False, sparse=False)</pre></div></div></div><div class=\"sk-item\"><div class=\"sk-estimator sk-toggleable\"><input class=\"sk-toggleable__control sk-hidden--visually\" id=\"a70aa071-5dce-4fbc-ab13-44ca1e2c2fab\" type=\"checkbox\" ><label class=\"sk-toggleable__label\" for=\"a70aa071-5dce-4fbc-ab13-44ca1e2c2fab\">StandardScaler</label><div class=\"sk-toggleable__content\"><pre>StandardScaler()</pre></div></div></div><div class=\"sk-item\"><div class=\"sk-estimator sk-toggleable\"><input class=\"sk-toggleable__control sk-hidden--visually\" id=\"333b6cfb-c1c7-43a9-a8cd-177024839cdb\" type=\"checkbox\" ><label class=\"sk-toggleable__label\" for=\"333b6cfb-c1c7-43a9-a8cd-177024839cdb\">LogisticRegression</label><div class=\"sk-toggleable__content\"><pre>LogisticRegression(class_weight='dict', max_iter=1000)</pre></div></div></div></div></div></div></div>"
      ],
      "text/plain": [
       "Pipeline(steps=[('Dictionary_Vectorizer',\n",
       "                 DictVectorizer(sort=False, sparse=False)),\n",
       "                ('Scaler', StandardScaler()),\n",
       "                ('Logistic_Regression',\n",
       "                 LogisticRegression(class_weight='dict', max_iter=1000))],\n",
       "         verbose=True)"
      ]
     },
     "execution_count": 31,
     "metadata": {},
     "output_type": "execute_result"
    }
   ],
   "source": [
    "selected_words_pipeline.fit(train_set['selected_words'], train_set['sentiment'])"
   ]
  },
  {
   "cell_type": "markdown",
   "metadata": {},
   "source": [
    "### selected_words_pipeline Metrics"
   ]
  },
  {
   "cell_type": "code",
   "execution_count": 32,
   "metadata": {},
   "outputs": [
    {
     "name": "stdout",
     "output_type": "stream",
     "text": [
      "Classification report:\n",
      "\n",
      "              precision    recall  f1-score   support\n",
      "\n",
      "           0       0.63      0.05      0.09      5292\n",
      "           1       0.85      0.99      0.91     27844\n",
      "\n",
      "    accuracy                           0.84     33136\n",
      "   macro avg       0.74      0.52      0.50     33136\n",
      "weighted avg       0.81      0.84      0.78     33136\n",
      "\n"
     ]
    }
   ],
   "source": [
    "from sklearn.metrics import classification_report\n",
    "\n",
    "y_pred = selected_words_pipeline.predict(test_set['selected_words'])\n",
    "print('Classification report:\\n\\n{}'.format(\n",
    "    classification_report(test_set['sentiment'], y_pred))\n",
    ")"
   ]
  },
  {
   "cell_type": "code",
   "execution_count": 33,
   "metadata": {},
   "outputs": [
    {
     "data": {
      "image/png": "[encoded data removed]",
      "text/plain": [
       "<Figure size 432x288 with 1 Axes>"
      ]
     },
     "metadata": {
      "needs_background": "light"
     },
     "output_type": "display_data"
    }
   ],
   "source": [
    "disp = plot_learning_curve(selected_words_pipeline, 'selected_words_pipeline Learning Curves', \\\n",
    "                           train_set['selected_words'], train_set['sentiment'])"
   ]
  },
  {
   "cell_type": "code",
   "execution_count": 34,
   "metadata": {},
   "outputs": [
    {
     "data": {
      "text/plain": [
       "Text(0.5, 1.0, 'Two-class Precision-Recall curve')"
      ]
     },
     "execution_count": 34,
     "metadata": {},
     "output_type": "execute_result"
    },
    {
     "data": {
      "image/png": "[encoded data removed]",
      "text/plain": [
       "<Figure size 432x288 with 1 Axes>"
      ]
     },
     "metadata": {
      "needs_background": "light"
     },
     "output_type": "display_data"
    }
   ],
   "source": [
    "average_precision = average_precision_score(test_set['sentiment'], y_pred)\n",
    "disp = plot_precision_recall_curve(selected_words_pipeline, test_set['selected_words'], test_set['sentiment'])\n",
    "\n",
    "disp.ax_.set_title('Two-class Precision-Recall curve')"
   ]
  },
  {
   "cell_type": "code",
   "execution_count": 35,
   "metadata": {},
   "outputs": [
    {
     "data": {
      "text/plain": [
       "Text(0.5, 1.0, 'Two-class POC curve')"
      ]
     },
     "execution_count": 35,
     "metadata": {},
     "output_type": "execute_result"
    },
    {
     "data": {
      "image/png": "[encoded data removed]",
      "text/plain": [
       "<Figure size 432x288 with 1 Axes>"
      ]
     },
     "metadata": {
      "needs_background": "light"
     },
     "output_type": "display_data"
    }
   ],
   "source": [
    "disp = plot_roc_curve(selected_words_pipeline, test_set['selected_words'], test_set['sentiment'])\n",
    "disp.ax_.set_title('Two-class POC curve')"
   ]
  },
  {
   "cell_type": "code",
   "execution_count": 36,
   "metadata": {},
   "outputs": [
    {
     "data": {
      "text/html": [
       "<div>\n",
       "<style scoped>\n",
       "    .dataframe tbody tr th:only-of-type {\n",
       "        vertical-align: middle;\n",
       "    }\n",
       "\n",
       "    .dataframe tbody tr th {\n",
       "        vertical-align: top;\n",
       "    }\n",
       "\n",
       "    .dataframe thead th {\n",
       "        text-align: right;\n",
       "    }\n",
       "</style>\n",
       "<table border=\"1\" class=\"dataframe\">\n",
       "  <thead>\n",
       "    <tr style=\"text-align: right;\">\n",
       "      <th></th>\n",
       "      <th>Weights</th>\n",
       "    </tr>\n",
       "  </thead>\n",
       "  <tbody>\n",
       "    <tr>\n",
       "      <th>love</th>\n",
       "      <td>0.811297</td>\n",
       "    </tr>\n",
       "    <tr>\n",
       "      <th>great</th>\n",
       "      <td>0.462001</td>\n",
       "    </tr>\n",
       "    <tr>\n",
       "      <th>awesome</th>\n",
       "      <td>0.133644</td>\n",
       "    </tr>\n",
       "    <tr>\n",
       "      <th>amazing</th>\n",
       "      <td>0.076674</td>\n",
       "    </tr>\n",
       "    <tr>\n",
       "      <th>fantastic</th>\n",
       "      <td>0.066782</td>\n",
       "    </tr>\n",
       "    <tr>\n",
       "      <th>wow</th>\n",
       "      <td>0.000854</td>\n",
       "    </tr>\n",
       "    <tr>\n",
       "      <th>awful</th>\n",
       "      <td>-0.086924</td>\n",
       "    </tr>\n",
       "    <tr>\n",
       "      <th>hate</th>\n",
       "      <td>-0.127513</td>\n",
       "    </tr>\n",
       "    <tr>\n",
       "      <th>terrible</th>\n",
       "      <td>-0.141622</td>\n",
       "    </tr>\n",
       "    <tr>\n",
       "      <th>horrible</th>\n",
       "      <td>-0.146415</td>\n",
       "    </tr>\n",
       "    <tr>\n",
       "      <th>bad</th>\n",
       "      <td>-0.148567</td>\n",
       "    </tr>\n",
       "  </tbody>\n",
       "</table>\n",
       "</div>"
      ],
      "text/plain": [
       "            Weights\n",
       "love       0.811297\n",
       "great      0.462001\n",
       "awesome    0.133644\n",
       "amazing    0.076674\n",
       "fantastic  0.066782\n",
       "wow        0.000854\n",
       "awful     -0.086924\n",
       "hate      -0.127513\n",
       "terrible  -0.141622\n",
       "horrible  -0.146415\n",
       "bad       -0.148567"
      ]
     },
     "execution_count": 36,
     "metadata": {},
     "output_type": "execute_result"
    }
   ],
   "source": [
    "weights = dict(zip(selected_words, selected_words_pipeline['Logistic_Regression'].coef_[0]))\n",
    "sorted_weights = pd.DataFrame.from_dict(weights, orient='index', columns=['Weights'])\\\n",
    "                                        .sort_values(by=['Weights'], ascending=False)\n",
    "sorted_weights"
   ]
  },
  {
   "cell_type": "markdown",
   "metadata": {},
   "source": [
    "## 3. Comparing the accuracy of different sentiment analysis models: Using .predict()\n",
    "\n",
    "In this task the accuracy of the sentiment_pipeline, selected_words_pipeline and majority_class. The first one has been calculated above."
   ]
  },
  {
   "cell_type": "code",
   "execution_count": 37,
   "metadata": {},
   "outputs": [
    {
     "name": "stdout",
     "output_type": "stream",
     "text": [
      "The accuracy of the selected_words_pipeline is 0.8434633027522935\n"
     ]
    }
   ],
   "source": [
    "from sklearn.metrics import accuracy_score\n",
    "y_pred_selected_words = selected_words_pipeline.predict(test_set['selected_words'])\n",
    "y_true_selected_words = test_set['sentiment']\n",
    "accuracy_score(y_true_selected_words, y_pred_selected_words)\n",
    "print('The accuracy of the selected_words_pipeline is', \n",
    "      accuracy_score(y_true_selected_words, y_pred_selected_words))"
   ]
  },
  {
   "cell_type": "code",
   "execution_count": 38,
   "metadata": {},
   "outputs": [
    {
     "data": {
      "text/plain": [
       "0.8402945436986963"
      ]
     },
     "execution_count": 38,
     "metadata": {},
     "output_type": "execute_result"
    }
   ],
   "source": [
    "majority_class = float(test_set[test_set['sentiment'] == 1].shape[0] / test_set.shape[0])\n",
    "majority_class"
   ]
  },
  {
   "cell_type": "markdown",
   "metadata": {},
   "source": [
    "## 4. Interpreting the difference in performance between the models"
   ]
  },
  {
   "cell_type": "code",
   "execution_count": 39,
   "metadata": {},
   "outputs": [
    {
     "data": {
      "text/html": [
       "<div>\n",
       "<style scoped>\n",
       "    .dataframe tbody tr th:only-of-type {\n",
       "        vertical-align: middle;\n",
       "    }\n",
       "\n",
       "    .dataframe tbody tr th {\n",
       "        vertical-align: top;\n",
       "    }\n",
       "\n",
       "    .dataframe thead th {\n",
       "        text-align: right;\n",
       "    }\n",
       "</style>\n",
       "<table border=\"1\" class=\"dataframe\">\n",
       "  <thead>\n",
       "    <tr style=\"text-align: right;\">\n",
       "      <th></th>\n",
       "      <th>review</th>\n",
       "      <th>selected_words</th>\n",
       "      <th>sentiment</th>\n",
       "    </tr>\n",
       "  </thead>\n",
       "  <tbody>\n",
       "    <tr>\n",
       "      <th>284</th>\n",
       "      <td>Ok - newsflash.  Diapers are just smelly.  We\\...</td>\n",
       "      <td>{'awesome': 0, 'great': 0, 'fantastic': 0, 'am...</td>\n",
       "      <td>1</td>\n",
       "    </tr>\n",
       "    <tr>\n",
       "      <th>285</th>\n",
       "      <td>My husband and I selected the Diaper \"Champ\" m...</td>\n",
       "      <td>{'awesome': 0, 'great': 0, 'fantastic': 0, 'am...</td>\n",
       "      <td>0</td>\n",
       "    </tr>\n",
       "    <tr>\n",
       "      <th>286</th>\n",
       "      <td>Excellent diaper disposal unit.  I used it in ...</td>\n",
       "      <td>{'awesome': 0, 'great': 0, 'fantastic': 0, 'am...</td>\n",
       "      <td>1</td>\n",
       "    </tr>\n",
       "    <tr>\n",
       "      <th>287</th>\n",
       "      <td>We love our diaper champ.  It is very easy to ...</td>\n",
       "      <td>{'awesome': 0, 'great': 0, 'fantastic': 0, 'am...</td>\n",
       "      <td>1</td>\n",
       "    </tr>\n",
       "    <tr>\n",
       "      <th>288</th>\n",
       "      <td>Two girlfriends and two family members put me ...</td>\n",
       "      <td>{'awesome': 0, 'great': 0, 'fantastic': 0, 'am...</td>\n",
       "      <td>1</td>\n",
       "    </tr>\n",
       "    <tr>\n",
       "      <th>...</th>\n",
       "      <td>...</td>\n",
       "      <td>...</td>\n",
       "      <td>...</td>\n",
       "    </tr>\n",
       "    <tr>\n",
       "      <th>577</th>\n",
       "      <td>Its a good product because its easy to use, an...</td>\n",
       "      <td>{'awesome': 0, 'great': 0, 'fantastic': 0, 'am...</td>\n",
       "      <td>1</td>\n",
       "    </tr>\n",
       "    <tr>\n",
       "      <th>578</th>\n",
       "      <td>this works really well.  I found it easier tha...</td>\n",
       "      <td>{'awesome': 0, 'great': 0, 'fantastic': 0, 'am...</td>\n",
       "      <td>1</td>\n",
       "    </tr>\n",
       "    <tr>\n",
       "      <th>579</th>\n",
       "      <td>This truly is the champ of diapers. This produ...</td>\n",
       "      <td>{'awesome': 0, 'great': 1, 'fantastic': 0, 'am...</td>\n",
       "      <td>1</td>\n",
       "    </tr>\n",
       "    <tr>\n",
       "      <th>580</th>\n",
       "      <td>I\\'ve read all of the reviews of those of you ...</td>\n",
       "      <td>{'awesome': 0, 'great': 0, 'fantastic': 0, 'am...</td>\n",
       "      <td>0</td>\n",
       "    </tr>\n",
       "    <tr>\n",
       "      <th>581</th>\n",
       "      <td>I see that there are complaints of stinkiness ...</td>\n",
       "      <td>{'awesome': 0, 'great': 0, 'fantastic': 0, 'am...</td>\n",
       "      <td>1</td>\n",
       "    </tr>\n",
       "  </tbody>\n",
       "</table>\n",
       "<p>298 rows × 3 columns</p>\n",
       "</div>"
      ],
      "text/plain": [
       "                                                review  \\\n",
       "284  Ok - newsflash.  Diapers are just smelly.  We\\...   \n",
       "285  My husband and I selected the Diaper \"Champ\" m...   \n",
       "286  Excellent diaper disposal unit.  I used it in ...   \n",
       "287  We love our diaper champ.  It is very easy to ...   \n",
       "288  Two girlfriends and two family members put me ...   \n",
       "..                                                 ...   \n",
       "577  Its a good product because its easy to use, an...   \n",
       "578  this works really well.  I found it easier tha...   \n",
       "579  This truly is the champ of diapers. This produ...   \n",
       "580  I\\'ve read all of the reviews of those of you ...   \n",
       "581  I see that there are complaints of stinkiness ...   \n",
       "\n",
       "                                        selected_words  sentiment  \n",
       "284  {'awesome': 0, 'great': 0, 'fantastic': 0, 'am...          1  \n",
       "285  {'awesome': 0, 'great': 0, 'fantastic': 0, 'am...          0  \n",
       "286  {'awesome': 0, 'great': 0, 'fantastic': 0, 'am...          1  \n",
       "287  {'awesome': 0, 'great': 0, 'fantastic': 0, 'am...          1  \n",
       "288  {'awesome': 0, 'great': 0, 'fantastic': 0, 'am...          1  \n",
       "..                                                 ...        ...  \n",
       "577  {'awesome': 0, 'great': 0, 'fantastic': 0, 'am...          1  \n",
       "578  {'awesome': 0, 'great': 0, 'fantastic': 0, 'am...          1  \n",
       "579  {'awesome': 0, 'great': 1, 'fantastic': 0, 'am...          1  \n",
       "580  {'awesome': 0, 'great': 0, 'fantastic': 0, 'am...          0  \n",
       "581  {'awesome': 0, 'great': 0, 'fantastic': 0, 'am...          1  \n",
       "\n",
       "[298 rows x 3 columns]"
      ]
     },
     "execution_count": 39,
     "metadata": {},
     "output_type": "execute_result"
    }
   ],
   "source": [
    "diaper_champ_reviews = data.loc[data['name']=='Baby Trend Diaper Champ', ['review', 'selected_words', 'sentiment']]\n",
    "diaper_champ_reviews"
   ]
  },
  {
   "cell_type": "code",
   "execution_count": 40,
   "metadata": {},
   "outputs": [
    {
     "data": {
      "text/html": [
       "<div>\n",
       "<style scoped>\n",
       "    .dataframe tbody tr th:only-of-type {\n",
       "        vertical-align: middle;\n",
       "    }\n",
       "\n",
       "    .dataframe tbody tr th {\n",
       "        vertical-align: top;\n",
       "    }\n",
       "\n",
       "    .dataframe thead th {\n",
       "        text-align: right;\n",
       "    }\n",
       "</style>\n",
       "<table border=\"1\" class=\"dataframe\">\n",
       "  <thead>\n",
       "    <tr style=\"text-align: right;\">\n",
       "      <th></th>\n",
       "      <th>review</th>\n",
       "      <th>selected_words</th>\n",
       "      <th>sentiment</th>\n",
       "      <th>predicted_sentiment</th>\n",
       "    </tr>\n",
       "  </thead>\n",
       "  <tbody>\n",
       "    <tr>\n",
       "      <th>284</th>\n",
       "      <td>Ok - newsflash.  Diapers are just smelly.  We\\...</td>\n",
       "      <td>{'awesome': 0, 'great': 0, 'fantastic': 0, 'am...</td>\n",
       "      <td>1</td>\n",
       "      <td>0.748889</td>\n",
       "    </tr>\n",
       "    <tr>\n",
       "      <th>285</th>\n",
       "      <td>My husband and I selected the Diaper \"Champ\" m...</td>\n",
       "      <td>{'awesome': 0, 'great': 0, 'fantastic': 0, 'am...</td>\n",
       "      <td>0</td>\n",
       "      <td>0.474957</td>\n",
       "    </tr>\n",
       "    <tr>\n",
       "      <th>286</th>\n",
       "      <td>Excellent diaper disposal unit.  I used it in ...</td>\n",
       "      <td>{'awesome': 0, 'great': 0, 'fantastic': 0, 'am...</td>\n",
       "      <td>1</td>\n",
       "      <td>0.989841</td>\n",
       "    </tr>\n",
       "    <tr>\n",
       "      <th>287</th>\n",
       "      <td>We love our diaper champ.  It is very easy to ...</td>\n",
       "      <td>{'awesome': 0, 'great': 0, 'fantastic': 0, 'am...</td>\n",
       "      <td>1</td>\n",
       "      <td>0.953583</td>\n",
       "    </tr>\n",
       "    <tr>\n",
       "      <th>288</th>\n",
       "      <td>Two girlfriends and two family members put me ...</td>\n",
       "      <td>{'awesome': 0, 'great': 0, 'fantastic': 0, 'am...</td>\n",
       "      <td>1</td>\n",
       "      <td>0.755285</td>\n",
       "    </tr>\n",
       "    <tr>\n",
       "      <th>...</th>\n",
       "      <td>...</td>\n",
       "      <td>...</td>\n",
       "      <td>...</td>\n",
       "      <td>...</td>\n",
       "    </tr>\n",
       "    <tr>\n",
       "      <th>577</th>\n",
       "      <td>Its a good product because its easy to use, an...</td>\n",
       "      <td>{'awesome': 0, 'great': 0, 'fantastic': 0, 'am...</td>\n",
       "      <td>1</td>\n",
       "      <td>0.977630</td>\n",
       "    </tr>\n",
       "    <tr>\n",
       "      <th>578</th>\n",
       "      <td>this works really well.  I found it easier tha...</td>\n",
       "      <td>{'awesome': 0, 'great': 0, 'fantastic': 0, 'am...</td>\n",
       "      <td>1</td>\n",
       "      <td>0.932746</td>\n",
       "    </tr>\n",
       "    <tr>\n",
       "      <th>579</th>\n",
       "      <td>This truly is the champ of diapers. This produ...</td>\n",
       "      <td>{'awesome': 0, 'great': 1, 'fantastic': 0, 'am...</td>\n",
       "      <td>1</td>\n",
       "      <td>0.876439</td>\n",
       "    </tr>\n",
       "    <tr>\n",
       "      <th>580</th>\n",
       "      <td>I\\'ve read all of the reviews of those of you ...</td>\n",
       "      <td>{'awesome': 0, 'great': 0, 'fantastic': 0, 'am...</td>\n",
       "      <td>0</td>\n",
       "      <td>0.698163</td>\n",
       "    </tr>\n",
       "    <tr>\n",
       "      <th>581</th>\n",
       "      <td>I see that there are complaints of stinkiness ...</td>\n",
       "      <td>{'awesome': 0, 'great': 0, 'fantastic': 0, 'am...</td>\n",
       "      <td>1</td>\n",
       "      <td>0.475393</td>\n",
       "    </tr>\n",
       "  </tbody>\n",
       "</table>\n",
       "<p>298 rows × 4 columns</p>\n",
       "</div>"
      ],
      "text/plain": [
       "                                                review  \\\n",
       "284  Ok - newsflash.  Diapers are just smelly.  We\\...   \n",
       "285  My husband and I selected the Diaper \"Champ\" m...   \n",
       "286  Excellent diaper disposal unit.  I used it in ...   \n",
       "287  We love our diaper champ.  It is very easy to ...   \n",
       "288  Two girlfriends and two family members put me ...   \n",
       "..                                                 ...   \n",
       "577  Its a good product because its easy to use, an...   \n",
       "578  this works really well.  I found it easier tha...   \n",
       "579  This truly is the champ of diapers. This produ...   \n",
       "580  I\\'ve read all of the reviews of those of you ...   \n",
       "581  I see that there are complaints of stinkiness ...   \n",
       "\n",
       "                                        selected_words  sentiment  \\\n",
       "284  {'awesome': 0, 'great': 0, 'fantastic': 0, 'am...          1   \n",
       "285  {'awesome': 0, 'great': 0, 'fantastic': 0, 'am...          0   \n",
       "286  {'awesome': 0, 'great': 0, 'fantastic': 0, 'am...          1   \n",
       "287  {'awesome': 0, 'great': 0, 'fantastic': 0, 'am...          1   \n",
       "288  {'awesome': 0, 'great': 0, 'fantastic': 0, 'am...          1   \n",
       "..                                                 ...        ...   \n",
       "577  {'awesome': 0, 'great': 0, 'fantastic': 0, 'am...          1   \n",
       "578  {'awesome': 0, 'great': 0, 'fantastic': 0, 'am...          1   \n",
       "579  {'awesome': 0, 'great': 1, 'fantastic': 0, 'am...          1   \n",
       "580  {'awesome': 0, 'great': 0, 'fantastic': 0, 'am...          0   \n",
       "581  {'awesome': 0, 'great': 0, 'fantastic': 0, 'am...          1   \n",
       "\n",
       "     predicted_sentiment  \n",
       "284             0.748889  \n",
       "285             0.474957  \n",
       "286             0.989841  \n",
       "287             0.953583  \n",
       "288             0.755285  \n",
       "..                   ...  \n",
       "577             0.977630  \n",
       "578             0.932746  \n",
       "579             0.876439  \n",
       "580             0.698163  \n",
       "581             0.475393  \n",
       "\n",
       "[298 rows x 4 columns]"
      ]
     },
     "execution_count": 40,
     "metadata": {},
     "output_type": "execute_result"
    }
   ],
   "source": [
    "diaper_champ_reviews['predicted_sentiment'] = \\\n",
    "                            sentiment_pipeline.predict_proba(diaper_champ_reviews['review'])[:, 1].tolist()\n",
    "diaper_champ_reviews"
   ]
  },
  {
   "cell_type": "code",
   "execution_count": 41,
   "metadata": {},
   "outputs": [
    {
     "data": {
      "text/html": [
       "<div>\n",
       "<style scoped>\n",
       "    .dataframe tbody tr th:only-of-type {\n",
       "        vertical-align: middle;\n",
       "    }\n",
       "\n",
       "    .dataframe tbody tr th {\n",
       "        vertical-align: top;\n",
       "    }\n",
       "\n",
       "    .dataframe thead th {\n",
       "        text-align: right;\n",
       "    }\n",
       "</style>\n",
       "<table border=\"1\" class=\"dataframe\">\n",
       "  <thead>\n",
       "    <tr style=\"text-align: right;\">\n",
       "      <th></th>\n",
       "      <th>review</th>\n",
       "      <th>selected_words</th>\n",
       "      <th>sentiment</th>\n",
       "      <th>predicted_sentiment</th>\n",
       "    </tr>\n",
       "  </thead>\n",
       "  <tbody>\n",
       "    <tr>\n",
       "      <th>550</th>\n",
       "      <td>This is the best diaper pail.  I was a little ...</td>\n",
       "      <td>{'awesome': 0, 'great': 0, 'fantastic': 0, 'am...</td>\n",
       "      <td>1</td>\n",
       "      <td>0.999854</td>\n",
       "    </tr>\n",
       "    <tr>\n",
       "      <th>431</th>\n",
       "      <td>I have 2 kids in diapers and the diaper champ ...</td>\n",
       "      <td>{'awesome': 0, 'great': 1, 'fantastic': 0, 'am...</td>\n",
       "      <td>1</td>\n",
       "      <td>0.999729</td>\n",
       "    </tr>\n",
       "    <tr>\n",
       "      <th>541</th>\n",
       "      <td>This is a great for dirty Diapers. I have had ...</td>\n",
       "      <td>{'awesome': 0, 'great': 1, 'fantastic': 0, 'am...</td>\n",
       "      <td>1</td>\n",
       "      <td>0.999422</td>\n",
       "    </tr>\n",
       "    <tr>\n",
       "      <th>402</th>\n",
       "      <td>This item is great, you can you any bags you w...</td>\n",
       "      <td>{'awesome': 0, 'great': 2, 'fantastic': 0, 'am...</td>\n",
       "      <td>1</td>\n",
       "      <td>0.998937</td>\n",
       "    </tr>\n",
       "    <tr>\n",
       "      <th>467</th>\n",
       "      <td>This pail is  by far the best!  Great price, n...</td>\n",
       "      <td>{'awesome': 0, 'great': 1, 'fantastic': 0, 'am...</td>\n",
       "      <td>1</td>\n",
       "      <td>0.998877</td>\n",
       "    </tr>\n",
       "  </tbody>\n",
       "</table>\n",
       "</div>"
      ],
      "text/plain": [
       "                                                review  \\\n",
       "550  This is the best diaper pail.  I was a little ...   \n",
       "431  I have 2 kids in diapers and the diaper champ ...   \n",
       "541  This is a great for dirty Diapers. I have had ...   \n",
       "402  This item is great, you can you any bags you w...   \n",
       "467  This pail is  by far the best!  Great price, n...   \n",
       "\n",
       "                                        selected_words  sentiment  \\\n",
       "550  {'awesome': 0, 'great': 0, 'fantastic': 0, 'am...          1   \n",
       "431  {'awesome': 0, 'great': 1, 'fantastic': 0, 'am...          1   \n",
       "541  {'awesome': 0, 'great': 1, 'fantastic': 0, 'am...          1   \n",
       "402  {'awesome': 0, 'great': 2, 'fantastic': 0, 'am...          1   \n",
       "467  {'awesome': 0, 'great': 1, 'fantastic': 0, 'am...          1   \n",
       "\n",
       "     predicted_sentiment  \n",
       "550             0.999854  \n",
       "431             0.999729  \n",
       "541             0.999422  \n",
       "402             0.998937  \n",
       "467             0.998877  "
      ]
     },
     "execution_count": 41,
     "metadata": {},
     "output_type": "execute_result"
    }
   ],
   "source": [
    "diaper_champ_reviews = diaper_champ_reviews.sort_values(by=['predicted_sentiment'], ascending=False)\n",
    "diaper_champ_reviews.head()"
   ]
  },
  {
   "cell_type": "code",
   "execution_count": 42,
   "metadata": {},
   "outputs": [
    {
     "data": {
      "text/plain": [
       "review                     I have 2 kids in diapers and the diaper champ ...\n",
       "selected_words             {'awesome': 0, 'great': 1, 'fantastic': 0, 'am...\n",
       "sentiment                                                                  1\n",
       "predicted_sentiment                                                 0.999729\n",
       "predicted_selected_word                                             0.973781\n",
       "Name: 431, dtype: object"
      ]
     },
     "execution_count": 42,
     "metadata": {},
     "output_type": "execute_result"
    }
   ],
   "source": [
    "diaper_champ_reviews['predicted_selected_word'] = \\\n",
    "                    selected_words_pipeline.predict_proba(diaper_champ_reviews['selected_words'])[:, 1].tolist()\n",
    "diaper_champ_reviews.iloc[1]"
   ]
  },
  {
   "cell_type": "code",
   "execution_count": 43,
   "metadata": {},
   "outputs": [
    {
     "data": {
      "text/plain": [
       "'I have 2 kids in diapers and the diaper champ has been great for us for 2 1/2 years. Easy to use and change. I love that it uses reg bags. :)'"
      ]
     },
     "execution_count": 43,
     "metadata": {},
     "output_type": "execute_result"
    }
   ],
   "source": [
    "diaper_champ_reviews.iloc[1]['review']"
   ]
  },
  {
   "cell_type": "code",
   "execution_count": 44,
   "metadata": {},
   "outputs": [
    {
     "data": {
      "text/plain": [
       "{'awesome': 0,\n",
       " 'great': 1,\n",
       " 'fantastic': 0,\n",
       " 'amazing': 0,\n",
       " 'love': 1,\n",
       " 'horrible': 0,\n",
       " 'bad': 0,\n",
       " 'terrible': 0,\n",
       " 'awful': 0,\n",
       " 'wow': 0,\n",
       " 'hate': 0}"
      ]
     },
     "execution_count": 44,
     "metadata": {},
     "output_type": "execute_result"
    }
   ],
   "source": [
    "diaper_champ_reviews.iloc[1]['selected_words']"
   ]
  },
  {
   "cell_type": "code",
   "execution_count": null,
   "metadata": {},
   "outputs": [],
   "source": []
  }
 ],
 "metadata": {
  "kernelspec": {
   "display_name": "Python 3",
   "language": "python",
   "name": "python3"
  },
  "language_info": {
   "codemirror_mode": {
    "name": "ipython",
    "version": 3
   },
   "file_extension": ".py",
   "mimetype": "text/x-python",
   "name": "python",
   "nbconvert_exporter": "python",
   "pygments_lexer": "ipython3",
   "version": "3.8.5"
  }
 },
 "nbformat": 4,
 "nbformat_minor": 4
}
