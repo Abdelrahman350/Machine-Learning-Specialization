{
 "cells": [
  {
   "cell_type": "markdown",
   "metadata": {},
   "source": [
    "# Import Scikit Learn, Pandas and Numpy"
   ]
  },
  {
   "cell_type": "code",
   "execution_count": 1,
   "metadata": {},
   "outputs": [],
   "source": [
    "import sklearn\n",
    "import numpy as np\n",
    "import pandas as pd"
   ]
  },
  {
   "cell_type": "markdown",
   "metadata": {},
   "source": [
    "# 1. Read the Dataset using Pandas"
   ]
  },
  {
   "cell_type": "code",
   "execution_count": 2,
   "metadata": {},
   "outputs": [],
   "source": [
    "data = pd.read_csv(\"people_wiki.csv\")"
   ]
  },
  {
   "cell_type": "code",
   "execution_count": 3,
   "metadata": {},
   "outputs": [
    {
     "data": {
      "text/html": [
       "<div>\n",
       "<style scoped>\n",
       "    .dataframe tbody tr th:only-of-type {\n",
       "        vertical-align: middle;\n",
       "    }\n",
       "\n",
       "    .dataframe tbody tr th {\n",
       "        vertical-align: top;\n",
       "    }\n",
       "\n",
       "    .dataframe thead th {\n",
       "        text-align: right;\n",
       "    }\n",
       "</style>\n",
       "<table border=\"1\" class=\"dataframe\">\n",
       "  <thead>\n",
       "    <tr style=\"text-align: right;\">\n",
       "      <th></th>\n",
       "      <th>URI</th>\n",
       "      <th>name</th>\n",
       "      <th>text</th>\n",
       "    </tr>\n",
       "  </thead>\n",
       "  <tbody>\n",
       "    <tr>\n",
       "      <th>0</th>\n",
       "      <td>&lt;http://dbpedia.org/resource/Digby_Morrell&gt;</td>\n",
       "      <td>Digby Morrell</td>\n",
       "      <td>digby morrell born 10 october 1979 is a former...</td>\n",
       "    </tr>\n",
       "    <tr>\n",
       "      <th>1</th>\n",
       "      <td>&lt;http://dbpedia.org/resource/Alfred_J._Lewy&gt;</td>\n",
       "      <td>Alfred J. Lewy</td>\n",
       "      <td>alfred j lewy aka sandy lewy graduated from un...</td>\n",
       "    </tr>\n",
       "    <tr>\n",
       "      <th>2</th>\n",
       "      <td>&lt;http://dbpedia.org/resource/Harpdog_Brown&gt;</td>\n",
       "      <td>Harpdog Brown</td>\n",
       "      <td>harpdog brown is a singer and harmonica player...</td>\n",
       "    </tr>\n",
       "    <tr>\n",
       "      <th>3</th>\n",
       "      <td>&lt;http://dbpedia.org/resource/Franz_Rottensteiner&gt;</td>\n",
       "      <td>Franz Rottensteiner</td>\n",
       "      <td>franz rottensteiner born in waidmannsfeld lowe...</td>\n",
       "    </tr>\n",
       "    <tr>\n",
       "      <th>4</th>\n",
       "      <td>&lt;http://dbpedia.org/resource/G-Enka&gt;</td>\n",
       "      <td>G-Enka</td>\n",
       "      <td>henry krvits born 30 december 1974 in tallinn ...</td>\n",
       "    </tr>\n",
       "    <tr>\n",
       "      <th>...</th>\n",
       "      <td>...</td>\n",
       "      <td>...</td>\n",
       "      <td>...</td>\n",
       "    </tr>\n",
       "    <tr>\n",
       "      <th>59066</th>\n",
       "      <td>&lt;http://dbpedia.org/resource/Olari_Elts&gt;</td>\n",
       "      <td>Olari Elts</td>\n",
       "      <td>olari elts born april 27 1971 in tallinn eston...</td>\n",
       "    </tr>\n",
       "    <tr>\n",
       "      <th>59067</th>\n",
       "      <td>&lt;http://dbpedia.org/resource/Scott_F._Crago&gt;</td>\n",
       "      <td>Scott F. Crago</td>\n",
       "      <td>scott francis crago born july 26 1963 twin bro...</td>\n",
       "    </tr>\n",
       "    <tr>\n",
       "      <th>59068</th>\n",
       "      <td>&lt;http://dbpedia.org/resource/David_Cass_(footb...</td>\n",
       "      <td>David Cass (footballer)</td>\n",
       "      <td>david william royce cass born 27 march 1962 in...</td>\n",
       "    </tr>\n",
       "    <tr>\n",
       "      <th>59069</th>\n",
       "      <td>&lt;http://dbpedia.org/resource/Keith_Elias&gt;</td>\n",
       "      <td>Keith Elias</td>\n",
       "      <td>keith hector elias born february 3 1972 in lac...</td>\n",
       "    </tr>\n",
       "    <tr>\n",
       "      <th>59070</th>\n",
       "      <td>&lt;http://dbpedia.org/resource/Fawaz_Damrah&gt;</td>\n",
       "      <td>Fawaz Damrah</td>\n",
       "      <td>fawaz mohammed damrah arabic fawwz damra was t...</td>\n",
       "    </tr>\n",
       "  </tbody>\n",
       "</table>\n",
       "<p>59071 rows × 3 columns</p>\n",
       "</div>"
      ],
      "text/plain": [
       "                                                     URI  \\\n",
       "0            <http://dbpedia.org/resource/Digby_Morrell>   \n",
       "1           <http://dbpedia.org/resource/Alfred_J._Lewy>   \n",
       "2            <http://dbpedia.org/resource/Harpdog_Brown>   \n",
       "3      <http://dbpedia.org/resource/Franz_Rottensteiner>   \n",
       "4                   <http://dbpedia.org/resource/G-Enka>   \n",
       "...                                                  ...   \n",
       "59066           <http://dbpedia.org/resource/Olari_Elts>   \n",
       "59067       <http://dbpedia.org/resource/Scott_F._Crago>   \n",
       "59068  <http://dbpedia.org/resource/David_Cass_(footb...   \n",
       "59069          <http://dbpedia.org/resource/Keith_Elias>   \n",
       "59070         <http://dbpedia.org/resource/Fawaz_Damrah>   \n",
       "\n",
       "                          name  \\\n",
       "0                Digby Morrell   \n",
       "1               Alfred J. Lewy   \n",
       "2                Harpdog Brown   \n",
       "3          Franz Rottensteiner   \n",
       "4                       G-Enka   \n",
       "...                        ...   \n",
       "59066               Olari Elts   \n",
       "59067           Scott F. Crago   \n",
       "59068  David Cass (footballer)   \n",
       "59069              Keith Elias   \n",
       "59070             Fawaz Damrah   \n",
       "\n",
       "                                                    text  \n",
       "0      digby morrell born 10 october 1979 is a former...  \n",
       "1      alfred j lewy aka sandy lewy graduated from un...  \n",
       "2      harpdog brown is a singer and harmonica player...  \n",
       "3      franz rottensteiner born in waidmannsfeld lowe...  \n",
       "4      henry krvits born 30 december 1974 in tallinn ...  \n",
       "...                                                  ...  \n",
       "59066  olari elts born april 27 1971 in tallinn eston...  \n",
       "59067  scott francis crago born july 26 1963 twin bro...  \n",
       "59068  david william royce cass born 27 march 1962 in...  \n",
       "59069  keith hector elias born february 3 1972 in lac...  \n",
       "59070  fawaz mohammed damrah arabic fawwz damra was t...  \n",
       "\n",
       "[59071 rows x 3 columns]"
      ]
     },
     "execution_count": 3,
     "metadata": {},
     "output_type": "execute_result"
    }
   ],
   "source": [
    "data"
   ]
  },
  {
   "cell_type": "markdown",
   "metadata": {},
   "source": [
    "# 2. Exploratory Data Analysis"
   ]
  },
  {
   "cell_type": "code",
   "execution_count": 4,
   "metadata": {},
   "outputs": [
    {
     "data": {
      "text/html": [
       "<div>\n",
       "<style scoped>\n",
       "    .dataframe tbody tr th:only-of-type {\n",
       "        vertical-align: middle;\n",
       "    }\n",
       "\n",
       "    .dataframe tbody tr th {\n",
       "        vertical-align: top;\n",
       "    }\n",
       "\n",
       "    .dataframe thead th {\n",
       "        text-align: right;\n",
       "    }\n",
       "</style>\n",
       "<table border=\"1\" class=\"dataframe\">\n",
       "  <thead>\n",
       "    <tr style=\"text-align: right;\">\n",
       "      <th></th>\n",
       "      <th>URI</th>\n",
       "      <th>name</th>\n",
       "      <th>text</th>\n",
       "    </tr>\n",
       "  </thead>\n",
       "  <tbody>\n",
       "    <tr>\n",
       "      <th>0</th>\n",
       "      <td>&lt;http://dbpedia.org/resource/Digby_Morrell&gt;</td>\n",
       "      <td>Digby Morrell</td>\n",
       "      <td>digby morrell born 10 october 1979 is a former...</td>\n",
       "    </tr>\n",
       "    <tr>\n",
       "      <th>1</th>\n",
       "      <td>&lt;http://dbpedia.org/resource/Alfred_J._Lewy&gt;</td>\n",
       "      <td>Alfred J. Lewy</td>\n",
       "      <td>alfred j lewy aka sandy lewy graduated from un...</td>\n",
       "    </tr>\n",
       "    <tr>\n",
       "      <th>2</th>\n",
       "      <td>&lt;http://dbpedia.org/resource/Harpdog_Brown&gt;</td>\n",
       "      <td>Harpdog Brown</td>\n",
       "      <td>harpdog brown is a singer and harmonica player...</td>\n",
       "    </tr>\n",
       "    <tr>\n",
       "      <th>3</th>\n",
       "      <td>&lt;http://dbpedia.org/resource/Franz_Rottensteiner&gt;</td>\n",
       "      <td>Franz Rottensteiner</td>\n",
       "      <td>franz rottensteiner born in waidmannsfeld lowe...</td>\n",
       "    </tr>\n",
       "    <tr>\n",
       "      <th>4</th>\n",
       "      <td>&lt;http://dbpedia.org/resource/G-Enka&gt;</td>\n",
       "      <td>G-Enka</td>\n",
       "      <td>henry krvits born 30 december 1974 in tallinn ...</td>\n",
       "    </tr>\n",
       "  </tbody>\n",
       "</table>\n",
       "</div>"
      ],
      "text/plain": [
       "                                                 URI                 name  \\\n",
       "0        <http://dbpedia.org/resource/Digby_Morrell>        Digby Morrell   \n",
       "1       <http://dbpedia.org/resource/Alfred_J._Lewy>       Alfred J. Lewy   \n",
       "2        <http://dbpedia.org/resource/Harpdog_Brown>        Harpdog Brown   \n",
       "3  <http://dbpedia.org/resource/Franz_Rottensteiner>  Franz Rottensteiner   \n",
       "4               <http://dbpedia.org/resource/G-Enka>               G-Enka   \n",
       "\n",
       "                                                text  \n",
       "0  digby morrell born 10 october 1979 is a former...  \n",
       "1  alfred j lewy aka sandy lewy graduated from un...  \n",
       "2  harpdog brown is a singer and harmonica player...  \n",
       "3  franz rottensteiner born in waidmannsfeld lowe...  \n",
       "4  henry krvits born 30 december 1974 in tallinn ...  "
      ]
     },
     "execution_count": 4,
     "metadata": {},
     "output_type": "execute_result"
    }
   ],
   "source": [
    "data.head()"
   ]
  },
  {
   "cell_type": "code",
   "execution_count": 5,
   "metadata": {},
   "outputs": [
    {
     "name": "stdout",
     "output_type": "stream",
     "text": [
      "<class 'pandas.core.frame.DataFrame'>\n",
      "RangeIndex: 59071 entries, 0 to 59070\n",
      "Data columns (total 3 columns):\n",
      " #   Column  Non-Null Count  Dtype \n",
      "---  ------  --------------  ----- \n",
      " 0   URI     59071 non-null  object\n",
      " 1   name    59071 non-null  object\n",
      " 2   text    59071 non-null  object\n",
      "dtypes: object(3)\n",
      "memory usage: 1.4+ MB\n"
     ]
    }
   ],
   "source": [
    "data.info()"
   ]
  },
  {
   "cell_type": "code",
   "execution_count": 6,
   "metadata": {},
   "outputs": [
    {
     "data": {
      "text/html": [
       "<div>\n",
       "<style scoped>\n",
       "    .dataframe tbody tr th:only-of-type {\n",
       "        vertical-align: middle;\n",
       "    }\n",
       "\n",
       "    .dataframe tbody tr th {\n",
       "        vertical-align: top;\n",
       "    }\n",
       "\n",
       "    .dataframe thead th {\n",
       "        text-align: right;\n",
       "    }\n",
       "</style>\n",
       "<table border=\"1\" class=\"dataframe\">\n",
       "  <thead>\n",
       "    <tr style=\"text-align: right;\">\n",
       "      <th></th>\n",
       "      <th>URI</th>\n",
       "      <th>name</th>\n",
       "      <th>text</th>\n",
       "    </tr>\n",
       "  </thead>\n",
       "  <tbody>\n",
       "    <tr>\n",
       "      <th>count</th>\n",
       "      <td>59071</td>\n",
       "      <td>59071</td>\n",
       "      <td>59071</td>\n",
       "    </tr>\n",
       "    <tr>\n",
       "      <th>unique</th>\n",
       "      <td>59071</td>\n",
       "      <td>59070</td>\n",
       "      <td>59071</td>\n",
       "    </tr>\n",
       "    <tr>\n",
       "      <th>top</th>\n",
       "      <td>&lt;http://dbpedia.org/resource/Stefan_Pastuszewski&gt;</td>\n",
       "      <td>author)</td>\n",
       "      <td>adam burrows is a professor of astrophysical s...</td>\n",
       "    </tr>\n",
       "    <tr>\n",
       "      <th>freq</th>\n",
       "      <td>1</td>\n",
       "      <td>2</td>\n",
       "      <td>1</td>\n",
       "    </tr>\n",
       "  </tbody>\n",
       "</table>\n",
       "</div>"
      ],
      "text/plain": [
       "                                                      URI     name  \\\n",
       "count                                               59071    59071   \n",
       "unique                                              59071    59070   \n",
       "top     <http://dbpedia.org/resource/Stefan_Pastuszewski>  author)   \n",
       "freq                                                    1        2   \n",
       "\n",
       "                                                     text  \n",
       "count                                               59071  \n",
       "unique                                              59071  \n",
       "top     adam burrows is a professor of astrophysical s...  \n",
       "freq                                                    1  "
      ]
     },
     "execution_count": 6,
     "metadata": {},
     "output_type": "execute_result"
    }
   ],
   "source": [
    "data.describe()"
   ]
  },
  {
   "cell_type": "markdown",
   "metadata": {},
   "source": [
    "# 3. Data Preprocessing\n",
    "## Build word count vectors"
   ]
  },
  {
   "cell_type": "code",
   "execution_count": 7,
   "metadata": {},
   "outputs": [],
   "source": [
    "import pandas as pd\n",
    "import numpy as np    \n",
    "from sklearn.feature_extraction.text import CountVectorizer\n",
    "\n",
    "def dictionarize(row):\n",
    "    cv = CountVectorizer(\n",
    "        analyzer = \"word\",  \n",
    "    )\n",
    "    text = [row.loc['text']]\n",
    "    cv_fit=cv.fit_transform(text)    \n",
    "    word_list = cv.get_feature_names()\n",
    "    count_list = cv_fit.toarray().sum(axis=0)\n",
    "    dictionary = dict(zip(word_list,count_list))\n",
    "    row['word_count'] = dictionary\n",
    "    return row\n",
    "\n",
    "data = data.apply(dictionarize, axis=1)"
   ]
  },
  {
   "cell_type": "code",
   "execution_count": 8,
   "metadata": {},
   "outputs": [
    {
     "data": {
      "text/html": [
       "<div>\n",
       "<style scoped>\n",
       "    .dataframe tbody tr th:only-of-type {\n",
       "        vertical-align: middle;\n",
       "    }\n",
       "\n",
       "    .dataframe tbody tr th {\n",
       "        vertical-align: top;\n",
       "    }\n",
       "\n",
       "    .dataframe thead th {\n",
       "        text-align: right;\n",
       "    }\n",
       "</style>\n",
       "<table border=\"1\" class=\"dataframe\">\n",
       "  <thead>\n",
       "    <tr style=\"text-align: right;\">\n",
       "      <th></th>\n",
       "      <th>URI</th>\n",
       "      <th>name</th>\n",
       "      <th>text</th>\n",
       "      <th>word_count</th>\n",
       "    </tr>\n",
       "  </thead>\n",
       "  <tbody>\n",
       "    <tr>\n",
       "      <th>0</th>\n",
       "      <td>&lt;http://dbpedia.org/resource/Digby_Morrell&gt;</td>\n",
       "      <td>Digby Morrell</td>\n",
       "      <td>digby morrell born 10 october 1979 is a former...</td>\n",
       "      <td>{'10': 1, '1979': 1, '19982000': 1, '2000': 1,...</td>\n",
       "    </tr>\n",
       "    <tr>\n",
       "      <th>1</th>\n",
       "      <td>&lt;http://dbpedia.org/resource/Alfred_J._Lewy&gt;</td>\n",
       "      <td>Alfred J. Lewy</td>\n",
       "      <td>alfred j lewy aka sandy lewy graduated from un...</td>\n",
       "      <td>{'1973': 1, '1981': 1, '2005': 1, '24hour': 1,...</td>\n",
       "    </tr>\n",
       "    <tr>\n",
       "      <th>2</th>\n",
       "      <td>&lt;http://dbpedia.org/resource/Harpdog_Brown&gt;</td>\n",
       "      <td>Harpdog Brown</td>\n",
       "      <td>harpdog brown is a singer and harmonica player...</td>\n",
       "      <td>{'1982': 1, '1995': 1, '2010': 1, '2014': 2, '...</td>\n",
       "    </tr>\n",
       "    <tr>\n",
       "      <th>3</th>\n",
       "      <td>&lt;http://dbpedia.org/resource/Franz_Rottensteiner&gt;</td>\n",
       "      <td>Franz Rottensteiner</td>\n",
       "      <td>franz rottensteiner born in waidmannsfeld lowe...</td>\n",
       "      <td>{'18': 1, '1942': 1, '1963': 1, '1969': 1, '19...</td>\n",
       "    </tr>\n",
       "    <tr>\n",
       "      <th>4</th>\n",
       "      <td>&lt;http://dbpedia.org/resource/G-Enka&gt;</td>\n",
       "      <td>G-Enka</td>\n",
       "      <td>henry krvits born 30 december 1974 in tallinn ...</td>\n",
       "      <td>{'18': 1, '1974': 1, '1996': 1, '1998': 1, '20...</td>\n",
       "    </tr>\n",
       "  </tbody>\n",
       "</table>\n",
       "</div>"
      ],
      "text/plain": [
       "                                                 URI                 name  \\\n",
       "0        <http://dbpedia.org/resource/Digby_Morrell>        Digby Morrell   \n",
       "1       <http://dbpedia.org/resource/Alfred_J._Lewy>       Alfred J. Lewy   \n",
       "2        <http://dbpedia.org/resource/Harpdog_Brown>        Harpdog Brown   \n",
       "3  <http://dbpedia.org/resource/Franz_Rottensteiner>  Franz Rottensteiner   \n",
       "4               <http://dbpedia.org/resource/G-Enka>               G-Enka   \n",
       "\n",
       "                                                text  \\\n",
       "0  digby morrell born 10 october 1979 is a former...   \n",
       "1  alfred j lewy aka sandy lewy graduated from un...   \n",
       "2  harpdog brown is a singer and harmonica player...   \n",
       "3  franz rottensteiner born in waidmannsfeld lowe...   \n",
       "4  henry krvits born 30 december 1974 in tallinn ...   \n",
       "\n",
       "                                          word_count  \n",
       "0  {'10': 1, '1979': 1, '19982000': 1, '2000': 1,...  \n",
       "1  {'1973': 1, '1981': 1, '2005': 1, '24hour': 1,...  \n",
       "2  {'1982': 1, '1995': 1, '2010': 1, '2014': 2, '...  \n",
       "3  {'18': 1, '1942': 1, '1963': 1, '1969': 1, '19...  \n",
       "4  {'18': 1, '1974': 1, '1996': 1, '1998': 1, '20...  "
      ]
     },
     "execution_count": 8,
     "metadata": {},
     "output_type": "execute_result"
    }
   ],
   "source": [
    "data.head()"
   ]
  },
  {
   "cell_type": "markdown",
   "metadata": {},
   "source": [
    "## Build TF-IDF vector"
   ]
  },
  {
   "cell_type": "code",
   "execution_count": 9,
   "metadata": {},
   "outputs": [],
   "source": [
    "from sklearn.feature_extraction.text import TfidfVectorizer, TfidfTransformer\n",
    "\n",
    "tfv = TfidfVectorizer(stop_words = 'english')\n",
    "tfv.fit(data['text'])\n",
    "feature_names = tfv.get_feature_names()"
   ]
  },
  {
   "cell_type": "code",
   "execution_count": 10,
   "metadata": {},
   "outputs": [
    {
     "data": {
      "text/html": [
       "<div>\n",
       "<style scoped>\n",
       "    .dataframe tbody tr th:only-of-type {\n",
       "        vertical-align: middle;\n",
       "    }\n",
       "\n",
       "    .dataframe tbody tr th {\n",
       "        vertical-align: top;\n",
       "    }\n",
       "\n",
       "    .dataframe thead th {\n",
       "        text-align: right;\n",
       "    }\n",
       "</style>\n",
       "<table border=\"1\" class=\"dataframe\">\n",
       "  <thead>\n",
       "    <tr style=\"text-align: right;\">\n",
       "      <th></th>\n",
       "      <th>URI</th>\n",
       "      <th>name</th>\n",
       "      <th>text</th>\n",
       "      <th>word_count</th>\n",
       "      <th>word_TFIDF</th>\n",
       "    </tr>\n",
       "  </thead>\n",
       "  <tbody>\n",
       "    <tr>\n",
       "      <th>0</th>\n",
       "      <td>&lt;http://dbpedia.org/resource/Digby_Morrell&gt;</td>\n",
       "      <td>Digby Morrell</td>\n",
       "      <td>digby morrell born 10 october 1979 is a former...</td>\n",
       "      <td>{'10': 1, '1979': 1, '19982000': 1, '2000': 1,...</td>\n",
       "      <td>{'10': 0.03598092475264841, '1979': 0.03910102...</td>\n",
       "    </tr>\n",
       "    <tr>\n",
       "      <th>1</th>\n",
       "      <td>&lt;http://dbpedia.org/resource/Alfred_J._Lewy&gt;</td>\n",
       "      <td>Alfred J. Lewy</td>\n",
       "      <td>alfred j lewy aka sandy lewy graduated from un...</td>\n",
       "      <td>{'1973': 1, '1981': 1, '2005': 1, '24hour': 1,...</td>\n",
       "      <td>{'1973': 0.03471899418271915, '1981': 0.032801...</td>\n",
       "    </tr>\n",
       "    <tr>\n",
       "      <th>2</th>\n",
       "      <td>&lt;http://dbpedia.org/resource/Harpdog_Brown&gt;</td>\n",
       "      <td>Harpdog Brown</td>\n",
       "      <td>harpdog brown is a singer and harmonica player...</td>\n",
       "      <td>{'1982': 1, '1995': 1, '2010': 1, '2014': 2, '...</td>\n",
       "      <td>{'1982': 0.043443403994698836, '1995': 0.03932...</td>\n",
       "    </tr>\n",
       "    <tr>\n",
       "      <th>3</th>\n",
       "      <td>&lt;http://dbpedia.org/resource/Franz_Rottensteiner&gt;</td>\n",
       "      <td>Franz Rottensteiner</td>\n",
       "      <td>franz rottensteiner born in waidmannsfeld lowe...</td>\n",
       "      <td>{'18': 1, '1942': 1, '1963': 1, '1969': 1, '19...</td>\n",
       "      <td>{'18': 0.03144700717270383, '1942': 0.04308025...</td>\n",
       "    </tr>\n",
       "    <tr>\n",
       "      <th>4</th>\n",
       "      <td>&lt;http://dbpedia.org/resource/G-Enka&gt;</td>\n",
       "      <td>G-Enka</td>\n",
       "      <td>henry krvits born 30 december 1974 in tallinn ...</td>\n",
       "      <td>{'18': 1, '1974': 1, '1996': 1, '1998': 1, '20...</td>\n",
       "      <td>{'18': 0.031973284431831964, '1974': 0.0323498...</td>\n",
       "    </tr>\n",
       "  </tbody>\n",
       "</table>\n",
       "</div>"
      ],
      "text/plain": [
       "                                                 URI                 name  \\\n",
       "0        <http://dbpedia.org/resource/Digby_Morrell>        Digby Morrell   \n",
       "1       <http://dbpedia.org/resource/Alfred_J._Lewy>       Alfred J. Lewy   \n",
       "2        <http://dbpedia.org/resource/Harpdog_Brown>        Harpdog Brown   \n",
       "3  <http://dbpedia.org/resource/Franz_Rottensteiner>  Franz Rottensteiner   \n",
       "4               <http://dbpedia.org/resource/G-Enka>               G-Enka   \n",
       "\n",
       "                                                text  \\\n",
       "0  digby morrell born 10 october 1979 is a former...   \n",
       "1  alfred j lewy aka sandy lewy graduated from un...   \n",
       "2  harpdog brown is a singer and harmonica player...   \n",
       "3  franz rottensteiner born in waidmannsfeld lowe...   \n",
       "4  henry krvits born 30 december 1974 in tallinn ...   \n",
       "\n",
       "                                          word_count  \\\n",
       "0  {'10': 1, '1979': 1, '19982000': 1, '2000': 1,...   \n",
       "1  {'1973': 1, '1981': 1, '2005': 1, '24hour': 1,...   \n",
       "2  {'1982': 1, '1995': 1, '2010': 1, '2014': 2, '...   \n",
       "3  {'18': 1, '1942': 1, '1963': 1, '1969': 1, '19...   \n",
       "4  {'18': 1, '1974': 1, '1996': 1, '1998': 1, '20...   \n",
       "\n",
       "                                          word_TFIDF  \n",
       "0  {'10': 0.03598092475264841, '1979': 0.03910102...  \n",
       "1  {'1973': 0.03471899418271915, '1981': 0.032801...  \n",
       "2  {'1982': 0.043443403994698836, '1995': 0.03932...  \n",
       "3  {'18': 0.03144700717270383, '1942': 0.04308025...  \n",
       "4  {'18': 0.031973284431831964, '1974': 0.0323498...  "
      ]
     },
     "execution_count": 10,
     "metadata": {},
     "output_type": "execute_result"
    }
   ],
   "source": [
    "def dictionarize_TFIDF(row):\n",
    "    tfv_matrix= tfv.transform([row['text']]).todense()\n",
    "    feature_index = tfv_matrix[0,:].nonzero()[1]\n",
    "    dictionary = dict(zip([feature_names[i] for i in feature_index], [tfv_matrix[0, x] for x in feature_index]))\n",
    "    row['word_TFIDF'] = dictionary\n",
    "    return row\n",
    "\n",
    "data = data.apply(dictionarize_TFIDF, axis=1)\n",
    "data.head()"
   ]
  },
  {
   "cell_type": "markdown",
   "metadata": {},
   "source": [
    "## Explore some examples"
   ]
  },
  {
   "cell_type": "code",
   "execution_count": 11,
   "metadata": {},
   "outputs": [],
   "source": [
    "def explore_by_name(name, sort_type='word_TFIDF'):\n",
    "    tfidf = data.loc[data['name'] == name].to_dict('list')['word_TFIDF'][0]\n",
    "    count = data.loc[data['name'] == name].to_dict('list')['word_count'][0]\n",
    "    result = pd.DataFrame({'word_TFIDF':pd.Series(tfidf),'word_count':pd.Series(count)})\\\n",
    "                                    .sort_values(by=[sort_type], ascending=False)\n",
    "    return result"
   ]
  },
  {
   "cell_type": "code",
   "execution_count": 12,
   "metadata": {},
   "outputs": [
    {
     "data": {
      "text/html": [
       "<div>\n",
       "<style scoped>\n",
       "    .dataframe tbody tr th:only-of-type {\n",
       "        vertical-align: middle;\n",
       "    }\n",
       "\n",
       "    .dataframe tbody tr th {\n",
       "        vertical-align: top;\n",
       "    }\n",
       "\n",
       "    .dataframe thead th {\n",
       "        text-align: right;\n",
       "    }\n",
       "</style>\n",
       "<table border=\"1\" class=\"dataframe\">\n",
       "  <thead>\n",
       "    <tr style=\"text-align: right;\">\n",
       "      <th></th>\n",
       "      <th>word_TFIDF</th>\n",
       "      <th>word_count</th>\n",
       "    </tr>\n",
       "  </thead>\n",
       "  <tbody>\n",
       "    <tr>\n",
       "      <th>obama</th>\n",
       "      <td>0.413495</td>\n",
       "      <td>9</td>\n",
       "    </tr>\n",
       "    <tr>\n",
       "      <th>act</th>\n",
       "      <td>0.282170</td>\n",
       "      <td>8</td>\n",
       "    </tr>\n",
       "    <tr>\n",
       "      <th>iraq</th>\n",
       "      <td>0.171970</td>\n",
       "      <td>4</td>\n",
       "    </tr>\n",
       "    <tr>\n",
       "      <th>law</th>\n",
       "      <td>0.163903</td>\n",
       "      <td>6</td>\n",
       "    </tr>\n",
       "    <tr>\n",
       "      <th>control</th>\n",
       "      <td>0.149369</td>\n",
       "      <td>4</td>\n",
       "    </tr>\n",
       "    <tr>\n",
       "      <th>ordered</th>\n",
       "      <td>0.138633</td>\n",
       "      <td>3</td>\n",
       "    </tr>\n",
       "    <tr>\n",
       "      <th>military</th>\n",
       "      <td>0.135368</td>\n",
       "      <td>4</td>\n",
       "    </tr>\n",
       "    <tr>\n",
       "      <th>democratic</th>\n",
       "      <td>0.129792</td>\n",
       "      <td>4</td>\n",
       "    </tr>\n",
       "    <tr>\n",
       "      <th>response</th>\n",
       "      <td>0.124821</td>\n",
       "      <td>3</td>\n",
       "    </tr>\n",
       "    <tr>\n",
       "      <th>involvement</th>\n",
       "      <td>0.124821</td>\n",
       "      <td>3</td>\n",
       "    </tr>\n",
       "  </tbody>\n",
       "</table>\n",
       "</div>"
      ],
      "text/plain": [
       "             word_TFIDF  word_count\n",
       "obama          0.413495           9\n",
       "act            0.282170           8\n",
       "iraq           0.171970           4\n",
       "law            0.163903           6\n",
       "control        0.149369           4\n",
       "ordered        0.138633           3\n",
       "military       0.135368           4\n",
       "democratic     0.129792           4\n",
       "response       0.124821           3\n",
       "involvement    0.124821           3"
      ]
     },
     "execution_count": 12,
     "metadata": {},
     "output_type": "execute_result"
    }
   ],
   "source": [
    "obama = explore_by_name('Barack Obama')\n",
    "obama.head(10)"
   ]
  },
  {
   "cell_type": "code",
   "execution_count": 13,
   "metadata": {},
   "outputs": [
    {
     "data": {
      "text/html": [
       "<div>\n",
       "<style scoped>\n",
       "    .dataframe tbody tr th:only-of-type {\n",
       "        vertical-align: middle;\n",
       "    }\n",
       "\n",
       "    .dataframe tbody tr th {\n",
       "        vertical-align: top;\n",
       "    }\n",
       "\n",
       "    .dataframe thead th {\n",
       "        text-align: right;\n",
       "    }\n",
       "</style>\n",
       "<table border=\"1\" class=\"dataframe\">\n",
       "  <thead>\n",
       "    <tr style=\"text-align: right;\">\n",
       "      <th></th>\n",
       "      <th>word_TFIDF</th>\n",
       "      <th>word_count</th>\n",
       "    </tr>\n",
       "  </thead>\n",
       "  <tbody>\n",
       "    <tr>\n",
       "      <th>clooney</th>\n",
       "      <td>0.350758</td>\n",
       "      <td>4</td>\n",
       "    </tr>\n",
       "    <tr>\n",
       "      <th>thriller</th>\n",
       "      <td>0.241411</td>\n",
       "      <td>4</td>\n",
       "    </tr>\n",
       "    <tr>\n",
       "      <th>drama</th>\n",
       "      <td>0.179177</td>\n",
       "      <td>4</td>\n",
       "    </tr>\n",
       "    <tr>\n",
       "      <th>actor</th>\n",
       "      <td>0.161696</td>\n",
       "      <td>4</td>\n",
       "    </tr>\n",
       "    <tr>\n",
       "      <th>comedydrama</th>\n",
       "      <td>0.152711</td>\n",
       "      <td>2</td>\n",
       "    </tr>\n",
       "    <tr>\n",
       "      <th>er</th>\n",
       "      <td>0.150785</td>\n",
       "      <td>2</td>\n",
       "    </tr>\n",
       "    <tr>\n",
       "      <th>comedy</th>\n",
       "      <td>0.137679</td>\n",
       "      <td>3</td>\n",
       "    </tr>\n",
       "    <tr>\n",
       "      <th>academy</th>\n",
       "      <td>0.137075</td>\n",
       "      <td>4</td>\n",
       "    </tr>\n",
       "    <tr>\n",
       "      <th>film</th>\n",
       "      <td>0.123915</td>\n",
       "      <td>4</td>\n",
       "    </tr>\n",
       "    <tr>\n",
       "      <th>producingclooney</th>\n",
       "      <td>0.115349</td>\n",
       "      <td>1</td>\n",
       "    </tr>\n",
       "  </tbody>\n",
       "</table>\n",
       "</div>"
      ],
      "text/plain": [
       "                  word_TFIDF  word_count\n",
       "clooney             0.350758           4\n",
       "thriller            0.241411           4\n",
       "drama               0.179177           4\n",
       "actor               0.161696           4\n",
       "comedydrama         0.152711           2\n",
       "er                  0.150785           2\n",
       "comedy              0.137679           3\n",
       "academy             0.137075           4\n",
       "film                0.123915           4\n",
       "producingclooney    0.115349           1"
      ]
     },
     "execution_count": 13,
     "metadata": {},
     "output_type": "execute_result"
    }
   ],
   "source": [
    "clooney = explore_by_name('George Clooney')\n",
    "clooney.head(10)"
   ]
  },
  {
   "cell_type": "code",
   "execution_count": 14,
   "metadata": {},
   "outputs": [
    {
     "data": {
      "text/html": [
       "<div>\n",
       "<style scoped>\n",
       "    .dataframe tbody tr th:only-of-type {\n",
       "        vertical-align: middle;\n",
       "    }\n",
       "\n",
       "    .dataframe tbody tr th {\n",
       "        vertical-align: top;\n",
       "    }\n",
       "\n",
       "    .dataframe thead th {\n",
       "        text-align: right;\n",
       "    }\n",
       "</style>\n",
       "<table border=\"1\" class=\"dataframe\">\n",
       "  <thead>\n",
       "    <tr style=\"text-align: right;\">\n",
       "      <th></th>\n",
       "      <th>word_TFIDF</th>\n",
       "      <th>word_count</th>\n",
       "    </tr>\n",
       "  </thead>\n",
       "  <tbody>\n",
       "    <tr>\n",
       "      <th>the</th>\n",
       "      <td>NaN</td>\n",
       "      <td>27</td>\n",
       "    </tr>\n",
       "    <tr>\n",
       "      <th>in</th>\n",
       "      <td>NaN</td>\n",
       "      <td>18</td>\n",
       "    </tr>\n",
       "    <tr>\n",
       "      <th>and</th>\n",
       "      <td>NaN</td>\n",
       "      <td>15</td>\n",
       "    </tr>\n",
       "    <tr>\n",
       "      <th>of</th>\n",
       "      <td>NaN</td>\n",
       "      <td>13</td>\n",
       "    </tr>\n",
       "    <tr>\n",
       "      <th>has</th>\n",
       "      <td>NaN</td>\n",
       "      <td>9</td>\n",
       "    </tr>\n",
       "    <tr>\n",
       "      <th>he</th>\n",
       "      <td>NaN</td>\n",
       "      <td>7</td>\n",
       "    </tr>\n",
       "    <tr>\n",
       "      <th>john</th>\n",
       "      <td>0.217082</td>\n",
       "      <td>7</td>\n",
       "    </tr>\n",
       "    <tr>\n",
       "      <th>on</th>\n",
       "      <td>NaN</td>\n",
       "      <td>6</td>\n",
       "    </tr>\n",
       "    <tr>\n",
       "      <th>since</th>\n",
       "      <td>NaN</td>\n",
       "      <td>5</td>\n",
       "    </tr>\n",
       "    <tr>\n",
       "      <th>for</th>\n",
       "      <td>NaN</td>\n",
       "      <td>5</td>\n",
       "    </tr>\n",
       "  </tbody>\n",
       "</table>\n",
       "</div>"
      ],
      "text/plain": [
       "       word_TFIDF  word_count\n",
       "the           NaN          27\n",
       "in            NaN          18\n",
       "and           NaN          15\n",
       "of            NaN          13\n",
       "has           NaN           9\n",
       "he            NaN           7\n",
       "john     0.217082           7\n",
       "on            NaN           6\n",
       "since         NaN           5\n",
       "for           NaN           5"
      ]
     },
     "execution_count": 14,
     "metadata": {},
     "output_type": "execute_result"
    }
   ],
   "source": [
    "john = explore_by_name('Elton John', 'word_count')\n",
    "john.head(10)"
   ]
  },
  {
   "cell_type": "code",
   "execution_count": 15,
   "metadata": {},
   "outputs": [
    {
     "data": {
      "text/html": [
       "<div>\n",
       "<style scoped>\n",
       "    .dataframe tbody tr th:only-of-type {\n",
       "        vertical-align: middle;\n",
       "    }\n",
       "\n",
       "    .dataframe tbody tr th {\n",
       "        vertical-align: top;\n",
       "    }\n",
       "\n",
       "    .dataframe thead th {\n",
       "        text-align: right;\n",
       "    }\n",
       "</style>\n",
       "<table border=\"1\" class=\"dataframe\">\n",
       "  <thead>\n",
       "    <tr style=\"text-align: right;\">\n",
       "      <th></th>\n",
       "      <th>word_TFIDF</th>\n",
       "      <th>word_count</th>\n",
       "    </tr>\n",
       "  </thead>\n",
       "  <tbody>\n",
       "    <tr>\n",
       "      <th>billboard</th>\n",
       "      <td>0.220815</td>\n",
       "      <td>4</td>\n",
       "    </tr>\n",
       "    <tr>\n",
       "      <th>john</th>\n",
       "      <td>0.217082</td>\n",
       "      <td>7</td>\n",
       "    </tr>\n",
       "    <tr>\n",
       "      <th>elton</th>\n",
       "      <td>0.212174</td>\n",
       "      <td>3</td>\n",
       "    </tr>\n",
       "    <tr>\n",
       "      <th>furnish</th>\n",
       "      <td>0.208194</td>\n",
       "      <td>2</td>\n",
       "    </tr>\n",
       "    <tr>\n",
       "      <th>songwriters</th>\n",
       "      <td>0.137278</td>\n",
       "      <td>2</td>\n",
       "    </tr>\n",
       "    <tr>\n",
       "      <th>award</th>\n",
       "      <td>0.136446</td>\n",
       "      <td>5</td>\n",
       "    </tr>\n",
       "    <tr>\n",
       "      <th>aids</th>\n",
       "      <td>0.127077</td>\n",
       "      <td>2</td>\n",
       "    </tr>\n",
       "    <tr>\n",
       "      <th>million</th>\n",
       "      <td>0.124955</td>\n",
       "      <td>3</td>\n",
       "    </tr>\n",
       "    <tr>\n",
       "      <th>100</th>\n",
       "      <td>0.123607</td>\n",
       "      <td>3</td>\n",
       "    </tr>\n",
       "    <tr>\n",
       "      <th>palace</th>\n",
       "      <td>0.122427</td>\n",
       "      <td>2</td>\n",
       "    </tr>\n",
       "  </tbody>\n",
       "</table>\n",
       "</div>"
      ],
      "text/plain": [
       "             word_TFIDF  word_count\n",
       "billboard      0.220815           4\n",
       "john           0.217082           7\n",
       "elton          0.212174           3\n",
       "furnish        0.208194           2\n",
       "songwriters    0.137278           2\n",
       "award          0.136446           5\n",
       "aids           0.127077           2\n",
       "million        0.124955           3\n",
       "100            0.123607           3\n",
       "palace         0.122427           2"
      ]
     },
     "execution_count": 15,
     "metadata": {},
     "output_type": "execute_result"
    }
   ],
   "source": [
    "john = explore_by_name('Elton John')\n",
    "john.head(10)"
   ]
  },
  {
   "cell_type": "markdown",
   "metadata": {},
   "source": [
    "## Manual Cosine distance"
   ]
  },
  {
   "cell_type": "code",
   "execution_count": 16,
   "metadata": {},
   "outputs": [],
   "source": [
    "from sklearn.metrics.pairwise import cosine_distances\n",
    "import seaborn as sns\n",
    "import matplotlib.pyplot as plt\n",
    "\n",
    "def cosine_distance_by_text(names):\n",
    "    texts = []\n",
    "    for name in names:\n",
    "        texts.append(data.loc[data['name'] == name].to_dict('list')['text'][0])\n",
    "    \n",
    "    tfv_matrix = tfv.transform(texts).todense()\n",
    "    distance = cosine_distances(tfv_matrix, tfv_matrix)\n",
    "    distance = pd.DataFrame(distance, index=names, columns=names)\n",
    "    ax = sns.heatmap(distance, center=0)\n",
    "    return distance"
   ]
  },
  {
   "cell_type": "code",
   "execution_count": 17,
   "metadata": {},
   "outputs": [
    {
     "data": {
      "text/html": [
       "<div>\n",
       "<style scoped>\n",
       "    .dataframe tbody tr th:only-of-type {\n",
       "        vertical-align: middle;\n",
       "    }\n",
       "\n",
       "    .dataframe tbody tr th {\n",
       "        vertical-align: top;\n",
       "    }\n",
       "\n",
       "    .dataframe thead th {\n",
       "        text-align: right;\n",
       "    }\n",
       "</style>\n",
       "<table border=\"1\" class=\"dataframe\">\n",
       "  <thead>\n",
       "    <tr style=\"text-align: right;\">\n",
       "      <th></th>\n",
       "      <th>Bill Clinton</th>\n",
       "      <th>Barack Obama</th>\n",
       "      <th>David Beckham</th>\n",
       "      <th>Victoria Beckham</th>\n",
       "      <th>Elton John</th>\n",
       "      <th>Paul McCartney</th>\n",
       "    </tr>\n",
       "  </thead>\n",
       "  <tbody>\n",
       "    <tr>\n",
       "      <th>Bill Clinton</th>\n",
       "      <td>0.000000</td>\n",
       "      <td>0.811033</td>\n",
       "      <td>0.962792</td>\n",
       "      <td>0.990261</td>\n",
       "      <td>0.967256</td>\n",
       "      <td>0.979568</td>\n",
       "    </tr>\n",
       "    <tr>\n",
       "      <th>Barack Obama</th>\n",
       "      <td>0.811033</td>\n",
       "      <td>0.000000</td>\n",
       "      <td>0.974434</td>\n",
       "      <td>0.986954</td>\n",
       "      <td>0.966053</td>\n",
       "      <td>0.988396</td>\n",
       "    </tr>\n",
       "    <tr>\n",
       "      <th>David Beckham</th>\n",
       "      <td>0.962792</td>\n",
       "      <td>0.974434</td>\n",
       "      <td>0.000000</td>\n",
       "      <td>0.575420</td>\n",
       "      <td>0.943908</td>\n",
       "      <td>0.964789</td>\n",
       "    </tr>\n",
       "    <tr>\n",
       "      <th>Victoria Beckham</th>\n",
       "      <td>0.990261</td>\n",
       "      <td>0.986954</td>\n",
       "      <td>0.575420</td>\n",
       "      <td>0.000000</td>\n",
       "      <td>0.965930</td>\n",
       "      <td>0.959338</td>\n",
       "    </tr>\n",
       "    <tr>\n",
       "      <th>Elton John</th>\n",
       "      <td>0.967256</td>\n",
       "      <td>0.966053</td>\n",
       "      <td>0.943908</td>\n",
       "      <td>0.965930</td>\n",
       "      <td>0.000000</td>\n",
       "      <td>0.810086</td>\n",
       "    </tr>\n",
       "    <tr>\n",
       "      <th>Paul McCartney</th>\n",
       "      <td>0.979568</td>\n",
       "      <td>0.988396</td>\n",
       "      <td>0.964789</td>\n",
       "      <td>0.959338</td>\n",
       "      <td>0.810086</td>\n",
       "      <td>0.000000</td>\n",
       "    </tr>\n",
       "  </tbody>\n",
       "</table>\n",
       "</div>"
      ],
      "text/plain": [
       "                  Bill Clinton  Barack Obama  David Beckham  Victoria Beckham  \\\n",
       "Bill Clinton          0.000000      0.811033       0.962792          0.990261   \n",
       "Barack Obama          0.811033      0.000000       0.974434          0.986954   \n",
       "David Beckham         0.962792      0.974434       0.000000          0.575420   \n",
       "Victoria Beckham      0.990261      0.986954       0.575420          0.000000   \n",
       "Elton John            0.967256      0.966053       0.943908          0.965930   \n",
       "Paul McCartney        0.979568      0.988396       0.964789          0.959338   \n",
       "\n",
       "                  Elton John  Paul McCartney  \n",
       "Bill Clinton        0.967256        0.979568  \n",
       "Barack Obama        0.966053        0.988396  \n",
       "David Beckham       0.943908        0.964789  \n",
       "Victoria Beckham    0.965930        0.959338  \n",
       "Elton John          0.000000        0.810086  \n",
       "Paul McCartney      0.810086        0.000000  "
      ]
     },
     "execution_count": 17,
     "metadata": {},
     "output_type": "execute_result"
    },
    {
     "data": {
      "image/png": "[encoded data removed]",
      "text/plain": [
       "<Figure size 432x288 with 2 Axes>"
      ]
     },
     "metadata": {
      "needs_background": "light"
     },
     "output_type": "display_data"
    }
   ],
   "source": [
    "texts = ['Bill Clinton', 'Barack Obama', 'David Beckham', 'Victoria Beckham', 'Elton John','Paul McCartney']\n",
    "\n",
    "cosine_distance_by_text(texts)"
   ]
  },
  {
   "cell_type": "markdown",
   "metadata": {},
   "source": [
    "# 4. Unsupervised Learning Pipeline"
   ]
  },
  {
   "cell_type": "code",
   "execution_count": 18,
   "metadata": {},
   "outputs": [
    {
     "data": {
      "text/html": [
       "<style>div.sk-top-container {color: black;background-color: white;}div.sk-toggleable {background-color: white;}label.sk-toggleable__label {cursor: pointer;display: block;width: 100%;margin-bottom: 0;padding: 0.2em 0.3em;box-sizing: border-box;text-align: center;}div.sk-toggleable__content {max-height: 0;max-width: 0;overflow: hidden;text-align: left;background-color: #f0f8ff;}div.sk-toggleable__content pre {margin: 0.2em;color: black;border-radius: 0.25em;background-color: #f0f8ff;}input.sk-toggleable__control:checked~div.sk-toggleable__content {max-height: 200px;max-width: 100%;overflow: auto;}div.sk-estimator input.sk-toggleable__control:checked~label.sk-toggleable__label {background-color: #d4ebff;}div.sk-label input.sk-toggleable__control:checked~label.sk-toggleable__label {background-color: #d4ebff;}input.sk-hidden--visually {border: 0;clip: rect(1px 1px 1px 1px);clip: rect(1px, 1px, 1px, 1px);height: 1px;margin: -1px;overflow: hidden;padding: 0;position: absolute;width: 1px;}div.sk-estimator {font-family: monospace;background-color: #f0f8ff;margin: 0.25em 0.25em;border: 1px dotted black;border-radius: 0.25em;box-sizing: border-box;}div.sk-estimator:hover {background-color: #d4ebff;}div.sk-parallel-item::after {content: \"\";width: 100%;border-bottom: 1px solid gray;flex-grow: 1;}div.sk-label:hover label.sk-toggleable__label {background-color: #d4ebff;}div.sk-serial::before {content: \"\";position: absolute;border-left: 1px solid gray;box-sizing: border-box;top: 2em;bottom: 0;left: 50%;}div.sk-serial {display: flex;flex-direction: column;align-items: center;background-color: white;}div.sk-item {z-index: 1;}div.sk-parallel {display: flex;align-items: stretch;justify-content: center;background-color: white;}div.sk-parallel-item {display: flex;flex-direction: column;position: relative;background-color: white;}div.sk-parallel-item:first-child::after {align-self: flex-end;width: 50%;}div.sk-parallel-item:last-child::after {align-self: flex-start;width: 50%;}div.sk-parallel-item:only-child::after {width: 0;}div.sk-dashed-wrapped {border: 1px dashed gray;margin: 0.2em;box-sizing: border-box;padding-bottom: 0.1em;background-color: white;position: relative;}div.sk-label label {font-family: monospace;font-weight: bold;background-color: white;display: inline-block;line-height: 1.2em;}div.sk-label-container {position: relative;z-index: 2;text-align: center;}div.sk-container {display: inline-block;position: relative;}</style><div class=\"sk-top-container\"><div class=\"sk-container\"><div class=\"sk-item sk-dashed-wrapped\"><div class=\"sk-label-container\"><div class=\"sk-label sk-toggleable\"><input class=\"sk-toggleable__control sk-hidden--visually\" id=\"66e233f3-48fe-4731-94f2-9b480483f4b3\" type=\"checkbox\" ><label class=\"sk-toggleable__label\" for=\"66e233f3-48fe-4731-94f2-9b480483f4b3\">Pipeline</label><div class=\"sk-toggleable__content\"><pre>Pipeline(steps=[('Preprocessor',\n",
       "                 Pipeline(steps=[('TFIDF_Vectorizer', TfidfVectorizer()),\n",
       "                                 ('TF-IDF', TfidfTransformer())],\n",
       "                          verbose=True)),\n",
       "                ('KMeans', KMeans())],\n",
       "         verbose=True)</pre></div></div></div><div class=\"sk-serial\"><div class=\"sk-item\"><div class=\"sk-label-container\"><div class=\"sk-label sk-toggleable\"><input class=\"sk-toggleable__control sk-hidden--visually\" id=\"c8e5c8ff-6a42-40d4-80cd-e85caf7eb8cf\" type=\"checkbox\" ><label class=\"sk-toggleable__label\" for=\"c8e5c8ff-6a42-40d4-80cd-e85caf7eb8cf\">Preprocessor: Pipeline</label><div class=\"sk-toggleable__content\"><pre>Pipeline(steps=[('TFIDF_Vectorizer', TfidfVectorizer()),\n",
       "                ('TF-IDF', TfidfTransformer())],\n",
       "         verbose=True)</pre></div></div></div><div class=\"sk-serial\"><div class=\"sk-item\"><div class=\"sk-estimator sk-toggleable\"><input class=\"sk-toggleable__control sk-hidden--visually\" id=\"783f95cf-2ecf-4d9e-9e53-91b04c788d10\" type=\"checkbox\" ><label class=\"sk-toggleable__label\" for=\"783f95cf-2ecf-4d9e-9e53-91b04c788d10\">TfidfVectorizer</label><div class=\"sk-toggleable__content\"><pre>TfidfVectorizer()</pre></div></div></div><div class=\"sk-item\"><div class=\"sk-estimator sk-toggleable\"><input class=\"sk-toggleable__control sk-hidden--visually\" id=\"1cc0612b-5491-46a9-a44c-c3050de67557\" type=\"checkbox\" ><label class=\"sk-toggleable__label\" for=\"1cc0612b-5491-46a9-a44c-c3050de67557\">TfidfTransformer</label><div class=\"sk-toggleable__content\"><pre>TfidfTransformer()</pre></div></div></div></div></div><div class=\"sk-item\"><div class=\"sk-estimator sk-toggleable\"><input class=\"sk-toggleable__control sk-hidden--visually\" id=\"df9f765e-9818-450a-ad51-dd4fc7f2a9e4\" type=\"checkbox\" ><label class=\"sk-toggleable__label\" for=\"df9f765e-9818-450a-ad51-dd4fc7f2a9e4\">KMeans</label><div class=\"sk-toggleable__content\"><pre>KMeans()</pre></div></div></div></div></div></div></div>"
      ],
      "text/plain": [
       "Pipeline(steps=[('Preprocessor',\n",
       "                 Pipeline(steps=[('TFIDF_Vectorizer', TfidfVectorizer()),\n",
       "                                 ('TF-IDF', TfidfTransformer())],\n",
       "                          verbose=True)),\n",
       "                ('KMeans', KMeans())],\n",
       "         verbose=True)"
      ]
     },
     "execution_count": 18,
     "metadata": {},
     "output_type": "execute_result"
    }
   ],
   "source": [
    "from sklearn.pipeline import Pipeline\n",
    "from sklearn.cluster import KMeans\n",
    "\n",
    "preprocessor = Pipeline(\n",
    "    [\n",
    "        ('TFIDF_Vectorizer', TfidfVectorizer()),\n",
    "        ('TF-IDF', TfidfTransformer())\n",
    "    ],\n",
    "    verbose=True\n",
    ")\n",
    "\n",
    "kmeans_model = Pipeline(\n",
    "    [\n",
    "        ('Preprocessor', preprocessor),\n",
    "        ('KMeans', KMeans())\n",
    "    ],\n",
    "    verbose=True\n",
    ")\n",
    "\n",
    "from sklearn import set_config\n",
    "set_config(display='diagram')\n",
    "kmeans_model"
   ]
  },
  {
   "cell_type": "markdown",
   "metadata": {},
   "source": [
    "# 5. Pipeline Tuning"
   ]
  },
  {
   "cell_type": "code",
   "execution_count": 19,
   "metadata": {},
   "outputs": [
    {
     "name": "stdout",
     "output_type": "stream",
     "text": [
      "Starting with n_clusters= 2\n",
      "[Pipeline] .. (step 1 of 2) Processing TFIDF_Vectorizer, total=  19.2s\n",
      "[Pipeline] ............ (step 2 of 2) Processing TF-IDF, total=   1.6s\n",
      "[Pipeline] ...... (step 1 of 2) Processing Preprocessor, total=  20.8s\n",
      "[Pipeline] ............ (step 2 of 2) Processing KMeans, total=  36.3s\n",
      "Pipeline fit finished\n",
      "silhouette score finished\n",
      "\n",
      "Starting with n_clusters= 3\n",
      "[Pipeline] .. (step 1 of 2) Processing TFIDF_Vectorizer, total=  17.7s\n",
      "[Pipeline] ............ (step 2 of 2) Processing TF-IDF, total=   0.7s\n",
      "[Pipeline] ...... (step 1 of 2) Processing Preprocessor, total=  18.4s\n",
      "[Pipeline] ............ (step 2 of 2) Processing KMeans, total= 1.1min\n",
      "Pipeline fit finished\n",
      "silhouette score finished\n",
      "\n",
      "Starting with n_clusters= 4\n",
      "[Pipeline] .. (step 1 of 2) Processing TFIDF_Vectorizer, total=  17.3s\n",
      "[Pipeline] ............ (step 2 of 2) Processing TF-IDF, total=   0.9s\n",
      "[Pipeline] ...... (step 1 of 2) Processing Preprocessor, total=  18.2s\n",
      "[Pipeline] ............ (step 2 of 2) Processing KMeans, total= 1.5min\n",
      "Pipeline fit finished\n",
      "silhouette score finished\n",
      "\n",
      "Starting with n_clusters= 5\n",
      "[Pipeline] .. (step 1 of 2) Processing TFIDF_Vectorizer, total=  30.0s\n",
      "[Pipeline] ............ (step 2 of 2) Processing TF-IDF, total=   1.3s\n",
      "[Pipeline] ...... (step 1 of 2) Processing Preprocessor, total=  31.2s\n",
      "[Pipeline] ............ (step 2 of 2) Processing KMeans, total= 1.3min\n",
      "Pipeline fit finished\n",
      "silhouette score finished\n",
      "\n",
      "Starting with n_clusters= 6\n",
      "[Pipeline] .. (step 1 of 2) Processing TFIDF_Vectorizer, total=  19.5s\n",
      "[Pipeline] ............ (step 2 of 2) Processing TF-IDF, total=   0.7s\n",
      "[Pipeline] ...... (step 1 of 2) Processing Preprocessor, total=  20.2s\n",
      "[Pipeline] ............ (step 2 of 2) Processing KMeans, total= 1.8min\n",
      "Pipeline fit finished\n",
      "silhouette score finished\n",
      "\n",
      "Starting with n_clusters= 7\n",
      "[Pipeline] .. (step 1 of 2) Processing TFIDF_Vectorizer, total=  18.7s\n",
      "[Pipeline] ............ (step 2 of 2) Processing TF-IDF, total=   0.7s\n",
      "[Pipeline] ...... (step 1 of 2) Processing Preprocessor, total=  19.4s\n",
      "[Pipeline] ............ (step 2 of 2) Processing KMeans, total= 3.0min\n",
      "Pipeline fit finished\n",
      "silhouette score finished\n",
      "\n",
      "Starting with n_clusters= 8\n",
      "[Pipeline] .. (step 1 of 2) Processing TFIDF_Vectorizer, total=  16.5s\n",
      "[Pipeline] ............ (step 2 of 2) Processing TF-IDF, total=   0.6s\n",
      "[Pipeline] ...... (step 1 of 2) Processing Preprocessor, total=  17.1s\n",
      "[Pipeline] ............ (step 2 of 2) Processing KMeans, total= 2.6min\n",
      "Pipeline fit finished\n",
      "silhouette score finished\n",
      "\n",
      "Starting with n_clusters= 9\n",
      "[Pipeline] .. (step 1 of 2) Processing TFIDF_Vectorizer, total=  17.0s\n",
      "[Pipeline] ............ (step 2 of 2) Processing TF-IDF, total=   0.6s\n",
      "[Pipeline] ...... (step 1 of 2) Processing Preprocessor, total=  17.6s\n",
      "[Pipeline] ............ (step 2 of 2) Processing KMeans, total= 2.9min\n",
      "Pipeline fit finished\n",
      "silhouette score finished\n",
      "\n",
      "Starting with n_clusters= 10\n",
      "[Pipeline] .. (step 1 of 2) Processing TFIDF_Vectorizer, total=  17.4s\n",
      "[Pipeline] ............ (step 2 of 2) Processing TF-IDF, total=   0.6s\n",
      "[Pipeline] ...... (step 1 of 2) Processing Preprocessor, total=  18.0s\n",
      "[Pipeline] ............ (step 2 of 2) Processing KMeans, total= 3.5min\n",
      "Pipeline fit finished\n",
      "silhouette score finished\n",
      "\n"
     ]
    }
   ],
   "source": [
    "from sklearn.metrics import silhouette_score\n",
    "\n",
    "silhouette_coefficients = []\n",
    "\n",
    "for k in range(2, 11):\n",
    "    print(\"Starting with n_clusters=\", k)\n",
    "    kmeans_model = Pipeline(\n",
    "        [\n",
    "            ('Preprocessor', preprocessor),\n",
    "            ('KMeans', KMeans(n_clusters=k))\n",
    "        ],\n",
    "        verbose=True\n",
    "    )\n",
    "    \n",
    "    kmeans_model.fit(data['text'])\n",
    "    preprocessed_data = preprocessor.transform(data['text'])\n",
    "    print(\"Pipeline fit finished\")\n",
    "    score = silhouette_score(preprocessed_data, kmeans_model[\"KMeans\"].labels_)\n",
    "    print(\"silhouette score finished\")\n",
    "    print()\n",
    "    silhouette_coefficients.append(score)"
   ]
  },
  {
   "cell_type": "code",
   "execution_count": 20,
   "metadata": {},
   "outputs": [
    {
     "data": {
      "image/png": "[encoded data removed]",
      "text/plain": [
       "<Figure size 432x288 with 1 Axes>"
      ]
     },
     "metadata": {},
     "output_type": "display_data"
    }
   ],
   "source": [
    "plt.style.use(\"fivethirtyeight\")\n",
    "plt.plot(range(2, 11), silhouette_coefficients)\n",
    "plt.xticks(range(2, 11))\n",
    "plt.xlabel(\"Number of Clusters\")\n",
    "plt.ylabel(\"Silhouette Coefficient\")\n",
    "plt.show()"
   ]
  },
  {
   "cell_type": "markdown",
   "metadata": {},
   "source": [
    "## Retrain the model with the best scoring number of clusters"
   ]
  },
  {
   "cell_type": "code",
   "execution_count": 21,
   "metadata": {},
   "outputs": [
    {
     "name": "stdout",
     "output_type": "stream",
     "text": [
      "[Pipeline] .. (step 1 of 2) Processing TFIDF_Vectorizer, total=  18.8s\n",
      "[Pipeline] ............ (step 2 of 2) Processing TF-IDF, total=   0.7s\n",
      "[Pipeline] ...... (step 1 of 2) Processing Preprocessor, total=  19.4s\n",
      "[Pipeline] ............ (step 2 of 2) Processing KMeans, total= 3.2min\n"
     ]
    },
    {
     "data": {
      "text/html": [
       "<style>div.sk-top-container {color: black;background-color: white;}div.sk-toggleable {background-color: white;}label.sk-toggleable__label {cursor: pointer;display: block;width: 100%;margin-bottom: 0;padding: 0.2em 0.3em;box-sizing: border-box;text-align: center;}div.sk-toggleable__content {max-height: 0;max-width: 0;overflow: hidden;text-align: left;background-color: #f0f8ff;}div.sk-toggleable__content pre {margin: 0.2em;color: black;border-radius: 0.25em;background-color: #f0f8ff;}input.sk-toggleable__control:checked~div.sk-toggleable__content {max-height: 200px;max-width: 100%;overflow: auto;}div.sk-estimator input.sk-toggleable__control:checked~label.sk-toggleable__label {background-color: #d4ebff;}div.sk-label input.sk-toggleable__control:checked~label.sk-toggleable__label {background-color: #d4ebff;}input.sk-hidden--visually {border: 0;clip: rect(1px 1px 1px 1px);clip: rect(1px, 1px, 1px, 1px);height: 1px;margin: -1px;overflow: hidden;padding: 0;position: absolute;width: 1px;}div.sk-estimator {font-family: monospace;background-color: #f0f8ff;margin: 0.25em 0.25em;border: 1px dotted black;border-radius: 0.25em;box-sizing: border-box;}div.sk-estimator:hover {background-color: #d4ebff;}div.sk-parallel-item::after {content: \"\";width: 100%;border-bottom: 1px solid gray;flex-grow: 1;}div.sk-label:hover label.sk-toggleable__label {background-color: #d4ebff;}div.sk-serial::before {content: \"\";position: absolute;border-left: 1px solid gray;box-sizing: border-box;top: 2em;bottom: 0;left: 50%;}div.sk-serial {display: flex;flex-direction: column;align-items: center;background-color: white;}div.sk-item {z-index: 1;}div.sk-parallel {display: flex;align-items: stretch;justify-content: center;background-color: white;}div.sk-parallel-item {display: flex;flex-direction: column;position: relative;background-color: white;}div.sk-parallel-item:first-child::after {align-self: flex-end;width: 50%;}div.sk-parallel-item:last-child::after {align-self: flex-start;width: 50%;}div.sk-parallel-item:only-child::after {width: 0;}div.sk-dashed-wrapped {border: 1px dashed gray;margin: 0.2em;box-sizing: border-box;padding-bottom: 0.1em;background-color: white;position: relative;}div.sk-label label {font-family: monospace;font-weight: bold;background-color: white;display: inline-block;line-height: 1.2em;}div.sk-label-container {position: relative;z-index: 2;text-align: center;}div.sk-container {display: inline-block;position: relative;}</style><div class=\"sk-top-container\"><div class=\"sk-container\"><div class=\"sk-item sk-dashed-wrapped\"><div class=\"sk-label-container\"><div class=\"sk-label sk-toggleable\"><input class=\"sk-toggleable__control sk-hidden--visually\" id=\"47a70a4a-8c58-447e-b162-f3cb18f5e027\" type=\"checkbox\" ><label class=\"sk-toggleable__label\" for=\"47a70a4a-8c58-447e-b162-f3cb18f5e027\">Pipeline</label><div class=\"sk-toggleable__content\"><pre>Pipeline(steps=[('Preprocessor',\n",
       "                 Pipeline(steps=[('TFIDF_Vectorizer', TfidfVectorizer()),\n",
       "                                 ('TF-IDF', TfidfTransformer())],\n",
       "                          verbose=True)),\n",
       "                ('KMeans', KMeans(max_iter=500, n_clusters=10))],\n",
       "         verbose=True)</pre></div></div></div><div class=\"sk-serial\"><div class=\"sk-item\"><div class=\"sk-label-container\"><div class=\"sk-label sk-toggleable\"><input class=\"sk-toggleable__control sk-hidden--visually\" id=\"be8b4caf-15ad-4e60-ac6b-c056e750ce14\" type=\"checkbox\" ><label class=\"sk-toggleable__label\" for=\"be8b4caf-15ad-4e60-ac6b-c056e750ce14\">Preprocessor: Pipeline</label><div class=\"sk-toggleable__content\"><pre>Pipeline(steps=[('TFIDF_Vectorizer', TfidfVectorizer()),\n",
       "                ('TF-IDF', TfidfTransformer())],\n",
       "         verbose=True)</pre></div></div></div><div class=\"sk-serial\"><div class=\"sk-item\"><div class=\"sk-estimator sk-toggleable\"><input class=\"sk-toggleable__control sk-hidden--visually\" id=\"54343f44-73e1-42b8-bf69-eed0016a7933\" type=\"checkbox\" ><label class=\"sk-toggleable__label\" for=\"54343f44-73e1-42b8-bf69-eed0016a7933\">TfidfVectorizer</label><div class=\"sk-toggleable__content\"><pre>TfidfVectorizer()</pre></div></div></div><div class=\"sk-item\"><div class=\"sk-estimator sk-toggleable\"><input class=\"sk-toggleable__control sk-hidden--visually\" id=\"55a561ec-23bb-4501-bc10-8cfaa4ea6393\" type=\"checkbox\" ><label class=\"sk-toggleable__label\" for=\"55a561ec-23bb-4501-bc10-8cfaa4ea6393\">TfidfTransformer</label><div class=\"sk-toggleable__content\"><pre>TfidfTransformer()</pre></div></div></div></div></div><div class=\"sk-item\"><div class=\"sk-estimator sk-toggleable\"><input class=\"sk-toggleable__control sk-hidden--visually\" id=\"c5ac8b88-242d-4414-a187-76e556717dda\" type=\"checkbox\" ><label class=\"sk-toggleable__label\" for=\"c5ac8b88-242d-4414-a187-76e556717dda\">KMeans</label><div class=\"sk-toggleable__content\"><pre>KMeans(max_iter=500, n_clusters=10)</pre></div></div></div></div></div></div></div>"
      ],
      "text/plain": [
       "Pipeline(steps=[('Preprocessor',\n",
       "                 Pipeline(steps=[('TFIDF_Vectorizer', TfidfVectorizer()),\n",
       "                                 ('TF-IDF', TfidfTransformer())],\n",
       "                          verbose=True)),\n",
       "                ('KMeans', KMeans(max_iter=500, n_clusters=10))],\n",
       "         verbose=True)"
      ]
     },
     "execution_count": 21,
     "metadata": {},
     "output_type": "execute_result"
    }
   ],
   "source": [
    "k_best = np.argmax(silhouette_coefficients) + 2\n",
    "\n",
    "kmeans_model = Pipeline(\n",
    "    [\n",
    "        ('Preprocessor', preprocessor),\n",
    "        ('KMeans', KMeans(n_clusters=k_best, max_iter=500))\n",
    "    ],\n",
    "    verbose=True\n",
    ")\n",
    "\n",
    "kmeans_model.fit(data['text'])"
   ]
  },
  {
   "cell_type": "markdown",
   "metadata": {},
   "source": [
    "# Assignment\n",
    "### Build Nearest Neighbor Pipelines to measure distance between persons using CountVector and TFIDF"
   ]
  },
  {
   "cell_type": "code",
   "execution_count": 22,
   "metadata": {},
   "outputs": [],
   "source": [
    "from sklearn.neighbors import NearestNeighbors\n",
    "\n",
    "distance_knn_count = Pipeline(\n",
    "    [\n",
    "        ('Count_Vectorizer', CountVectorizer()),\n",
    "        ('NN', NearestNeighbors(metric='cosine'))\n",
    "    ],\n",
    "    verbose=True\n",
    ")\n",
    "\n",
    "distance_knn_tfidf = Pipeline(\n",
    "    [\n",
    "        ('TFIDF_Vectorizer', TfidfVectorizer()),\n",
    "        ('TF-IDF', TfidfTransformer()),\n",
    "        ('NN', NearestNeighbors(metric='cosine'))\n",
    "    ],\n",
    "    verbose=True\n",
    ")"
   ]
  },
  {
   "cell_type": "code",
   "execution_count": 23,
   "metadata": {},
   "outputs": [
    {
     "name": "stdout",
     "output_type": "stream",
     "text": [
      "[Pipeline] .. (step 1 of 2) Processing Count_Vectorizer, total=  18.5s\n",
      "[Pipeline] ................ (step 2 of 2) Processing NN, total=   0.0s\n"
     ]
    },
    {
     "data": {
      "text/html": [
       "<style>div.sk-top-container {color: black;background-color: white;}div.sk-toggleable {background-color: white;}label.sk-toggleable__label {cursor: pointer;display: block;width: 100%;margin-bottom: 0;padding: 0.2em 0.3em;box-sizing: border-box;text-align: center;}div.sk-toggleable__content {max-height: 0;max-width: 0;overflow: hidden;text-align: left;background-color: #f0f8ff;}div.sk-toggleable__content pre {margin: 0.2em;color: black;border-radius: 0.25em;background-color: #f0f8ff;}input.sk-toggleable__control:checked~div.sk-toggleable__content {max-height: 200px;max-width: 100%;overflow: auto;}div.sk-estimator input.sk-toggleable__control:checked~label.sk-toggleable__label {background-color: #d4ebff;}div.sk-label input.sk-toggleable__control:checked~label.sk-toggleable__label {background-color: #d4ebff;}input.sk-hidden--visually {border: 0;clip: rect(1px 1px 1px 1px);clip: rect(1px, 1px, 1px, 1px);height: 1px;margin: -1px;overflow: hidden;padding: 0;position: absolute;width: 1px;}div.sk-estimator {font-family: monospace;background-color: #f0f8ff;margin: 0.25em 0.25em;border: 1px dotted black;border-radius: 0.25em;box-sizing: border-box;}div.sk-estimator:hover {background-color: #d4ebff;}div.sk-parallel-item::after {content: \"\";width: 100%;border-bottom: 1px solid gray;flex-grow: 1;}div.sk-label:hover label.sk-toggleable__label {background-color: #d4ebff;}div.sk-serial::before {content: \"\";position: absolute;border-left: 1px solid gray;box-sizing: border-box;top: 2em;bottom: 0;left: 50%;}div.sk-serial {display: flex;flex-direction: column;align-items: center;background-color: white;}div.sk-item {z-index: 1;}div.sk-parallel {display: flex;align-items: stretch;justify-content: center;background-color: white;}div.sk-parallel-item {display: flex;flex-direction: column;position: relative;background-color: white;}div.sk-parallel-item:first-child::after {align-self: flex-end;width: 50%;}div.sk-parallel-item:last-child::after {align-self: flex-start;width: 50%;}div.sk-parallel-item:only-child::after {width: 0;}div.sk-dashed-wrapped {border: 1px dashed gray;margin: 0.2em;box-sizing: border-box;padding-bottom: 0.1em;background-color: white;position: relative;}div.sk-label label {font-family: monospace;font-weight: bold;background-color: white;display: inline-block;line-height: 1.2em;}div.sk-label-container {position: relative;z-index: 2;text-align: center;}div.sk-container {display: inline-block;position: relative;}</style><div class=\"sk-top-container\"><div class=\"sk-container\"><div class=\"sk-item sk-dashed-wrapped\"><div class=\"sk-label-container\"><div class=\"sk-label sk-toggleable\"><input class=\"sk-toggleable__control sk-hidden--visually\" id=\"3cfb2e0e-2a9c-4441-a3ab-9d1af6b93f47\" type=\"checkbox\" ><label class=\"sk-toggleable__label\" for=\"3cfb2e0e-2a9c-4441-a3ab-9d1af6b93f47\">Pipeline</label><div class=\"sk-toggleable__content\"><pre>Pipeline(steps=[('Count_Vectorizer', CountVectorizer()),\n",
       "                ('NN', NearestNeighbors(metric='cosine'))],\n",
       "         verbose=True)</pre></div></div></div><div class=\"sk-serial\"><div class=\"sk-item\"><div class=\"sk-estimator sk-toggleable\"><input class=\"sk-toggleable__control sk-hidden--visually\" id=\"1462ebd8-fbd1-437f-a9c9-2e7aff29dae5\" type=\"checkbox\" ><label class=\"sk-toggleable__label\" for=\"1462ebd8-fbd1-437f-a9c9-2e7aff29dae5\">CountVectorizer</label><div class=\"sk-toggleable__content\"><pre>CountVectorizer()</pre></div></div></div><div class=\"sk-item\"><div class=\"sk-estimator sk-toggleable\"><input class=\"sk-toggleable__control sk-hidden--visually\" id=\"f1e2dc76-8e88-4c45-bbd8-fad16627ec68\" type=\"checkbox\" ><label class=\"sk-toggleable__label\" for=\"f1e2dc76-8e88-4c45-bbd8-fad16627ec68\">NearestNeighbors</label><div class=\"sk-toggleable__content\"><pre>NearestNeighbors(metric='cosine')</pre></div></div></div></div></div></div></div>"
      ],
      "text/plain": [
       "Pipeline(steps=[('Count_Vectorizer', CountVectorizer()),\n",
       "                ('NN', NearestNeighbors(metric='cosine'))],\n",
       "         verbose=True)"
      ]
     },
     "execution_count": 23,
     "metadata": {},
     "output_type": "execute_result"
    }
   ],
   "source": [
    "distance_knn_count.fit(data['text'])"
   ]
  },
  {
   "cell_type": "code",
   "execution_count": 24,
   "metadata": {},
   "outputs": [
    {
     "name": "stdout",
     "output_type": "stream",
     "text": [
      "[Pipeline] .. (step 1 of 3) Processing TFIDF_Vectorizer, total=  19.1s\n",
      "[Pipeline] ............ (step 2 of 3) Processing TF-IDF, total=   0.8s\n",
      "[Pipeline] ................ (step 3 of 3) Processing NN, total=   0.0s\n"
     ]
    },
    {
     "data": {
      "text/html": [
       "<style>div.sk-top-container {color: black;background-color: white;}div.sk-toggleable {background-color: white;}label.sk-toggleable__label {cursor: pointer;display: block;width: 100%;margin-bottom: 0;padding: 0.2em 0.3em;box-sizing: border-box;text-align: center;}div.sk-toggleable__content {max-height: 0;max-width: 0;overflow: hidden;text-align: left;background-color: #f0f8ff;}div.sk-toggleable__content pre {margin: 0.2em;color: black;border-radius: 0.25em;background-color: #f0f8ff;}input.sk-toggleable__control:checked~div.sk-toggleable__content {max-height: 200px;max-width: 100%;overflow: auto;}div.sk-estimator input.sk-toggleable__control:checked~label.sk-toggleable__label {background-color: #d4ebff;}div.sk-label input.sk-toggleable__control:checked~label.sk-toggleable__label {background-color: #d4ebff;}input.sk-hidden--visually {border: 0;clip: rect(1px 1px 1px 1px);clip: rect(1px, 1px, 1px, 1px);height: 1px;margin: -1px;overflow: hidden;padding: 0;position: absolute;width: 1px;}div.sk-estimator {font-family: monospace;background-color: #f0f8ff;margin: 0.25em 0.25em;border: 1px dotted black;border-radius: 0.25em;box-sizing: border-box;}div.sk-estimator:hover {background-color: #d4ebff;}div.sk-parallel-item::after {content: \"\";width: 100%;border-bottom: 1px solid gray;flex-grow: 1;}div.sk-label:hover label.sk-toggleable__label {background-color: #d4ebff;}div.sk-serial::before {content: \"\";position: absolute;border-left: 1px solid gray;box-sizing: border-box;top: 2em;bottom: 0;left: 50%;}div.sk-serial {display: flex;flex-direction: column;align-items: center;background-color: white;}div.sk-item {z-index: 1;}div.sk-parallel {display: flex;align-items: stretch;justify-content: center;background-color: white;}div.sk-parallel-item {display: flex;flex-direction: column;position: relative;background-color: white;}div.sk-parallel-item:first-child::after {align-self: flex-end;width: 50%;}div.sk-parallel-item:last-child::after {align-self: flex-start;width: 50%;}div.sk-parallel-item:only-child::after {width: 0;}div.sk-dashed-wrapped {border: 1px dashed gray;margin: 0.2em;box-sizing: border-box;padding-bottom: 0.1em;background-color: white;position: relative;}div.sk-label label {font-family: monospace;font-weight: bold;background-color: white;display: inline-block;line-height: 1.2em;}div.sk-label-container {position: relative;z-index: 2;text-align: center;}div.sk-container {display: inline-block;position: relative;}</style><div class=\"sk-top-container\"><div class=\"sk-container\"><div class=\"sk-item sk-dashed-wrapped\"><div class=\"sk-label-container\"><div class=\"sk-label sk-toggleable\"><input class=\"sk-toggleable__control sk-hidden--visually\" id=\"be36afa8-8e6b-4e88-b60e-f825d1525a6b\" type=\"checkbox\" ><label class=\"sk-toggleable__label\" for=\"be36afa8-8e6b-4e88-b60e-f825d1525a6b\">Pipeline</label><div class=\"sk-toggleable__content\"><pre>Pipeline(steps=[('TFIDF_Vectorizer', TfidfVectorizer()),\n",
       "                ('TF-IDF', TfidfTransformer()),\n",
       "                ('NN', NearestNeighbors(metric='cosine'))],\n",
       "         verbose=True)</pre></div></div></div><div class=\"sk-serial\"><div class=\"sk-item\"><div class=\"sk-estimator sk-toggleable\"><input class=\"sk-toggleable__control sk-hidden--visually\" id=\"427d4ed0-f046-4983-83ea-650fab680968\" type=\"checkbox\" ><label class=\"sk-toggleable__label\" for=\"427d4ed0-f046-4983-83ea-650fab680968\">TfidfVectorizer</label><div class=\"sk-toggleable__content\"><pre>TfidfVectorizer()</pre></div></div></div><div class=\"sk-item\"><div class=\"sk-estimator sk-toggleable\"><input class=\"sk-toggleable__control sk-hidden--visually\" id=\"68caf742-1703-470f-9717-2557ae4aa5cd\" type=\"checkbox\" ><label class=\"sk-toggleable__label\" for=\"68caf742-1703-470f-9717-2557ae4aa5cd\">TfidfTransformer</label><div class=\"sk-toggleable__content\"><pre>TfidfTransformer()</pre></div></div></div><div class=\"sk-item\"><div class=\"sk-estimator sk-toggleable\"><input class=\"sk-toggleable__control sk-hidden--visually\" id=\"5207b239-d43f-4642-a77b-8b8fefe71acb\" type=\"checkbox\" ><label class=\"sk-toggleable__label\" for=\"5207b239-d43f-4642-a77b-8b8fefe71acb\">NearestNeighbors</label><div class=\"sk-toggleable__content\"><pre>NearestNeighbors(metric='cosine')</pre></div></div></div></div></div></div></div>"
      ],
      "text/plain": [
       "Pipeline(steps=[('TFIDF_Vectorizer', TfidfVectorizer()),\n",
       "                ('TF-IDF', TfidfTransformer()),\n",
       "                ('NN', NearestNeighbors(metric='cosine'))],\n",
       "         verbose=True)"
      ]
     },
     "execution_count": 24,
     "metadata": {},
     "output_type": "execute_result"
    }
   ],
   "source": [
    "distance_knn_tfidf.fit(data['text'])"
   ]
  },
  {
   "cell_type": "code",
   "execution_count": 25,
   "metadata": {},
   "outputs": [],
   "source": [
    "def query_distance_count(name):\n",
    "    x = data.loc[data['name'] == name].to_dict('list')['text'][0]\n",
    "    x = distance_knn_count['Count_Vectorizer'].transform([x])\n",
    "    y = distance_knn_count['NN'].kneighbors(x)\n",
    "    \n",
    "    for i in y[1]:\n",
    "        print(data.loc[i]['name'])\n",
    "        \n",
    "def query_distance_tfidf(name):\n",
    "    x = data.loc[data['name'] == name].to_dict('list')['text'][0]\n",
    "    x = distance_knn_tfidf['TFIDF_Vectorizer'].transform([x])\n",
    "    y = distance_knn_count['NN'].kneighbors(x)\n",
    "    \n",
    "    for i in y[1]:\n",
    "        print(data.loc[i]['name'])"
   ]
  },
  {
   "cell_type": "code",
   "execution_count": 26,
   "metadata": {},
   "outputs": [
    {
     "name": "stdout",
     "output_type": "stream",
     "text": [
      "19923        Elton John\n",
      "41668     Cliff Richard\n",
      "25798    Sandro Petrone\n",
      "28825       Rod Stewart\n",
      "37447     Roger Daltrey\n",
      "Name: name, dtype: object\n"
     ]
    }
   ],
   "source": [
    "name = 'Elton John'\n",
    "query_distance_count(name)"
   ]
  },
  {
   "cell_type": "code",
   "execution_count": 27,
   "metadata": {},
   "outputs": [
    {
     "name": "stdout",
     "output_type": "stream",
     "text": [
      "19923             Elton John\n",
      "28825            Rod Stewart\n",
      "29297         Kelly Clarkson\n",
      "17505         George Michael\n",
      "16423    Usher (entertainer)\n",
      "Name: name, dtype: object\n"
     ]
    }
   ],
   "source": [
    "name = 'Elton John'\n",
    "query_distance_tfidf(name)"
   ]
  },
  {
   "cell_type": "code",
   "execution_count": 28,
   "metadata": {},
   "outputs": [
    {
     "name": "stdout",
     "output_type": "stream",
     "text": [
      "50411            Victoria Beckham\n",
      "669      Mary Fitzgerald (artist)\n",
      "45129              Adrienne Corri\n",
      "39504            Beverly Jane Fry\n",
      "13937               Raman Mundair\n",
      "Name: name, dtype: object\n"
     ]
    }
   ],
   "source": [
    "name = 'Victoria Beckham'\n",
    "query_distance_count(name)"
   ]
  },
  {
   "cell_type": "code",
   "execution_count": 29,
   "metadata": {},
   "outputs": [
    {
     "name": "stdout",
     "output_type": "stream",
     "text": [
      "50411     Victoria Beckham\n",
      "23386        David Beckham\n",
      "56064    Yuliya Polishchuk\n",
      "58438     Mona al Mansouri\n",
      "6635     Wal%C3%A9 Adeyemi\n",
      "Name: name, dtype: object\n"
     ]
    }
   ],
   "source": [
    "name = 'Victoria Beckham'\n",
    "query_distance_tfidf(name)"
   ]
  },
  {
   "cell_type": "code",
   "execution_count": null,
   "metadata": {},
   "outputs": [],
   "source": []
  }
 ],
 "metadata": {
  "kernelspec": {
   "display_name": "Python 3",
   "language": "python",
   "name": "python3"
  },
  "language_info": {
   "codemirror_mode": {
    "name": "ipython",
    "version": 3
   },
   "file_extension": ".py",
   "mimetype": "text/x-python",
   "name": "python",
   "nbconvert_exporter": "python",
   "pygments_lexer": "ipython3",
   "version": "3.8.5"
  }
 },
 "nbformat": 4,
 "nbformat_minor": 4
}
