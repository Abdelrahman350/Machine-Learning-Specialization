{
 "cells": [
  {
   "cell_type": "markdown",
   "metadata": {},
   "source": [
    "# Import ScikitLearn, Pandas and Numpy"
   ]
  },
  {
   "cell_type": "code",
   "execution_count": 1,
   "metadata": {},
   "outputs": [],
   "source": [
    "import sklearn\n",
    "import pandas as pd\n",
    "import numpy as np"
   ]
  },
  {
   "cell_type": "markdown",
   "metadata": {},
   "source": [
    "# 1. Read the Dataset using Pandas"
   ]
  },
  {
   "cell_type": "code",
   "execution_count": 2,
   "metadata": {},
   "outputs": [],
   "source": [
    "data = pd.read_csv('data/song_data.csv')"
   ]
  },
  {
   "cell_type": "code",
   "execution_count": 3,
   "metadata": {},
   "outputs": [
    {
     "data": {
      "text/html": [
       "<div>\n",
       "<style scoped>\n",
       "    .dataframe tbody tr th:only-of-type {\n",
       "        vertical-align: middle;\n",
       "    }\n",
       "\n",
       "    .dataframe tbody tr th {\n",
       "        vertical-align: top;\n",
       "    }\n",
       "\n",
       "    .dataframe thead th {\n",
       "        text-align: right;\n",
       "    }\n",
       "</style>\n",
       "<table border=\"1\" class=\"dataframe\">\n",
       "  <thead>\n",
       "    <tr style=\"text-align: right;\">\n",
       "      <th></th>\n",
       "      <th>user_id</th>\n",
       "      <th>song_id</th>\n",
       "      <th>listen_count</th>\n",
       "      <th>title</th>\n",
       "      <th>artist</th>\n",
       "      <th>song</th>\n",
       "    </tr>\n",
       "  </thead>\n",
       "  <tbody>\n",
       "    <tr>\n",
       "      <th>0</th>\n",
       "      <td>b80344d063b5ccb3212f76538f3d9e43d87dca9e</td>\n",
       "      <td>SOAKIMP12A8C130995</td>\n",
       "      <td>1</td>\n",
       "      <td>The Cove</td>\n",
       "      <td>Jack Johnson</td>\n",
       "      <td>The Cove - Jack Johnson</td>\n",
       "    </tr>\n",
       "    <tr>\n",
       "      <th>1</th>\n",
       "      <td>b80344d063b5ccb3212f76538f3d9e43d87dca9e</td>\n",
       "      <td>SOBBMDR12A8C13253B</td>\n",
       "      <td>2</td>\n",
       "      <td>Entre Dos Aguas</td>\n",
       "      <td>Paco De Lucia</td>\n",
       "      <td>Entre Dos Aguas - Paco De Lucia</td>\n",
       "    </tr>\n",
       "    <tr>\n",
       "      <th>2</th>\n",
       "      <td>b80344d063b5ccb3212f76538f3d9e43d87dca9e</td>\n",
       "      <td>SOBXHDL12A81C204C0</td>\n",
       "      <td>1</td>\n",
       "      <td>Stronger</td>\n",
       "      <td>Kanye West</td>\n",
       "      <td>Stronger - Kanye West</td>\n",
       "    </tr>\n",
       "    <tr>\n",
       "      <th>3</th>\n",
       "      <td>b80344d063b5ccb3212f76538f3d9e43d87dca9e</td>\n",
       "      <td>SOBYHAJ12A6701BF1D</td>\n",
       "      <td>1</td>\n",
       "      <td>Constellations</td>\n",
       "      <td>Jack Johnson</td>\n",
       "      <td>Constellations - Jack Johnson</td>\n",
       "    </tr>\n",
       "    <tr>\n",
       "      <th>4</th>\n",
       "      <td>b80344d063b5ccb3212f76538f3d9e43d87dca9e</td>\n",
       "      <td>SODACBL12A8C13C273</td>\n",
       "      <td>1</td>\n",
       "      <td>Learn To Fly</td>\n",
       "      <td>Foo Fighters</td>\n",
       "      <td>Learn To Fly - Foo Fighters</td>\n",
       "    </tr>\n",
       "    <tr>\n",
       "      <th>...</th>\n",
       "      <td>...</td>\n",
       "      <td>...</td>\n",
       "      <td>...</td>\n",
       "      <td>...</td>\n",
       "      <td>...</td>\n",
       "      <td>...</td>\n",
       "    </tr>\n",
       "    <tr>\n",
       "      <th>1116604</th>\n",
       "      <td>276e43ad698705e5011e5091f367d951b21246f5</td>\n",
       "      <td>SOWTYVO12AB0180BDA</td>\n",
       "      <td>8</td>\n",
       "      <td>Surf Wax America</td>\n",
       "      <td>Weezer</td>\n",
       "      <td>Surf Wax America - Weezer</td>\n",
       "    </tr>\n",
       "    <tr>\n",
       "      <th>1116605</th>\n",
       "      <td>276e43ad698705e5011e5091f367d951b21246f5</td>\n",
       "      <td>SOWZHOY12A6701F9FC</td>\n",
       "      <td>1</td>\n",
       "      <td>Kill The King</td>\n",
       "      <td>Megadeth</td>\n",
       "      <td>Kill The King - Megadeth</td>\n",
       "    </tr>\n",
       "    <tr>\n",
       "      <th>1116606</th>\n",
       "      <td>276e43ad698705e5011e5091f367d951b21246f5</td>\n",
       "      <td>SOXJOZW12A6701E90E</td>\n",
       "      <td>7</td>\n",
       "      <td>You Think I Ain\\'t Worth A Dollar_ But I Feel ...</td>\n",
       "      <td>Queens Of The Stone Age</td>\n",
       "      <td>You Think I Ain\\'t Worth A Dollar_ But I Feel ...</td>\n",
       "    </tr>\n",
       "    <tr>\n",
       "      <th>1116607</th>\n",
       "      <td>276e43ad698705e5011e5091f367d951b21246f5</td>\n",
       "      <td>SOXNKNC12A6701F7A8</td>\n",
       "      <td>1</td>\n",
       "      <td>Superbeast</td>\n",
       "      <td>Rob Zombie</td>\n",
       "      <td>Superbeast - Rob Zombie</td>\n",
       "    </tr>\n",
       "    <tr>\n",
       "      <th>1116608</th>\n",
       "      <td>276e43ad698705e5011e5091f367d951b21246f5</td>\n",
       "      <td>SOYRMVO12A6701D106</td>\n",
       "      <td>1</td>\n",
       "      <td>Keep Away</td>\n",
       "      <td>Godsmack</td>\n",
       "      <td>Keep Away - Godsmack</td>\n",
       "    </tr>\n",
       "  </tbody>\n",
       "</table>\n",
       "<p>1116609 rows × 6 columns</p>\n",
       "</div>"
      ],
      "text/plain": [
       "                                          user_id             song_id  \\\n",
       "0        b80344d063b5ccb3212f76538f3d9e43d87dca9e  SOAKIMP12A8C130995   \n",
       "1        b80344d063b5ccb3212f76538f3d9e43d87dca9e  SOBBMDR12A8C13253B   \n",
       "2        b80344d063b5ccb3212f76538f3d9e43d87dca9e  SOBXHDL12A81C204C0   \n",
       "3        b80344d063b5ccb3212f76538f3d9e43d87dca9e  SOBYHAJ12A6701BF1D   \n",
       "4        b80344d063b5ccb3212f76538f3d9e43d87dca9e  SODACBL12A8C13C273   \n",
       "...                                           ...                 ...   \n",
       "1116604  276e43ad698705e5011e5091f367d951b21246f5  SOWTYVO12AB0180BDA   \n",
       "1116605  276e43ad698705e5011e5091f367d951b21246f5  SOWZHOY12A6701F9FC   \n",
       "1116606  276e43ad698705e5011e5091f367d951b21246f5  SOXJOZW12A6701E90E   \n",
       "1116607  276e43ad698705e5011e5091f367d951b21246f5  SOXNKNC12A6701F7A8   \n",
       "1116608  276e43ad698705e5011e5091f367d951b21246f5  SOYRMVO12A6701D106   \n",
       "\n",
       "         listen_count                                              title  \\\n",
       "0                   1                                           The Cove   \n",
       "1                   2                                    Entre Dos Aguas   \n",
       "2                   1                                           Stronger   \n",
       "3                   1                                     Constellations   \n",
       "4                   1                                       Learn To Fly   \n",
       "...               ...                                                ...   \n",
       "1116604             8                                   Surf Wax America   \n",
       "1116605             1                                      Kill The King   \n",
       "1116606             7  You Think I Ain\\'t Worth A Dollar_ But I Feel ...   \n",
       "1116607             1                                         Superbeast   \n",
       "1116608             1                                          Keep Away   \n",
       "\n",
       "                          artist  \\\n",
       "0                   Jack Johnson   \n",
       "1                  Paco De Lucia   \n",
       "2                     Kanye West   \n",
       "3                   Jack Johnson   \n",
       "4                   Foo Fighters   \n",
       "...                          ...   \n",
       "1116604                   Weezer   \n",
       "1116605                 Megadeth   \n",
       "1116606  Queens Of The Stone Age   \n",
       "1116607               Rob Zombie   \n",
       "1116608                 Godsmack   \n",
       "\n",
       "                                                      song  \n",
       "0                                  The Cove - Jack Johnson  \n",
       "1                          Entre Dos Aguas - Paco De Lucia  \n",
       "2                                    Stronger - Kanye West  \n",
       "3                            Constellations - Jack Johnson  \n",
       "4                              Learn To Fly - Foo Fighters  \n",
       "...                                                    ...  \n",
       "1116604                          Surf Wax America - Weezer  \n",
       "1116605                           Kill The King - Megadeth  \n",
       "1116606  You Think I Ain\\'t Worth A Dollar_ But I Feel ...  \n",
       "1116607                            Superbeast - Rob Zombie  \n",
       "1116608                               Keep Away - Godsmack  \n",
       "\n",
       "[1116609 rows x 6 columns]"
      ]
     },
     "execution_count": 3,
     "metadata": {},
     "output_type": "execute_result"
    }
   ],
   "source": [
    "data"
   ]
  },
  {
   "cell_type": "markdown",
   "metadata": {},
   "source": [
    "# 2. Exploratory Data Analysis"
   ]
  },
  {
   "cell_type": "code",
   "execution_count": 4,
   "metadata": {},
   "outputs": [
    {
     "data": {
      "text/html": [
       "<div>\n",
       "<style scoped>\n",
       "    .dataframe tbody tr th:only-of-type {\n",
       "        vertical-align: middle;\n",
       "    }\n",
       "\n",
       "    .dataframe tbody tr th {\n",
       "        vertical-align: top;\n",
       "    }\n",
       "\n",
       "    .dataframe thead th {\n",
       "        text-align: right;\n",
       "    }\n",
       "</style>\n",
       "<table border=\"1\" class=\"dataframe\">\n",
       "  <thead>\n",
       "    <tr style=\"text-align: right;\">\n",
       "      <th></th>\n",
       "      <th>user_id</th>\n",
       "      <th>song_id</th>\n",
       "      <th>listen_count</th>\n",
       "      <th>title</th>\n",
       "      <th>artist</th>\n",
       "      <th>song</th>\n",
       "    </tr>\n",
       "  </thead>\n",
       "  <tbody>\n",
       "    <tr>\n",
       "      <th>0</th>\n",
       "      <td>b80344d063b5ccb3212f76538f3d9e43d87dca9e</td>\n",
       "      <td>SOAKIMP12A8C130995</td>\n",
       "      <td>1</td>\n",
       "      <td>The Cove</td>\n",
       "      <td>Jack Johnson</td>\n",
       "      <td>The Cove - Jack Johnson</td>\n",
       "    </tr>\n",
       "    <tr>\n",
       "      <th>1</th>\n",
       "      <td>b80344d063b5ccb3212f76538f3d9e43d87dca9e</td>\n",
       "      <td>SOBBMDR12A8C13253B</td>\n",
       "      <td>2</td>\n",
       "      <td>Entre Dos Aguas</td>\n",
       "      <td>Paco De Lucia</td>\n",
       "      <td>Entre Dos Aguas - Paco De Lucia</td>\n",
       "    </tr>\n",
       "    <tr>\n",
       "      <th>2</th>\n",
       "      <td>b80344d063b5ccb3212f76538f3d9e43d87dca9e</td>\n",
       "      <td>SOBXHDL12A81C204C0</td>\n",
       "      <td>1</td>\n",
       "      <td>Stronger</td>\n",
       "      <td>Kanye West</td>\n",
       "      <td>Stronger - Kanye West</td>\n",
       "    </tr>\n",
       "    <tr>\n",
       "      <th>3</th>\n",
       "      <td>b80344d063b5ccb3212f76538f3d9e43d87dca9e</td>\n",
       "      <td>SOBYHAJ12A6701BF1D</td>\n",
       "      <td>1</td>\n",
       "      <td>Constellations</td>\n",
       "      <td>Jack Johnson</td>\n",
       "      <td>Constellations - Jack Johnson</td>\n",
       "    </tr>\n",
       "    <tr>\n",
       "      <th>4</th>\n",
       "      <td>b80344d063b5ccb3212f76538f3d9e43d87dca9e</td>\n",
       "      <td>SODACBL12A8C13C273</td>\n",
       "      <td>1</td>\n",
       "      <td>Learn To Fly</td>\n",
       "      <td>Foo Fighters</td>\n",
       "      <td>Learn To Fly - Foo Fighters</td>\n",
       "    </tr>\n",
       "  </tbody>\n",
       "</table>\n",
       "</div>"
      ],
      "text/plain": [
       "                                    user_id             song_id  listen_count  \\\n",
       "0  b80344d063b5ccb3212f76538f3d9e43d87dca9e  SOAKIMP12A8C130995             1   \n",
       "1  b80344d063b5ccb3212f76538f3d9e43d87dca9e  SOBBMDR12A8C13253B             2   \n",
       "2  b80344d063b5ccb3212f76538f3d9e43d87dca9e  SOBXHDL12A81C204C0             1   \n",
       "3  b80344d063b5ccb3212f76538f3d9e43d87dca9e  SOBYHAJ12A6701BF1D             1   \n",
       "4  b80344d063b5ccb3212f76538f3d9e43d87dca9e  SODACBL12A8C13C273             1   \n",
       "\n",
       "             title         artist                             song  \n",
       "0         The Cove   Jack Johnson          The Cove - Jack Johnson  \n",
       "1  Entre Dos Aguas  Paco De Lucia  Entre Dos Aguas - Paco De Lucia  \n",
       "2         Stronger     Kanye West            Stronger - Kanye West  \n",
       "3   Constellations   Jack Johnson    Constellations - Jack Johnson  \n",
       "4     Learn To Fly   Foo Fighters      Learn To Fly - Foo Fighters  "
      ]
     },
     "execution_count": 4,
     "metadata": {},
     "output_type": "execute_result"
    }
   ],
   "source": [
    "data.head()"
   ]
  },
  {
   "cell_type": "code",
   "execution_count": 5,
   "metadata": {},
   "outputs": [
    {
     "name": "stdout",
     "output_type": "stream",
     "text": [
      "<class 'pandas.core.frame.DataFrame'>\n",
      "RangeIndex: 1116609 entries, 0 to 1116608\n",
      "Data columns (total 6 columns):\n",
      " #   Column        Non-Null Count    Dtype \n",
      "---  ------        --------------    ----- \n",
      " 0   user_id       1116609 non-null  object\n",
      " 1   song_id       1116609 non-null  object\n",
      " 2   listen_count  1116609 non-null  int64 \n",
      " 3   title         1116609 non-null  object\n",
      " 4   artist        1116609 non-null  object\n",
      " 5   song          1116609 non-null  object\n",
      "dtypes: int64(1), object(5)\n",
      "memory usage: 51.1+ MB\n"
     ]
    }
   ],
   "source": [
    "data.info()"
   ]
  },
  {
   "cell_type": "code",
   "execution_count": 6,
   "metadata": {},
   "outputs": [
    {
     "data": {
      "text/plain": [
       "user_id         66346\n",
       "song_id         10000\n",
       "listen_count      276\n",
       "title            9566\n",
       "artist           3375\n",
       "song             9952\n",
       "dtype: int64"
      ]
     },
     "execution_count": 6,
     "metadata": {},
     "output_type": "execute_result"
    }
   ],
   "source": [
    "data.nunique()"
   ]
  },
  {
   "cell_type": "markdown",
   "metadata": {},
   "source": [
    "# 3. Data Preprocessing"
   ]
  },
  {
   "cell_type": "markdown",
   "metadata": {},
   "source": [
    "# Assignment\n",
    "## 1. Counting unique users"
   ]
  },
  {
   "cell_type": "code",
   "execution_count": 7,
   "metadata": {},
   "outputs": [
    {
     "name": "stdout",
     "output_type": "stream",
     "text": [
      "Number of users listen to  Kanye West  =  2522\n",
      "Number of users listen to  Foo Fighters  =  2055\n",
      "Number of users listen to  Taylor Swift  =  3246\n",
      "Number of users listen to  Lady GaGa  =  2928\n",
      "\n",
      "[('Kanye West', 2522), ('Foo Fighters', 2055), ('Taylor Swift', 3246), ('Lady GaGa', 2928)]\n",
      "\n",
      "The artist with maximum score is : Taylor Swift\n",
      "The artist with minimum score is : Foo Fighters\n"
     ]
    }
   ],
   "source": [
    "from operator import itemgetter \n",
    "\n",
    "artists = ['Kanye West', 'Foo Fighters', 'Taylor Swift', 'Lady GaGa']\n",
    "pair_list = []\n",
    "for artist in artists:\n",
    "    score = data[data['artist']==artist]['user_id'].nunique()\n",
    "    pair_list.append((artist, score))\n",
    "    print(\"Number of users listen to \", artist,\" = \", score)\n",
    "    \n",
    "print(         )\n",
    "print(pair_list)\n",
    "print(         )\n",
    "result = max(pair_list, key = itemgetter(1))[0]\n",
    "print(\"The artist with maximum score is : \" + result)\n",
    "result = min(pair_list, key = itemgetter(1))[0]\n",
    "print(\"The artist with minimum score is : \" + result)"
   ]
  },
  {
   "cell_type": "markdown",
   "metadata": {},
   "source": [
    "## 2. Using groupby-aggregate to find the most popular and least popular artist"
   ]
  },
  {
   "cell_type": "code",
   "execution_count": 8,
   "metadata": {},
   "outputs": [
    {
     "data": {
      "text/plain": [
       "artist\n",
       "Kings Of Leon                        43218\n",
       "Dwight Yoakam                        40619\n",
       "Björk                                38889\n",
       "Coldplay                             35362\n",
       "Florence + The Machine               33387\n",
       "                                     ...  \n",
       "Boggle Karaoke                          30\n",
       "Diplo                                   30\n",
       "Beyoncé feat. Bun B and Slim Thug       26\n",
       "Reel Feelings                           24\n",
       "William Tabbert                         14\n",
       "Name: listen_count, Length: 3375, dtype: int64"
      ]
     },
     "execution_count": 8,
     "metadata": {},
     "output_type": "execute_result"
    }
   ],
   "source": [
    "popularity = (data.groupby(['artist'], sort=False)['listen_count'].sum()).sort_values(ascending=False)\n",
    "popularity"
   ]
  }
 ],
 "metadata": {
  "kernelspec": {
   "display_name": "Python 3",
   "language": "python",
   "name": "python3"
  },
  "language_info": {
   "codemirror_mode": {
    "name": "ipython",
    "version": 3
   },
   "file_extension": ".py",
   "mimetype": "text/x-python",
   "name": "python",
   "nbconvert_exporter": "python",
   "pygments_lexer": "ipython3",
   "version": "3.8.5"
  }
 },
 "nbformat": 4,
 "nbformat_minor": 4
}
