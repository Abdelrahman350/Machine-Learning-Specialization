{
 "cells": [
  {
   "cell_type": "markdown",
   "metadata": {},
   "source": [
    "# Import ScikitLearn, Pandas and Numpy"
   ]
  },
  {
   "cell_type": "code",
   "execution_count": 1,
   "metadata": {},
   "outputs": [],
   "source": [
    "import sklearn\n",
    "import pandas as pd\n",
    "import numpy as np"
   ]
  },
  {
   "cell_type": "markdown",
   "metadata": {},
   "source": [
    "# 1. Read the Dataset using Pandas\n"
   ]
  },
  {
   "cell_type": "code",
   "execution_count": 2,
   "metadata": {},
   "outputs": [],
   "source": [
    "train_data = pd.read_csv(\"data/image_train_data/image_train_data.csv\")\n",
    "test_data = pd.read_csv(\"data/image_test_data/image_test_data.csv\")"
   ]
  },
  {
   "cell_type": "code",
   "execution_count": 3,
   "metadata": {},
   "outputs": [
    {
     "data": {
      "text/html": [
       "<div>\n",
       "<style scoped>\n",
       "    .dataframe tbody tr th:only-of-type {\n",
       "        vertical-align: middle;\n",
       "    }\n",
       "\n",
       "    .dataframe tbody tr th {\n",
       "        vertical-align: top;\n",
       "    }\n",
       "\n",
       "    .dataframe thead th {\n",
       "        text-align: right;\n",
       "    }\n",
       "</style>\n",
       "<table border=\"1\" class=\"dataframe\">\n",
       "  <thead>\n",
       "    <tr style=\"text-align: right;\">\n",
       "      <th></th>\n",
       "      <th>id</th>\n",
       "      <th>image</th>\n",
       "      <th>label</th>\n",
       "      <th>deep_features</th>\n",
       "      <th>image_array</th>\n",
       "    </tr>\n",
       "  </thead>\n",
       "  <tbody>\n",
       "    <tr>\n",
       "      <th>0</th>\n",
       "      <td>24</td>\n",
       "      <td>Height: 32 Width: 32</td>\n",
       "      <td>bird</td>\n",
       "      <td>[0.242872 1.09545 0 0.39363 0 0 11.8949 0 0 0 ...</td>\n",
       "      <td>[73 77 58 71 68 50 77 69 44 120 116 83 125 120...</td>\n",
       "    </tr>\n",
       "    <tr>\n",
       "      <th>1</th>\n",
       "      <td>33</td>\n",
       "      <td>Height: 32 Width: 32</td>\n",
       "      <td>cat</td>\n",
       "      <td>[0.525088 0 0 0 0 0 9.94829 0 0 0 0 0 1.01264 ...</td>\n",
       "      <td>[7 5 8 7 5 8 5 4 6 7 4 7 11 5 9 11 5 9 17 11 1...</td>\n",
       "    </tr>\n",
       "    <tr>\n",
       "      <th>2</th>\n",
       "      <td>36</td>\n",
       "      <td>Height: 32 Width: 32</td>\n",
       "      <td>cat</td>\n",
       "      <td>[0.566016 0 0 0 0 0 9.9972 0 0 0 1.38345 0 0.7...</td>\n",
       "      <td>[169 122 65 131 108 75 193 196 192 218 221 222...</td>\n",
       "    </tr>\n",
       "    <tr>\n",
       "      <th>3</th>\n",
       "      <td>70</td>\n",
       "      <td>Height: 32 Width: 32</td>\n",
       "      <td>dog</td>\n",
       "      <td>[1.1298 0 0 0.778194 0 0.758051 9.83053 0 0 0....</td>\n",
       "      <td>[154 179 152 159 183 157 165 189 162 174 199 1...</td>\n",
       "    </tr>\n",
       "    <tr>\n",
       "      <th>4</th>\n",
       "      <td>90</td>\n",
       "      <td>Height: 32 Width: 32</td>\n",
       "      <td>bird</td>\n",
       "      <td>[1.71787 0 0 0 0 0 9.33936 0 0 0 0 0 0.412137 ...</td>\n",
       "      <td>[216 195 180 201 178 160 210 184 164 212 188 1...</td>\n",
       "    </tr>\n",
       "    <tr>\n",
       "      <th>...</th>\n",
       "      <td>...</td>\n",
       "      <td>...</td>\n",
       "      <td>...</td>\n",
       "      <td>...</td>\n",
       "      <td>...</td>\n",
       "    </tr>\n",
       "    <tr>\n",
       "      <th>2000</th>\n",
       "      <td>49913</td>\n",
       "      <td>Height: 32 Width: 32</td>\n",
       "      <td>automobile</td>\n",
       "      <td>[1.20238 0.342965 0 0 0.433364 0.782301 9.7449...</td>\n",
       "      <td>[188 223 251 207 231 247 215 231 241 193 209 2...</td>\n",
       "    </tr>\n",
       "    <tr>\n",
       "      <th>2001</th>\n",
       "      <td>49919</td>\n",
       "      <td>Height: 32 Width: 32</td>\n",
       "      <td>automobile</td>\n",
       "      <td>[0 0 0 0.769036 0 0 9.27708 0 0 0 0 0 1.61649 ...</td>\n",
       "      <td>[33 32 24 33 34 27 36 38 32 45 41 35 71 59 42 ...</td>\n",
       "    </tr>\n",
       "    <tr>\n",
       "      <th>2002</th>\n",
       "      <td>49927</td>\n",
       "      <td>Height: 32 Width: 32</td>\n",
       "      <td>dog</td>\n",
       "      <td>[0.558163 0 1.0511 0 0 0 8.92445 0.321142 0 0 ...</td>\n",
       "      <td>[3 2 7 3 2 7 3 2 7 3 2 7 5 4 9 5 4 9 5 4 9 4 5...</td>\n",
       "    </tr>\n",
       "    <tr>\n",
       "      <th>2003</th>\n",
       "      <td>49958</td>\n",
       "      <td>Height: 32 Width: 32</td>\n",
       "      <td>cat</td>\n",
       "      <td>[0.67496 0 0 1.96409 0.646847 0.17025 11.3564 ...</td>\n",
       "      <td>[102 142 139 97 136 133 98 137 134 98 137 135 ...</td>\n",
       "    </tr>\n",
       "    <tr>\n",
       "      <th>2004</th>\n",
       "      <td>49970</td>\n",
       "      <td>Height: 32 Width: 32</td>\n",
       "      <td>cat</td>\n",
       "      <td>[1.07502 0 0 0 0 0 9.01092 0.0693769 0 0 0.706...</td>\n",
       "      <td>[255 255 255 255 255 255 255 255 255 255 255 2...</td>\n",
       "    </tr>\n",
       "  </tbody>\n",
       "</table>\n",
       "<p>2005 rows × 5 columns</p>\n",
       "</div>"
      ],
      "text/plain": [
       "         id                 image       label  \\\n",
       "0        24  Height: 32 Width: 32        bird   \n",
       "1        33  Height: 32 Width: 32         cat   \n",
       "2        36  Height: 32 Width: 32         cat   \n",
       "3        70  Height: 32 Width: 32         dog   \n",
       "4        90  Height: 32 Width: 32        bird   \n",
       "...     ...                   ...         ...   \n",
       "2000  49913  Height: 32 Width: 32  automobile   \n",
       "2001  49919  Height: 32 Width: 32  automobile   \n",
       "2002  49927  Height: 32 Width: 32         dog   \n",
       "2003  49958  Height: 32 Width: 32         cat   \n",
       "2004  49970  Height: 32 Width: 32         cat   \n",
       "\n",
       "                                          deep_features  \\\n",
       "0     [0.242872 1.09545 0 0.39363 0 0 11.8949 0 0 0 ...   \n",
       "1     [0.525088 0 0 0 0 0 9.94829 0 0 0 0 0 1.01264 ...   \n",
       "2     [0.566016 0 0 0 0 0 9.9972 0 0 0 1.38345 0 0.7...   \n",
       "3     [1.1298 0 0 0.778194 0 0.758051 9.83053 0 0 0....   \n",
       "4     [1.71787 0 0 0 0 0 9.33936 0 0 0 0 0 0.412137 ...   \n",
       "...                                                 ...   \n",
       "2000  [1.20238 0.342965 0 0 0.433364 0.782301 9.7449...   \n",
       "2001  [0 0 0 0.769036 0 0 9.27708 0 0 0 0 0 1.61649 ...   \n",
       "2002  [0.558163 0 1.0511 0 0 0 8.92445 0.321142 0 0 ...   \n",
       "2003  [0.67496 0 0 1.96409 0.646847 0.17025 11.3564 ...   \n",
       "2004  [1.07502 0 0 0 0 0 9.01092 0.0693769 0 0 0.706...   \n",
       "\n",
       "                                            image_array  \n",
       "0     [73 77 58 71 68 50 77 69 44 120 116 83 125 120...  \n",
       "1     [7 5 8 7 5 8 5 4 6 7 4 7 11 5 9 11 5 9 17 11 1...  \n",
       "2     [169 122 65 131 108 75 193 196 192 218 221 222...  \n",
       "3     [154 179 152 159 183 157 165 189 162 174 199 1...  \n",
       "4     [216 195 180 201 178 160 210 184 164 212 188 1...  \n",
       "...                                                 ...  \n",
       "2000  [188 223 251 207 231 247 215 231 241 193 209 2...  \n",
       "2001  [33 32 24 33 34 27 36 38 32 45 41 35 71 59 42 ...  \n",
       "2002  [3 2 7 3 2 7 3 2 7 3 2 7 5 4 9 5 4 9 5 4 9 4 5...  \n",
       "2003  [102 142 139 97 136 133 98 137 134 98 137 135 ...  \n",
       "2004  [255 255 255 255 255 255 255 255 255 255 255 2...  \n",
       "\n",
       "[2005 rows x 5 columns]"
      ]
     },
     "execution_count": 3,
     "metadata": {},
     "output_type": "execute_result"
    }
   ],
   "source": [
    "train_data"
   ]
  },
  {
   "cell_type": "markdown",
   "metadata": {},
   "source": [
    "# 2. Exploratory Data Analysis"
   ]
  },
  {
   "cell_type": "code",
   "execution_count": 4,
   "metadata": {},
   "outputs": [
    {
     "data": {
      "text/html": [
       "<div>\n",
       "<style scoped>\n",
       "    .dataframe tbody tr th:only-of-type {\n",
       "        vertical-align: middle;\n",
       "    }\n",
       "\n",
       "    .dataframe tbody tr th {\n",
       "        vertical-align: top;\n",
       "    }\n",
       "\n",
       "    .dataframe thead th {\n",
       "        text-align: right;\n",
       "    }\n",
       "</style>\n",
       "<table border=\"1\" class=\"dataframe\">\n",
       "  <thead>\n",
       "    <tr style=\"text-align: right;\">\n",
       "      <th></th>\n",
       "      <th>id</th>\n",
       "      <th>image</th>\n",
       "      <th>label</th>\n",
       "      <th>deep_features</th>\n",
       "      <th>image_array</th>\n",
       "    </tr>\n",
       "  </thead>\n",
       "  <tbody>\n",
       "    <tr>\n",
       "      <th>0</th>\n",
       "      <td>24</td>\n",
       "      <td>Height: 32 Width: 32</td>\n",
       "      <td>bird</td>\n",
       "      <td>[0.242872 1.09545 0 0.39363 0 0 11.8949 0 0 0 ...</td>\n",
       "      <td>[73 77 58 71 68 50 77 69 44 120 116 83 125 120...</td>\n",
       "    </tr>\n",
       "    <tr>\n",
       "      <th>1</th>\n",
       "      <td>33</td>\n",
       "      <td>Height: 32 Width: 32</td>\n",
       "      <td>cat</td>\n",
       "      <td>[0.525088 0 0 0 0 0 9.94829 0 0 0 0 0 1.01264 ...</td>\n",
       "      <td>[7 5 8 7 5 8 5 4 6 7 4 7 11 5 9 11 5 9 17 11 1...</td>\n",
       "    </tr>\n",
       "    <tr>\n",
       "      <th>2</th>\n",
       "      <td>36</td>\n",
       "      <td>Height: 32 Width: 32</td>\n",
       "      <td>cat</td>\n",
       "      <td>[0.566016 0 0 0 0 0 9.9972 0 0 0 1.38345 0 0.7...</td>\n",
       "      <td>[169 122 65 131 108 75 193 196 192 218 221 222...</td>\n",
       "    </tr>\n",
       "    <tr>\n",
       "      <th>3</th>\n",
       "      <td>70</td>\n",
       "      <td>Height: 32 Width: 32</td>\n",
       "      <td>dog</td>\n",
       "      <td>[1.1298 0 0 0.778194 0 0.758051 9.83053 0 0 0....</td>\n",
       "      <td>[154 179 152 159 183 157 165 189 162 174 199 1...</td>\n",
       "    </tr>\n",
       "    <tr>\n",
       "      <th>4</th>\n",
       "      <td>90</td>\n",
       "      <td>Height: 32 Width: 32</td>\n",
       "      <td>bird</td>\n",
       "      <td>[1.71787 0 0 0 0 0 9.33936 0 0 0 0 0 0.412137 ...</td>\n",
       "      <td>[216 195 180 201 178 160 210 184 164 212 188 1...</td>\n",
       "    </tr>\n",
       "  </tbody>\n",
       "</table>\n",
       "</div>"
      ],
      "text/plain": [
       "   id                 image label  \\\n",
       "0  24  Height: 32 Width: 32  bird   \n",
       "1  33  Height: 32 Width: 32   cat   \n",
       "2  36  Height: 32 Width: 32   cat   \n",
       "3  70  Height: 32 Width: 32   dog   \n",
       "4  90  Height: 32 Width: 32  bird   \n",
       "\n",
       "                                       deep_features  \\\n",
       "0  [0.242872 1.09545 0 0.39363 0 0 11.8949 0 0 0 ...   \n",
       "1  [0.525088 0 0 0 0 0 9.94829 0 0 0 0 0 1.01264 ...   \n",
       "2  [0.566016 0 0 0 0 0 9.9972 0 0 0 1.38345 0 0.7...   \n",
       "3  [1.1298 0 0 0.778194 0 0.758051 9.83053 0 0 0....   \n",
       "4  [1.71787 0 0 0 0 0 9.33936 0 0 0 0 0 0.412137 ...   \n",
       "\n",
       "                                         image_array  \n",
       "0  [73 77 58 71 68 50 77 69 44 120 116 83 125 120...  \n",
       "1  [7 5 8 7 5 8 5 4 6 7 4 7 11 5 9 11 5 9 17 11 1...  \n",
       "2  [169 122 65 131 108 75 193 196 192 218 221 222...  \n",
       "3  [154 179 152 159 183 157 165 189 162 174 199 1...  \n",
       "4  [216 195 180 201 178 160 210 184 164 212 188 1...  "
      ]
     },
     "execution_count": 4,
     "metadata": {},
     "output_type": "execute_result"
    }
   ],
   "source": [
    "train_data.head()"
   ]
  },
  {
   "cell_type": "code",
   "execution_count": 5,
   "metadata": {},
   "outputs": [
    {
     "name": "stdout",
     "output_type": "stream",
     "text": [
      "<class 'pandas.core.frame.DataFrame'>\n",
      "RangeIndex: 2005 entries, 0 to 2004\n",
      "Data columns (total 5 columns):\n",
      " #   Column         Non-Null Count  Dtype \n",
      "---  ------         --------------  ----- \n",
      " 0   id             2005 non-null   int64 \n",
      " 1   image          2005 non-null   object\n",
      " 2   label          2005 non-null   object\n",
      " 3   deep_features  2005 non-null   object\n",
      " 4   image_array    2005 non-null   object\n",
      "dtypes: int64(1), object(4)\n",
      "memory usage: 78.4+ KB\n"
     ]
    }
   ],
   "source": [
    "train_data.info()"
   ]
  },
  {
   "cell_type": "code",
   "execution_count": 6,
   "metadata": {},
   "outputs": [
    {
     "data": {
      "text/html": [
       "<div>\n",
       "<style scoped>\n",
       "    .dataframe tbody tr th:only-of-type {\n",
       "        vertical-align: middle;\n",
       "    }\n",
       "\n",
       "    .dataframe tbody tr th {\n",
       "        vertical-align: top;\n",
       "    }\n",
       "\n",
       "    .dataframe thead th {\n",
       "        text-align: right;\n",
       "    }\n",
       "</style>\n",
       "<table border=\"1\" class=\"dataframe\">\n",
       "  <thead>\n",
       "    <tr style=\"text-align: right;\">\n",
       "      <th></th>\n",
       "      <th>id</th>\n",
       "    </tr>\n",
       "  </thead>\n",
       "  <tbody>\n",
       "    <tr>\n",
       "      <th>count</th>\n",
       "      <td>2005.000000</td>\n",
       "    </tr>\n",
       "    <tr>\n",
       "      <th>mean</th>\n",
       "      <td>24828.161596</td>\n",
       "    </tr>\n",
       "    <tr>\n",
       "      <th>std</th>\n",
       "      <td>14686.132072</td>\n",
       "    </tr>\n",
       "    <tr>\n",
       "      <th>min</th>\n",
       "      <td>24.000000</td>\n",
       "    </tr>\n",
       "    <tr>\n",
       "      <th>25%</th>\n",
       "      <td>12005.000000</td>\n",
       "    </tr>\n",
       "    <tr>\n",
       "      <th>50%</th>\n",
       "      <td>23963.000000</td>\n",
       "    </tr>\n",
       "    <tr>\n",
       "      <th>75%</th>\n",
       "      <td>37742.000000</td>\n",
       "    </tr>\n",
       "    <tr>\n",
       "      <th>max</th>\n",
       "      <td>49970.000000</td>\n",
       "    </tr>\n",
       "  </tbody>\n",
       "</table>\n",
       "</div>"
      ],
      "text/plain": [
       "                 id\n",
       "count   2005.000000\n",
       "mean   24828.161596\n",
       "std    14686.132072\n",
       "min       24.000000\n",
       "25%    12005.000000\n",
       "50%    23963.000000\n",
       "75%    37742.000000\n",
       "max    49970.000000"
      ]
     },
     "execution_count": 6,
     "metadata": {},
     "output_type": "execute_result"
    }
   ],
   "source": [
    "train_data.describe()"
   ]
  },
  {
   "cell_type": "code",
   "execution_count": 7,
   "metadata": {},
   "outputs": [
    {
     "data": {
      "image/png": "[encoded data removed]",
      "text/plain": [
       "<Figure size 432x288 with 1 Axes>"
      ]
     },
     "metadata": {
      "needs_background": "light"
     },
     "output_type": "display_data"
    }
   ],
   "source": [
    "import seaborn as sns\n",
    "\n",
    "fig = sns.countplot(x='label', data=train_data)"
   ]
  },
  {
   "cell_type": "markdown",
   "metadata": {},
   "source": [
    "# 3. Data Preprocessing\n",
    "\n",
    "The \"deep_features\" column and \"image_array\" column have there lists string represented. So, they need to be transformed to floats and integers respectively to be used"
   ]
  },
  {
   "cell_type": "code",
   "execution_count": 8,
   "metadata": {},
   "outputs": [],
   "source": [
    "def filtering_image_array(row):\n",
    "    y = row.loc['deep_features']\n",
    "    y = y.replace('[', '').replace(']','').replace(\" \", \",\").split(',')\n",
    "    y = list(map(float, y))\n",
    "    row.loc['deep_features'] = y\n",
    "    \n",
    "    x = row.loc['image_array']\n",
    "    x = x.replace('[', '').replace(']','').replace(\" \", \",\").split(',')\n",
    "    x = list(map(int, x))\n",
    "    row.loc['image_array'] = x\n",
    "    return row\n",
    "\n",
    "train_data = train_data.apply(filtering_image_array, axis=1)\n",
    "test_data = test_data.apply(filtering_image_array, axis=1)"
   ]
  },
  {
   "cell_type": "code",
   "execution_count": 9,
   "metadata": {},
   "outputs": [
    {
     "data": {
      "text/html": [
       "<div>\n",
       "<style scoped>\n",
       "    .dataframe tbody tr th:only-of-type {\n",
       "        vertical-align: middle;\n",
       "    }\n",
       "\n",
       "    .dataframe tbody tr th {\n",
       "        vertical-align: top;\n",
       "    }\n",
       "\n",
       "    .dataframe thead th {\n",
       "        text-align: right;\n",
       "    }\n",
       "</style>\n",
       "<table border=\"1\" class=\"dataframe\">\n",
       "  <thead>\n",
       "    <tr style=\"text-align: right;\">\n",
       "      <th></th>\n",
       "      <th>id</th>\n",
       "      <th>image</th>\n",
       "      <th>label</th>\n",
       "      <th>deep_features</th>\n",
       "      <th>image_array</th>\n",
       "    </tr>\n",
       "  </thead>\n",
       "  <tbody>\n",
       "    <tr>\n",
       "      <th>0</th>\n",
       "      <td>24</td>\n",
       "      <td>Height: 32 Width: 32</td>\n",
       "      <td>bird</td>\n",
       "      <td>[0.242872, 1.09545, 0.0, 0.39363, 0.0, 0.0, 11...</td>\n",
       "      <td>[73, 77, 58, 71, 68, 50, 77, 69, 44, 120, 116,...</td>\n",
       "    </tr>\n",
       "    <tr>\n",
       "      <th>1</th>\n",
       "      <td>33</td>\n",
       "      <td>Height: 32 Width: 32</td>\n",
       "      <td>cat</td>\n",
       "      <td>[0.525088, 0.0, 0.0, 0.0, 0.0, 0.0, 9.94829, 0...</td>\n",
       "      <td>[7, 5, 8, 7, 5, 8, 5, 4, 6, 7, 4, 7, 11, 5, 9,...</td>\n",
       "    </tr>\n",
       "    <tr>\n",
       "      <th>2</th>\n",
       "      <td>36</td>\n",
       "      <td>Height: 32 Width: 32</td>\n",
       "      <td>cat</td>\n",
       "      <td>[0.566016, 0.0, 0.0, 0.0, 0.0, 0.0, 9.9972, 0....</td>\n",
       "      <td>[169, 122, 65, 131, 108, 75, 193, 196, 192, 21...</td>\n",
       "    </tr>\n",
       "    <tr>\n",
       "      <th>3</th>\n",
       "      <td>70</td>\n",
       "      <td>Height: 32 Width: 32</td>\n",
       "      <td>dog</td>\n",
       "      <td>[1.1298, 0.0, 0.0, 0.778194, 0.0, 0.758051, 9....</td>\n",
       "      <td>[154, 179, 152, 159, 183, 157, 165, 189, 162, ...</td>\n",
       "    </tr>\n",
       "    <tr>\n",
       "      <th>4</th>\n",
       "      <td>90</td>\n",
       "      <td>Height: 32 Width: 32</td>\n",
       "      <td>bird</td>\n",
       "      <td>[1.71787, 0.0, 0.0, 0.0, 0.0, 0.0, 9.33936, 0....</td>\n",
       "      <td>[216, 195, 180, 201, 178, 160, 210, 184, 164, ...</td>\n",
       "    </tr>\n",
       "  </tbody>\n",
       "</table>\n",
       "</div>"
      ],
      "text/plain": [
       "   id                 image label  \\\n",
       "0  24  Height: 32 Width: 32  bird   \n",
       "1  33  Height: 32 Width: 32   cat   \n",
       "2  36  Height: 32 Width: 32   cat   \n",
       "3  70  Height: 32 Width: 32   dog   \n",
       "4  90  Height: 32 Width: 32  bird   \n",
       "\n",
       "                                       deep_features  \\\n",
       "0  [0.242872, 1.09545, 0.0, 0.39363, 0.0, 0.0, 11...   \n",
       "1  [0.525088, 0.0, 0.0, 0.0, 0.0, 0.0, 9.94829, 0...   \n",
       "2  [0.566016, 0.0, 0.0, 0.0, 0.0, 0.0, 9.9972, 0....   \n",
       "3  [1.1298, 0.0, 0.0, 0.778194, 0.0, 0.758051, 9....   \n",
       "4  [1.71787, 0.0, 0.0, 0.0, 0.0, 0.0, 9.33936, 0....   \n",
       "\n",
       "                                         image_array  \n",
       "0  [73, 77, 58, 71, 68, 50, 77, 69, 44, 120, 116,...  \n",
       "1  [7, 5, 8, 7, 5, 8, 5, 4, 6, 7, 4, 7, 11, 5, 9,...  \n",
       "2  [169, 122, 65, 131, 108, 75, 193, 196, 192, 21...  \n",
       "3  [154, 179, 152, 159, 183, 157, 165, 189, 162, ...  \n",
       "4  [216, 195, 180, 201, 178, 160, 210, 184, 164, ...  "
      ]
     },
     "execution_count": 9,
     "metadata": {},
     "output_type": "execute_result"
    }
   ],
   "source": [
    "train_data.head()"
   ]
  },
  {
   "cell_type": "code",
   "execution_count": 10,
   "metadata": {},
   "outputs": [
    {
     "data": {
      "text/plain": [
       "[73, 77, 58, 71, 68, 50, 77, 69, 44, 120]"
      ]
     },
     "execution_count": 10,
     "metadata": {},
     "output_type": "execute_result"
    }
   ],
   "source": [
    "im = train_data.loc[0]['image_array']\n",
    "im[0:10]"
   ]
  },
  {
   "cell_type": "markdown",
   "metadata": {},
   "source": [
    "Plot images by index"
   ]
  },
  {
   "cell_type": "code",
   "execution_count": 11,
   "metadata": {},
   "outputs": [],
   "source": [
    "import matplotlib.pyplot as plt\n",
    "\n",
    "def plot_images_index(ids, data):\n",
    "    for idx in ids:\n",
    "        row = data.loc[idx]\n",
    "        im = np.asarray(row.loc['image_array'])\n",
    "        im.resize(32,32,3)\n",
    "        plt.figure(figsize=(1, 1))\n",
    "        plt.imshow(im)\n",
    "    plt.show()\n",
    "    \n",
    "def plot_images_id(ids, data):\n",
    "    for idx in ids:\n",
    "        row = data.loc[data['id'] == idx]\n",
    "        im = np.asarray(row.loc[:, 'image_array'].tolist())\n",
    "        im = np.resize(im, (32,32,3))\n",
    "        plt.figure(figsize=(1, 1))\n",
    "        plt.imshow(im)\n",
    "    plt.show()"
   ]
  },
  {
   "cell_type": "code",
   "execution_count": 12,
   "metadata": {},
   "outputs": [
    {
     "data": {
      "image/png": "[encoded data removed]",
      "text/plain": [
       "<Figure size 72x72 with 1 Axes>"
      ]
     },
     "metadata": {
      "needs_background": "light"
     },
     "output_type": "display_data"
    },
    {
     "data": {
      "image/png": "[encoded data removed]",
      "text/plain": [
       "<Figure size 72x72 with 1 Axes>"
      ]
     },
     "metadata": {
      "needs_background": "light"
     },
     "output_type": "display_data"
    },
    {
     "data": {
      "image/png": "[encoded data removed]",
      "text/plain": [
       "<Figure size 72x72 with 1 Axes>"
      ]
     },
     "metadata": {
      "needs_background": "light"
     },
     "output_type": "display_data"
    },
    {
     "data": {
      "image/png": "[encoded data removed]",
      "text/plain": [
       "<Figure size 72x72 with 1 Axes>"
      ]
     },
     "metadata": {
      "needs_background": "light"
     },
     "output_type": "display_data"
    },
    {
     "data": {
      "image/png": "[encoded data removed]",
      "text/plain": [
       "<Figure size 72x72 with 1 Axes>"
      ]
     },
     "metadata": {
      "needs_background": "light"
     },
     "output_type": "display_data"
    }
   ],
   "source": [
    "x = [24, 33, 36, 70, 90]\n",
    "plot_images_id(x, train_data)"
   ]
  },
  {
   "cell_type": "code",
   "execution_count": 13,
   "metadata": {},
   "outputs": [
    {
     "data": {
      "image/png": "[encoded data removed]",
      "text/plain": [
       "<Figure size 72x72 with 1 Axes>"
      ]
     },
     "metadata": {
      "needs_background": "light"
     },
     "output_type": "display_data"
    },
    {
     "data": {
      "image/png": "[encoded data removed]",
      "text/plain": [
       "<Figure size 72x72 with 1 Axes>"
      ]
     },
     "metadata": {
      "needs_background": "light"
     },
     "output_type": "display_data"
    },
    {
     "data": {
      "image/png": "[encoded data removed]",
      "text/plain": [
       "<Figure size 72x72 with 1 Axes>"
      ]
     },
     "metadata": {
      "needs_background": "light"
     },
     "output_type": "display_data"
    },
    {
     "data": {
      "image/png": "[encoded data removed]",
      "text/plain": [
       "<Figure size 72x72 with 1 Axes>"
      ]
     },
     "metadata": {
      "needs_background": "light"
     },
     "output_type": "display_data"
    },
    {
     "data": {
      "image/png": "[encoded data removed]",
      "text/plain": [
       "<Figure size 72x72 with 1 Axes>"
      ]
     },
     "metadata": {
      "needs_background": "light"
     },
     "output_type": "display_data"
    }
   ],
   "source": [
    "x = [0, 1, 2, 3, 4]\n",
    "plot_images_index(x, train_data)"
   ]
  },
  {
   "cell_type": "markdown",
   "metadata": {},
   "source": [
    "Apply LabelEncoder() on the label column of both training and test datasets."
   ]
  },
  {
   "cell_type": "code",
   "execution_count": 14,
   "metadata": {},
   "outputs": [
    {
     "data": {
      "text/plain": [
       "LabelEncoder()"
      ]
     },
     "execution_count": 14,
     "metadata": {},
     "output_type": "execute_result"
    }
   ],
   "source": [
    "from sklearn.preprocessing import LabelEncoder\n",
    "\n",
    "encoder = LabelEncoder()\n",
    "encoder.fit(train_data['label'])"
   ]
  },
  {
   "cell_type": "code",
   "execution_count": 15,
   "metadata": {},
   "outputs": [
    {
     "data": {
      "text/html": [
       "<div>\n",
       "<style scoped>\n",
       "    .dataframe tbody tr th:only-of-type {\n",
       "        vertical-align: middle;\n",
       "    }\n",
       "\n",
       "    .dataframe tbody tr th {\n",
       "        vertical-align: top;\n",
       "    }\n",
       "\n",
       "    .dataframe thead th {\n",
       "        text-align: right;\n",
       "    }\n",
       "</style>\n",
       "<table border=\"1\" class=\"dataframe\">\n",
       "  <thead>\n",
       "    <tr style=\"text-align: right;\">\n",
       "      <th></th>\n",
       "      <th>id</th>\n",
       "      <th>image</th>\n",
       "      <th>label</th>\n",
       "      <th>deep_features</th>\n",
       "      <th>image_array</th>\n",
       "      <th>encoded_label</th>\n",
       "    </tr>\n",
       "  </thead>\n",
       "  <tbody>\n",
       "    <tr>\n",
       "      <th>0</th>\n",
       "      <td>24</td>\n",
       "      <td>Height: 32 Width: 32</td>\n",
       "      <td>bird</td>\n",
       "      <td>[0.242872, 1.09545, 0.0, 0.39363, 0.0, 0.0, 11...</td>\n",
       "      <td>[73, 77, 58, 71, 68, 50, 77, 69, 44, 120, 116,...</td>\n",
       "      <td>1</td>\n",
       "    </tr>\n",
       "    <tr>\n",
       "      <th>1</th>\n",
       "      <td>33</td>\n",
       "      <td>Height: 32 Width: 32</td>\n",
       "      <td>cat</td>\n",
       "      <td>[0.525088, 0.0, 0.0, 0.0, 0.0, 0.0, 9.94829, 0...</td>\n",
       "      <td>[7, 5, 8, 7, 5, 8, 5, 4, 6, 7, 4, 7, 11, 5, 9,...</td>\n",
       "      <td>2</td>\n",
       "    </tr>\n",
       "    <tr>\n",
       "      <th>2</th>\n",
       "      <td>36</td>\n",
       "      <td>Height: 32 Width: 32</td>\n",
       "      <td>cat</td>\n",
       "      <td>[0.566016, 0.0, 0.0, 0.0, 0.0, 0.0, 9.9972, 0....</td>\n",
       "      <td>[169, 122, 65, 131, 108, 75, 193, 196, 192, 21...</td>\n",
       "      <td>2</td>\n",
       "    </tr>\n",
       "    <tr>\n",
       "      <th>3</th>\n",
       "      <td>70</td>\n",
       "      <td>Height: 32 Width: 32</td>\n",
       "      <td>dog</td>\n",
       "      <td>[1.1298, 0.0, 0.0, 0.778194, 0.0, 0.758051, 9....</td>\n",
       "      <td>[154, 179, 152, 159, 183, 157, 165, 189, 162, ...</td>\n",
       "      <td>3</td>\n",
       "    </tr>\n",
       "    <tr>\n",
       "      <th>4</th>\n",
       "      <td>90</td>\n",
       "      <td>Height: 32 Width: 32</td>\n",
       "      <td>bird</td>\n",
       "      <td>[1.71787, 0.0, 0.0, 0.0, 0.0, 0.0, 9.33936, 0....</td>\n",
       "      <td>[216, 195, 180, 201, 178, 160, 210, 184, 164, ...</td>\n",
       "      <td>1</td>\n",
       "    </tr>\n",
       "  </tbody>\n",
       "</table>\n",
       "</div>"
      ],
      "text/plain": [
       "   id                 image label  \\\n",
       "0  24  Height: 32 Width: 32  bird   \n",
       "1  33  Height: 32 Width: 32   cat   \n",
       "2  36  Height: 32 Width: 32   cat   \n",
       "3  70  Height: 32 Width: 32   dog   \n",
       "4  90  Height: 32 Width: 32  bird   \n",
       "\n",
       "                                       deep_features  \\\n",
       "0  [0.242872, 1.09545, 0.0, 0.39363, 0.0, 0.0, 11...   \n",
       "1  [0.525088, 0.0, 0.0, 0.0, 0.0, 0.0, 9.94829, 0...   \n",
       "2  [0.566016, 0.0, 0.0, 0.0, 0.0, 0.0, 9.9972, 0....   \n",
       "3  [1.1298, 0.0, 0.0, 0.778194, 0.0, 0.758051, 9....   \n",
       "4  [1.71787, 0.0, 0.0, 0.0, 0.0, 0.0, 9.33936, 0....   \n",
       "\n",
       "                                         image_array  encoded_label  \n",
       "0  [73, 77, 58, 71, 68, 50, 77, 69, 44, 120, 116,...              1  \n",
       "1  [7, 5, 8, 7, 5, 8, 5, 4, 6, 7, 4, 7, 11, 5, 9,...              2  \n",
       "2  [169, 122, 65, 131, 108, 75, 193, 196, 192, 21...              2  \n",
       "3  [154, 179, 152, 159, 183, 157, 165, 189, 162, ...              3  \n",
       "4  [216, 195, 180, 201, 178, 160, 210, 184, 164, ...              1  "
      ]
     },
     "execution_count": 15,
     "metadata": {},
     "output_type": "execute_result"
    }
   ],
   "source": [
    "def encodin_labels(row):\n",
    "    encoded_label = encoder.transform([row['label']])\n",
    "    row['encoded_label'] = encoded_label[0]\n",
    "    return row\n",
    "\n",
    "train_data = train_data.apply(encodin_labels, axis=1)\n",
    "train_data.head()"
   ]
  },
  {
   "cell_type": "code",
   "execution_count": 16,
   "metadata": {},
   "outputs": [],
   "source": [
    "def encodin_labels(row):\n",
    "    encoded_label = encoder.transform([row['label']])\n",
    "    row['encoded_label'] = encoded_label[0]\n",
    "    return row\n",
    "\n",
    "test_data = test_data.apply(encodin_labels, axis=1)"
   ]
  },
  {
   "cell_type": "markdown",
   "metadata": {},
   "source": [
    "# 4. Logistic Regression Pipeline"
   ]
  },
  {
   "cell_type": "code",
   "execution_count": 17,
   "metadata": {},
   "outputs": [],
   "source": [
    "from sklearn.pipeline import Pipeline\n",
    "from sklearn.compose import ColumnTransformer\n",
    "from sklearn.preprocessing import StandardScaler\n",
    "from sklearn.linear_model import LogisticRegression\n",
    "\n",
    "pipeline_simple = Pipeline(\n",
    "    steps=[\n",
    "        ('StandardScaler', StandardScaler()),\n",
    "        ('Logistic_Regression', LogisticRegression(multi_class='multinomial', max_iter=1000))\n",
    "    ],\n",
    "    verbose=True\n",
    ")\n",
    "\n",
    "pipeline_complex = Pipeline(\n",
    "    steps=[\n",
    "        ('StandardScaler', StandardScaler()),\n",
    "        ('Logistic_Regression', LogisticRegression(multi_class='multinomial', max_iter=1000))\n",
    "    ],\n",
    "    verbose=True\n",
    ")\n",
    "\n",
    "from sklearn import set_config\n",
    "set_config(display='diagram')"
   ]
  },
  {
   "cell_type": "markdown",
   "metadata": {},
   "source": [
    "# 5. Pipeline Training"
   ]
  },
  {
   "cell_type": "code",
   "execution_count": 18,
   "metadata": {},
   "outputs": [
    {
     "name": "stdout",
     "output_type": "stream",
     "text": [
      "[Pipeline] .... (step 1 of 2) Processing StandardScaler, total=   0.4s\n",
      "[Pipeline]  (step 2 of 2) Processing Logistic_Regression, total=  15.7s\n"
     ]
    },
    {
     "data": {
      "text/html": [
       "<style>div.sk-top-container {color: black;background-color: white;}div.sk-toggleable {background-color: white;}label.sk-toggleable__label {cursor: pointer;display: block;width: 100%;margin-bottom: 0;padding: 0.2em 0.3em;box-sizing: border-box;text-align: center;}div.sk-toggleable__content {max-height: 0;max-width: 0;overflow: hidden;text-align: left;background-color: #f0f8ff;}div.sk-toggleable__content pre {margin: 0.2em;color: black;border-radius: 0.25em;background-color: #f0f8ff;}input.sk-toggleable__control:checked~div.sk-toggleable__content {max-height: 200px;max-width: 100%;overflow: auto;}div.sk-estimator input.sk-toggleable__control:checked~label.sk-toggleable__label {background-color: #d4ebff;}div.sk-label input.sk-toggleable__control:checked~label.sk-toggleable__label {background-color: #d4ebff;}input.sk-hidden--visually {border: 0;clip: rect(1px 1px 1px 1px);clip: rect(1px, 1px, 1px, 1px);height: 1px;margin: -1px;overflow: hidden;padding: 0;position: absolute;width: 1px;}div.sk-estimator {font-family: monospace;background-color: #f0f8ff;margin: 0.25em 0.25em;border: 1px dotted black;border-radius: 0.25em;box-sizing: border-box;}div.sk-estimator:hover {background-color: #d4ebff;}div.sk-parallel-item::after {content: \"\";width: 100%;border-bottom: 1px solid gray;flex-grow: 1;}div.sk-label:hover label.sk-toggleable__label {background-color: #d4ebff;}div.sk-serial::before {content: \"\";position: absolute;border-left: 1px solid gray;box-sizing: border-box;top: 2em;bottom: 0;left: 50%;}div.sk-serial {display: flex;flex-direction: column;align-items: center;background-color: white;}div.sk-item {z-index: 1;}div.sk-parallel {display: flex;align-items: stretch;justify-content: center;background-color: white;}div.sk-parallel-item {display: flex;flex-direction: column;position: relative;background-color: white;}div.sk-parallel-item:first-child::after {align-self: flex-end;width: 50%;}div.sk-parallel-item:last-child::after {align-self: flex-start;width: 50%;}div.sk-parallel-item:only-child::after {width: 0;}div.sk-dashed-wrapped {border: 1px dashed gray;margin: 0.2em;box-sizing: border-box;padding-bottom: 0.1em;background-color: white;position: relative;}div.sk-label label {font-family: monospace;font-weight: bold;background-color: white;display: inline-block;line-height: 1.2em;}div.sk-label-container {position: relative;z-index: 2;text-align: center;}div.sk-container {display: inline-block;position: relative;}</style><div class=\"sk-top-container\"><div class=\"sk-container\"><div class=\"sk-item sk-dashed-wrapped\"><div class=\"sk-label-container\"><div class=\"sk-label sk-toggleable\"><input class=\"sk-toggleable__control sk-hidden--visually\" id=\"fb2832ec-2e5c-4944-bcdc-5e0111e468c4\" type=\"checkbox\" ><label class=\"sk-toggleable__label\" for=\"fb2832ec-2e5c-4944-bcdc-5e0111e468c4\">Pipeline</label><div class=\"sk-toggleable__content\"><pre>Pipeline(steps=[('StandardScaler', StandardScaler()),\n",
       "                ('Logistic_Regression',\n",
       "                 LogisticRegression(max_iter=1000, multi_class='multinomial'))],\n",
       "         verbose=True)</pre></div></div></div><div class=\"sk-serial\"><div class=\"sk-item\"><div class=\"sk-estimator sk-toggleable\"><input class=\"sk-toggleable__control sk-hidden--visually\" id=\"8cfcd5cf-be58-4f5a-a497-f21da42f6f2e\" type=\"checkbox\" ><label class=\"sk-toggleable__label\" for=\"8cfcd5cf-be58-4f5a-a497-f21da42f6f2e\">StandardScaler</label><div class=\"sk-toggleable__content\"><pre>StandardScaler()</pre></div></div></div><div class=\"sk-item\"><div class=\"sk-estimator sk-toggleable\"><input class=\"sk-toggleable__control sk-hidden--visually\" id=\"d0756a78-e316-4e48-a65b-fd002562408f\" type=\"checkbox\" ><label class=\"sk-toggleable__label\" for=\"d0756a78-e316-4e48-a65b-fd002562408f\">LogisticRegression</label><div class=\"sk-toggleable__content\"><pre>LogisticRegression(max_iter=1000, multi_class='multinomial')</pre></div></div></div></div></div></div></div>"
      ],
      "text/plain": [
       "Pipeline(steps=[('StandardScaler', StandardScaler()),\n",
       "                ('Logistic_Regression',\n",
       "                 LogisticRegression(max_iter=1000, multi_class='multinomial'))],\n",
       "         verbose=True)"
      ]
     },
     "execution_count": 18,
     "metadata": {},
     "output_type": "execute_result"
    }
   ],
   "source": [
    "features_simple = 'image_array'\n",
    "label = 'encoded_label'\n",
    "X_train_simple = np.array(train_data[features_simple].tolist())\n",
    "y_train = np.array(train_data[label].tolist())\n",
    "pipeline_simple.fit(X_train_simple, y_train)"
   ]
  },
  {
   "cell_type": "code",
   "execution_count": 19,
   "metadata": {},
   "outputs": [
    {
     "name": "stdout",
     "output_type": "stream",
     "text": [
      "[Pipeline] .... (step 1 of 2) Processing StandardScaler, total=   0.2s\n",
      "[Pipeline]  (step 2 of 2) Processing Logistic_Regression, total=  15.6s\n"
     ]
    },
    {
     "data": {
      "text/html": [
       "<style>div.sk-top-container {color: black;background-color: white;}div.sk-toggleable {background-color: white;}label.sk-toggleable__label {cursor: pointer;display: block;width: 100%;margin-bottom: 0;padding: 0.2em 0.3em;box-sizing: border-box;text-align: center;}div.sk-toggleable__content {max-height: 0;max-width: 0;overflow: hidden;text-align: left;background-color: #f0f8ff;}div.sk-toggleable__content pre {margin: 0.2em;color: black;border-radius: 0.25em;background-color: #f0f8ff;}input.sk-toggleable__control:checked~div.sk-toggleable__content {max-height: 200px;max-width: 100%;overflow: auto;}div.sk-estimator input.sk-toggleable__control:checked~label.sk-toggleable__label {background-color: #d4ebff;}div.sk-label input.sk-toggleable__control:checked~label.sk-toggleable__label {background-color: #d4ebff;}input.sk-hidden--visually {border: 0;clip: rect(1px 1px 1px 1px);clip: rect(1px, 1px, 1px, 1px);height: 1px;margin: -1px;overflow: hidden;padding: 0;position: absolute;width: 1px;}div.sk-estimator {font-family: monospace;background-color: #f0f8ff;margin: 0.25em 0.25em;border: 1px dotted black;border-radius: 0.25em;box-sizing: border-box;}div.sk-estimator:hover {background-color: #d4ebff;}div.sk-parallel-item::after {content: \"\";width: 100%;border-bottom: 1px solid gray;flex-grow: 1;}div.sk-label:hover label.sk-toggleable__label {background-color: #d4ebff;}div.sk-serial::before {content: \"\";position: absolute;border-left: 1px solid gray;box-sizing: border-box;top: 2em;bottom: 0;left: 50%;}div.sk-serial {display: flex;flex-direction: column;align-items: center;background-color: white;}div.sk-item {z-index: 1;}div.sk-parallel {display: flex;align-items: stretch;justify-content: center;background-color: white;}div.sk-parallel-item {display: flex;flex-direction: column;position: relative;background-color: white;}div.sk-parallel-item:first-child::after {align-self: flex-end;width: 50%;}div.sk-parallel-item:last-child::after {align-self: flex-start;width: 50%;}div.sk-parallel-item:only-child::after {width: 0;}div.sk-dashed-wrapped {border: 1px dashed gray;margin: 0.2em;box-sizing: border-box;padding-bottom: 0.1em;background-color: white;position: relative;}div.sk-label label {font-family: monospace;font-weight: bold;background-color: white;display: inline-block;line-height: 1.2em;}div.sk-label-container {position: relative;z-index: 2;text-align: center;}div.sk-container {display: inline-block;position: relative;}</style><div class=\"sk-top-container\"><div class=\"sk-container\"><div class=\"sk-item sk-dashed-wrapped\"><div class=\"sk-label-container\"><div class=\"sk-label sk-toggleable\"><input class=\"sk-toggleable__control sk-hidden--visually\" id=\"ab06aee2-9117-460d-bee4-65c8c8c036e0\" type=\"checkbox\" ><label class=\"sk-toggleable__label\" for=\"ab06aee2-9117-460d-bee4-65c8c8c036e0\">Pipeline</label><div class=\"sk-toggleable__content\"><pre>Pipeline(steps=[('StandardScaler', StandardScaler()),\n",
       "                ('Logistic_Regression',\n",
       "                 LogisticRegression(max_iter=1000, multi_class='multinomial'))],\n",
       "         verbose=True)</pre></div></div></div><div class=\"sk-serial\"><div class=\"sk-item\"><div class=\"sk-estimator sk-toggleable\"><input class=\"sk-toggleable__control sk-hidden--visually\" id=\"1b30bb65-de89-4f66-8963-5304747a497e\" type=\"checkbox\" ><label class=\"sk-toggleable__label\" for=\"1b30bb65-de89-4f66-8963-5304747a497e\">StandardScaler</label><div class=\"sk-toggleable__content\"><pre>StandardScaler()</pre></div></div></div><div class=\"sk-item\"><div class=\"sk-estimator sk-toggleable\"><input class=\"sk-toggleable__control sk-hidden--visually\" id=\"5b03ef04-f6e1-46d8-8026-160736fab0ce\" type=\"checkbox\" ><label class=\"sk-toggleable__label\" for=\"5b03ef04-f6e1-46d8-8026-160736fab0ce\">LogisticRegression</label><div class=\"sk-toggleable__content\"><pre>LogisticRegression(max_iter=1000, multi_class='multinomial')</pre></div></div></div></div></div></div></div>"
      ],
      "text/plain": [
       "Pipeline(steps=[('StandardScaler', StandardScaler()),\n",
       "                ('Logistic_Regression',\n",
       "                 LogisticRegression(max_iter=1000, multi_class='multinomial'))],\n",
       "         verbose=True)"
      ]
     },
     "execution_count": 19,
     "metadata": {},
     "output_type": "execute_result"
    }
   ],
   "source": [
    "features_simple = 'image_array'\n",
    "label = 'encoded_label'\n",
    "X_train_simple = np.array(train_data[features_simple].tolist())\n",
    "y_train = np.array(train_data[label].tolist())\n",
    "pipeline_simple.fit(X_train_simple, y_train)"
   ]
  },
  {
   "cell_type": "code",
   "execution_count": 20,
   "metadata": {},
   "outputs": [
    {
     "name": "stdout",
     "output_type": "stream",
     "text": [
      "[Pipeline] .... (step 1 of 2) Processing StandardScaler, total=   0.2s\n",
      "[Pipeline]  (step 2 of 2) Processing Logistic_Regression, total=   7.9s\n"
     ]
    },
    {
     "data": {
      "text/html": [
       "<style>div.sk-top-container {color: black;background-color: white;}div.sk-toggleable {background-color: white;}label.sk-toggleable__label {cursor: pointer;display: block;width: 100%;margin-bottom: 0;padding: 0.2em 0.3em;box-sizing: border-box;text-align: center;}div.sk-toggleable__content {max-height: 0;max-width: 0;overflow: hidden;text-align: left;background-color: #f0f8ff;}div.sk-toggleable__content pre {margin: 0.2em;color: black;border-radius: 0.25em;background-color: #f0f8ff;}input.sk-toggleable__control:checked~div.sk-toggleable__content {max-height: 200px;max-width: 100%;overflow: auto;}div.sk-estimator input.sk-toggleable__control:checked~label.sk-toggleable__label {background-color: #d4ebff;}div.sk-label input.sk-toggleable__control:checked~label.sk-toggleable__label {background-color: #d4ebff;}input.sk-hidden--visually {border: 0;clip: rect(1px 1px 1px 1px);clip: rect(1px, 1px, 1px, 1px);height: 1px;margin: -1px;overflow: hidden;padding: 0;position: absolute;width: 1px;}div.sk-estimator {font-family: monospace;background-color: #f0f8ff;margin: 0.25em 0.25em;border: 1px dotted black;border-radius: 0.25em;box-sizing: border-box;}div.sk-estimator:hover {background-color: #d4ebff;}div.sk-parallel-item::after {content: \"\";width: 100%;border-bottom: 1px solid gray;flex-grow: 1;}div.sk-label:hover label.sk-toggleable__label {background-color: #d4ebff;}div.sk-serial::before {content: \"\";position: absolute;border-left: 1px solid gray;box-sizing: border-box;top: 2em;bottom: 0;left: 50%;}div.sk-serial {display: flex;flex-direction: column;align-items: center;background-color: white;}div.sk-item {z-index: 1;}div.sk-parallel {display: flex;align-items: stretch;justify-content: center;background-color: white;}div.sk-parallel-item {display: flex;flex-direction: column;position: relative;background-color: white;}div.sk-parallel-item:first-child::after {align-self: flex-end;width: 50%;}div.sk-parallel-item:last-child::after {align-self: flex-start;width: 50%;}div.sk-parallel-item:only-child::after {width: 0;}div.sk-dashed-wrapped {border: 1px dashed gray;margin: 0.2em;box-sizing: border-box;padding-bottom: 0.1em;background-color: white;position: relative;}div.sk-label label {font-family: monospace;font-weight: bold;background-color: white;display: inline-block;line-height: 1.2em;}div.sk-label-container {position: relative;z-index: 2;text-align: center;}div.sk-container {display: inline-block;position: relative;}</style><div class=\"sk-top-container\"><div class=\"sk-container\"><div class=\"sk-item sk-dashed-wrapped\"><div class=\"sk-label-container\"><div class=\"sk-label sk-toggleable\"><input class=\"sk-toggleable__control sk-hidden--visually\" id=\"7a3d7a1f-a778-4c21-835c-ed34bc0a3506\" type=\"checkbox\" ><label class=\"sk-toggleable__label\" for=\"7a3d7a1f-a778-4c21-835c-ed34bc0a3506\">Pipeline</label><div class=\"sk-toggleable__content\"><pre>Pipeline(steps=[('StandardScaler', StandardScaler()),\n",
       "                ('Logistic_Regression',\n",
       "                 LogisticRegression(max_iter=1000, multi_class='multinomial'))],\n",
       "         verbose=True)</pre></div></div></div><div class=\"sk-serial\"><div class=\"sk-item\"><div class=\"sk-estimator sk-toggleable\"><input class=\"sk-toggleable__control sk-hidden--visually\" id=\"57051df9-684a-4a2d-bd22-efd3afbafba5\" type=\"checkbox\" ><label class=\"sk-toggleable__label\" for=\"57051df9-684a-4a2d-bd22-efd3afbafba5\">StandardScaler</label><div class=\"sk-toggleable__content\"><pre>StandardScaler()</pre></div></div></div><div class=\"sk-item\"><div class=\"sk-estimator sk-toggleable\"><input class=\"sk-toggleable__control sk-hidden--visually\" id=\"9da53c5e-8df7-4dec-8465-fac29b49e305\" type=\"checkbox\" ><label class=\"sk-toggleable__label\" for=\"9da53c5e-8df7-4dec-8465-fac29b49e305\">LogisticRegression</label><div class=\"sk-toggleable__content\"><pre>LogisticRegression(max_iter=1000, multi_class='multinomial')</pre></div></div></div></div></div></div></div>"
      ],
      "text/plain": [
       "Pipeline(steps=[('StandardScaler', StandardScaler()),\n",
       "                ('Logistic_Regression',\n",
       "                 LogisticRegression(max_iter=1000, multi_class='multinomial'))],\n",
       "         verbose=True)"
      ]
     },
     "execution_count": 20,
     "metadata": {},
     "output_type": "execute_result"
    }
   ],
   "source": [
    "features_complex = 'deep_features'\n",
    "X_train_complex = np.array(train_data[features_complex].tolist())\n",
    "y_train = np.array(train_data[label].tolist())\n",
    "pipeline_complex.fit(X_train_complex, y_train)"
   ]
  },
  {
   "cell_type": "markdown",
   "metadata": {},
   "source": [
    "## PLot Learning Curves Pipeline"
   ]
  },
  {
   "cell_type": "code",
   "execution_count": 21,
   "metadata": {},
   "outputs": [],
   "source": [
    "from sklearn.model_selection import learning_curve\n",
    "\n",
    "def plot_learning_curve(estimator, title, X, y, ylim=None, cv=None,\n",
    "                        n_jobs=1, train_sizes=np.linspace(.1, 1.0, 5)):\n",
    "    \"\"\"\n",
    "    Generate a simple plot of the test and traning learning curve.\n",
    "\n",
    "    Parameters\n",
    "    ----------\n",
    "    estimator : object type that implements the \"fit\" and \"predict\" methods\n",
    "        An object of that type which is cloned for each validation.\n",
    "\n",
    "    title : string\n",
    "        Title for the chart.\n",
    "\n",
    "    X : array-like, shape (n_samples, n_features)\n",
    "        Training vector, where n_samples is the number of samples and\n",
    "        n_features is the number of features.\n",
    "\n",
    "    y : array-like, shape (n_samples) or (n_samples, n_features), optional\n",
    "        Target relative to X for classification or regression;\n",
    "        None for unsupervised learning.\n",
    "\n",
    "    ylim : tuple, shape (ymin, ymax), optional\n",
    "        Defines minimum and maximum yvalues plotted.\n",
    "\n",
    "    cv : integer, cross-validation generator, optional\n",
    "        If an integer is passed, it is the number of folds (defaults to 3).\n",
    "        Specific cross-validation objects can be passed, see\n",
    "        sklearn.cross_validation module for the list of possible objects\n",
    "\n",
    "    n_jobs : integer, optional\n",
    "        Number of jobs to run in parallel (default 1).\n",
    "    \"\"\"\n",
    "    estimator.verbose = False\n",
    "    plt.figure()\n",
    "    plt.title(title)\n",
    "    if ylim is not None:\n",
    "        plt.ylim(*ylim)\n",
    "    plt.xlabel(\"Training examples\")\n",
    "    plt.ylabel(\"Score\")\n",
    "    train_sizes, train_scores, test_scores = learning_curve(\n",
    "        estimator, X, y, cv=cv, n_jobs=n_jobs, train_sizes=train_sizes)\n",
    "    train_scores_mean = np.mean(train_scores, axis=1)\n",
    "    train_scores_std = np.std(train_scores, axis=1)\n",
    "    test_scores_mean = np.mean(test_scores, axis=1)\n",
    "    test_scores_std = np.std(test_scores, axis=1)\n",
    "    plt.grid()\n",
    "\n",
    "    plt.fill_between(train_sizes, train_scores_mean - train_scores_std,\n",
    "                     train_scores_mean + train_scores_std, alpha=0.1,\n",
    "                     color=\"r\")\n",
    "    plt.fill_between(train_sizes, test_scores_mean - test_scores_std,\n",
    "                     test_scores_mean + test_scores_std, alpha=0.1, color=\"g\")\n",
    "    plt.plot(train_sizes, train_scores_mean, 'o-', color=\"r\",\n",
    "             label=\"Training score\")\n",
    "    plt.plot(train_sizes, test_scores_mean, 'o-', color=\"g\",\n",
    "             label=\"Cross-validation score\")\n",
    "\n",
    "    plt.legend(loc=\"best\")\n",
    "    estimator.verbose = True\n",
    "    return plt"
   ]
  },
  {
   "cell_type": "markdown",
   "metadata": {},
   "source": [
    "# 6. Metrics"
   ]
  },
  {
   "cell_type": "code",
   "execution_count": 22,
   "metadata": {},
   "outputs": [
    {
     "name": "stdout",
     "output_type": "stream",
     "text": [
      "Classification report:\n",
      "\n",
      "              precision    recall  f1-score   support\n",
      "\n",
      "           0       0.65      0.51      0.57      1000\n",
      "           1       0.42      0.47      0.44      1000\n",
      "           2       0.33      0.35      0.34      1000\n",
      "           3       0.37      0.39      0.38      1000\n",
      "\n",
      "    accuracy                           0.43      4000\n",
      "   macro avg       0.44      0.43      0.43      4000\n",
      "weighted avg       0.44      0.43      0.43      4000\n",
      "\n",
      "Accuracy Score: 0.429\n"
     ]
    }
   ],
   "source": [
    "from sklearn.metrics import classification_report\n",
    "from sklearn.metrics import accuracy_score\n",
    "\n",
    "X_test = np.array(test_data[features_simple].tolist())\n",
    "y_pred_simple = pipeline_simple.predict(X_test)\n",
    "y_true = np.array(test_data[label].tolist())\n",
    "\n",
    "print('Classification report:\\n\\n{}'.format(\n",
    "    classification_report(test_data[label], y_pred_simple))\n",
    ")\n",
    "print('Accuracy Score:', accuracy_score(y_true, y_pred_simple))"
   ]
  },
  {
   "cell_type": "code",
   "execution_count": 23,
   "metadata": {},
   "outputs": [
    {
     "name": "stdout",
     "output_type": "stream",
     "text": [
      "Classification report:\n",
      "\n",
      "              precision    recall  f1-score   support\n",
      "\n",
      "           0       0.96      0.96      0.96      1000\n",
      "           1       0.85      0.79      0.82      1000\n",
      "           2       0.65      0.66      0.65      1000\n",
      "           3       0.70      0.74      0.72      1000\n",
      "\n",
      "    accuracy                           0.79      4000\n",
      "   macro avg       0.79      0.79      0.79      4000\n",
      "weighted avg       0.79      0.79      0.79      4000\n",
      "\n",
      "Accuracy Score: 0.78675\n"
     ]
    }
   ],
   "source": [
    "X_test = np.array(test_data[features_complex].tolist())\n",
    "y_pred_complex = pipeline_complex.predict(X_test)\n",
    "y_true = np.array(test_data[label].tolist())\n",
    "\n",
    "print('Classification report:\\n\\n{}'.format(\n",
    "    classification_report(test_data[label], y_pred_complex))\n",
    ")\n",
    "print('Accuracy Score:', accuracy_score(y_true, y_pred_complex))"
   ]
  },
  {
   "cell_type": "code",
   "execution_count": 24,
   "metadata": {},
   "outputs": [
    {
     "data": {
      "image/png": "[encoded data removed]",
      "text/plain": [
       "<Figure size 432x288 with 1 Axes>"
      ]
     },
     "metadata": {
      "needs_background": "light"
     },
     "output_type": "display_data"
    }
   ],
   "source": [
    "fig = plot_learning_curve(pipeline_simple, 'Simple Pipeline Learning Curves', X_train_simple, y_train)"
   ]
  },
  {
   "cell_type": "code",
   "execution_count": 25,
   "metadata": {},
   "outputs": [
    {
     "data": {
      "image/png": "[encoded data removed]",
      "text/plain": [
       "<Figure size 432x288 with 1 Axes>"
      ]
     },
     "metadata": {
      "needs_background": "light"
     },
     "output_type": "display_data"
    }
   ],
   "source": [
    "fig = plot_learning_curve(pipeline_complex, 'Complex Pipeline Learning Curves', X_train_complex, y_train)"
   ]
  },
  {
   "cell_type": "markdown",
   "metadata": {},
   "source": [
    "# Assignment\n",
    "\n",
    "## Task 2: Create category-specific image retrieval models"
   ]
  },
  {
   "cell_type": "code",
   "execution_count": 26,
   "metadata": {},
   "outputs": [
    {
     "data": {
      "text/html": [
       "<div>\n",
       "<style scoped>\n",
       "    .dataframe tbody tr th:only-of-type {\n",
       "        vertical-align: middle;\n",
       "    }\n",
       "\n",
       "    .dataframe tbody tr th {\n",
       "        vertical-align: top;\n",
       "    }\n",
       "\n",
       "    .dataframe thead th {\n",
       "        text-align: right;\n",
       "    }\n",
       "</style>\n",
       "<table border=\"1\" class=\"dataframe\">\n",
       "  <thead>\n",
       "    <tr style=\"text-align: right;\">\n",
       "      <th></th>\n",
       "      <th>id</th>\n",
       "      <th>image</th>\n",
       "      <th>label</th>\n",
       "      <th>deep_features</th>\n",
       "      <th>image_array</th>\n",
       "      <th>encoded_label</th>\n",
       "    </tr>\n",
       "  </thead>\n",
       "  <tbody>\n",
       "    <tr>\n",
       "      <th>0</th>\n",
       "      <td>24</td>\n",
       "      <td>Height: 32 Width: 32</td>\n",
       "      <td>bird</td>\n",
       "      <td>[0.242872, 1.09545, 0.0, 0.39363, 0.0, 0.0, 11...</td>\n",
       "      <td>[73, 77, 58, 71, 68, 50, 77, 69, 44, 120, 116,...</td>\n",
       "      <td>1</td>\n",
       "    </tr>\n",
       "    <tr>\n",
       "      <th>1</th>\n",
       "      <td>90</td>\n",
       "      <td>Height: 32 Width: 32</td>\n",
       "      <td>bird</td>\n",
       "      <td>[1.71787, 0.0, 0.0, 0.0, 0.0, 0.0, 9.33936, 0....</td>\n",
       "      <td>[216, 195, 180, 201, 178, 160, 210, 184, 164, ...</td>\n",
       "      <td>1</td>\n",
       "    </tr>\n",
       "    <tr>\n",
       "      <th>2</th>\n",
       "      <td>121</td>\n",
       "      <td>Height: 32 Width: 32</td>\n",
       "      <td>bird</td>\n",
       "      <td>[0.0, 0.237535, 0.0, 0.0, 0.0, 0.0, 9.9908, 0....</td>\n",
       "      <td>[93, 96, 88, 102, 106, 97, 117, 121, 111, 118,...</td>\n",
       "      <td>1</td>\n",
       "    </tr>\n",
       "    <tr>\n",
       "      <th>3</th>\n",
       "      <td>138</td>\n",
       "      <td>Height: 32 Width: 32</td>\n",
       "      <td>bird</td>\n",
       "      <td>[0.658936, 0.0, 0.0, 0.0, 0.0, 0.0, 9.93748, 0...</td>\n",
       "      <td>[205, 193, 195, 200, 187, 193, 202, 190, 193, ...</td>\n",
       "      <td>1</td>\n",
       "    </tr>\n",
       "    <tr>\n",
       "      <th>4</th>\n",
       "      <td>335</td>\n",
       "      <td>Height: 32 Width: 32</td>\n",
       "      <td>bird</td>\n",
       "      <td>[0.0, 0.0, 0.0, 0.0, 0.0, 0.0, 8.50707, 0.0, 0...</td>\n",
       "      <td>[160, 159, 154, 162, 161, 156, 169, 168, 163, ...</td>\n",
       "      <td>1</td>\n",
       "    </tr>\n",
       "  </tbody>\n",
       "</table>\n",
       "</div>"
      ],
      "text/plain": [
       "    id                 image label  \\\n",
       "0   24  Height: 32 Width: 32  bird   \n",
       "1   90  Height: 32 Width: 32  bird   \n",
       "2  121  Height: 32 Width: 32  bird   \n",
       "3  138  Height: 32 Width: 32  bird   \n",
       "4  335  Height: 32 Width: 32  bird   \n",
       "\n",
       "                                       deep_features  \\\n",
       "0  [0.242872, 1.09545, 0.0, 0.39363, 0.0, 0.0, 11...   \n",
       "1  [1.71787, 0.0, 0.0, 0.0, 0.0, 0.0, 9.33936, 0....   \n",
       "2  [0.0, 0.237535, 0.0, 0.0, 0.0, 0.0, 9.9908, 0....   \n",
       "3  [0.658936, 0.0, 0.0, 0.0, 0.0, 0.0, 9.93748, 0...   \n",
       "4  [0.0, 0.0, 0.0, 0.0, 0.0, 0.0, 8.50707, 0.0, 0...   \n",
       "\n",
       "                                         image_array  encoded_label  \n",
       "0  [73, 77, 58, 71, 68, 50, 77, 69, 44, 120, 116,...              1  \n",
       "1  [216, 195, 180, 201, 178, 160, 210, 184, 164, ...              1  \n",
       "2  [93, 96, 88, 102, 106, 97, 117, 121, 111, 118,...              1  \n",
       "3  [205, 193, 195, 200, 187, 193, 202, 190, 193, ...              1  \n",
       "4  [160, 159, 154, 162, 161, 156, 169, 168, 163, ...              1  "
      ]
     },
     "execution_count": 26,
     "metadata": {},
     "output_type": "execute_result"
    }
   ],
   "source": [
    "bird_data = train_data.query('label == \"bird\"')\n",
    "bird_data = bird_data.reset_index(drop=True)\n",
    "bird_data.head()"
   ]
  },
  {
   "cell_type": "code",
   "execution_count": 27,
   "metadata": {},
   "outputs": [
    {
     "data": {
      "text/html": [
       "<div>\n",
       "<style scoped>\n",
       "    .dataframe tbody tr th:only-of-type {\n",
       "        vertical-align: middle;\n",
       "    }\n",
       "\n",
       "    .dataframe tbody tr th {\n",
       "        vertical-align: top;\n",
       "    }\n",
       "\n",
       "    .dataframe thead th {\n",
       "        text-align: right;\n",
       "    }\n",
       "</style>\n",
       "<table border=\"1\" class=\"dataframe\">\n",
       "  <thead>\n",
       "    <tr style=\"text-align: right;\">\n",
       "      <th></th>\n",
       "      <th>id</th>\n",
       "      <th>image</th>\n",
       "      <th>label</th>\n",
       "      <th>deep_features</th>\n",
       "      <th>image_array</th>\n",
       "      <th>encoded_label</th>\n",
       "    </tr>\n",
       "  </thead>\n",
       "  <tbody>\n",
       "    <tr>\n",
       "      <th>0</th>\n",
       "      <td>33</td>\n",
       "      <td>Height: 32 Width: 32</td>\n",
       "      <td>cat</td>\n",
       "      <td>[0.525088, 0.0, 0.0, 0.0, 0.0, 0.0, 9.94829, 0...</td>\n",
       "      <td>[7, 5, 8, 7, 5, 8, 5, 4, 6, 7, 4, 7, 11, 5, 9,...</td>\n",
       "      <td>2</td>\n",
       "    </tr>\n",
       "    <tr>\n",
       "      <th>1</th>\n",
       "      <td>36</td>\n",
       "      <td>Height: 32 Width: 32</td>\n",
       "      <td>cat</td>\n",
       "      <td>[0.566016, 0.0, 0.0, 0.0, 0.0, 0.0, 9.9972, 0....</td>\n",
       "      <td>[169, 122, 65, 131, 108, 75, 193, 196, 192, 21...</td>\n",
       "      <td>2</td>\n",
       "    </tr>\n",
       "    <tr>\n",
       "      <th>2</th>\n",
       "      <td>159</td>\n",
       "      <td>Height: 32 Width: 32</td>\n",
       "      <td>cat</td>\n",
       "      <td>[0.0, 0.0, 0.0, 0.643275, 0.0, 0.0, 10.1772, 0...</td>\n",
       "      <td>[154, 145, 135, 152, 144, 135, 157, 146, 136, ...</td>\n",
       "      <td>2</td>\n",
       "    </tr>\n",
       "    <tr>\n",
       "      <th>3</th>\n",
       "      <td>331</td>\n",
       "      <td>Height: 32 Width: 32</td>\n",
       "      <td>cat</td>\n",
       "      <td>[0.0, 0.0, 0.510964, 0.0, 0.0, 0.0, 11.2724, 0...</td>\n",
       "      <td>[45, 65, 92, 72, 95, 110, 106, 132, 129, 106, ...</td>\n",
       "      <td>2</td>\n",
       "    </tr>\n",
       "    <tr>\n",
       "      <th>4</th>\n",
       "      <td>367</td>\n",
       "      <td>Height: 32 Width: 32</td>\n",
       "      <td>cat</td>\n",
       "      <td>[1.38658, 0.0, 0.0, 0.0, 0.0, 0.182891, 10.395...</td>\n",
       "      <td>[168, 151, 143, 145, 130, 124, 134, 134, 136, ...</td>\n",
       "      <td>2</td>\n",
       "    </tr>\n",
       "  </tbody>\n",
       "</table>\n",
       "</div>"
      ],
      "text/plain": [
       "    id                 image label  \\\n",
       "0   33  Height: 32 Width: 32   cat   \n",
       "1   36  Height: 32 Width: 32   cat   \n",
       "2  159  Height: 32 Width: 32   cat   \n",
       "3  331  Height: 32 Width: 32   cat   \n",
       "4  367  Height: 32 Width: 32   cat   \n",
       "\n",
       "                                       deep_features  \\\n",
       "0  [0.525088, 0.0, 0.0, 0.0, 0.0, 0.0, 9.94829, 0...   \n",
       "1  [0.566016, 0.0, 0.0, 0.0, 0.0, 0.0, 9.9972, 0....   \n",
       "2  [0.0, 0.0, 0.0, 0.643275, 0.0, 0.0, 10.1772, 0...   \n",
       "3  [0.0, 0.0, 0.510964, 0.0, 0.0, 0.0, 11.2724, 0...   \n",
       "4  [1.38658, 0.0, 0.0, 0.0, 0.0, 0.182891, 10.395...   \n",
       "\n",
       "                                         image_array  encoded_label  \n",
       "0  [7, 5, 8, 7, 5, 8, 5, 4, 6, 7, 4, 7, 11, 5, 9,...              2  \n",
       "1  [169, 122, 65, 131, 108, 75, 193, 196, 192, 21...              2  \n",
       "2  [154, 145, 135, 152, 144, 135, 157, 146, 136, ...              2  \n",
       "3  [45, 65, 92, 72, 95, 110, 106, 132, 129, 106, ...              2  \n",
       "4  [168, 151, 143, 145, 130, 124, 134, 134, 136, ...              2  "
      ]
     },
     "execution_count": 27,
     "metadata": {},
     "output_type": "execute_result"
    }
   ],
   "source": [
    "cat_data = train_data.query('label == \"cat\"')\n",
    "cat_data = cat_data.reset_index(drop=True)\n",
    "cat_data.head()"
   ]
  },
  {
   "cell_type": "code",
   "execution_count": 28,
   "metadata": {},
   "outputs": [
    {
     "data": {
      "text/html": [
       "<div>\n",
       "<style scoped>\n",
       "    .dataframe tbody tr th:only-of-type {\n",
       "        vertical-align: middle;\n",
       "    }\n",
       "\n",
       "    .dataframe tbody tr th {\n",
       "        vertical-align: top;\n",
       "    }\n",
       "\n",
       "    .dataframe thead th {\n",
       "        text-align: right;\n",
       "    }\n",
       "</style>\n",
       "<table border=\"1\" class=\"dataframe\">\n",
       "  <thead>\n",
       "    <tr style=\"text-align: right;\">\n",
       "      <th></th>\n",
       "      <th>id</th>\n",
       "      <th>image</th>\n",
       "      <th>label</th>\n",
       "      <th>deep_features</th>\n",
       "      <th>image_array</th>\n",
       "      <th>encoded_label</th>\n",
       "    </tr>\n",
       "  </thead>\n",
       "  <tbody>\n",
       "    <tr>\n",
       "      <th>0</th>\n",
       "      <td>70</td>\n",
       "      <td>Height: 32 Width: 32</td>\n",
       "      <td>dog</td>\n",
       "      <td>[1.1298, 0.0, 0.0, 0.778194, 0.0, 0.758051, 9....</td>\n",
       "      <td>[154, 179, 152, 159, 183, 157, 165, 189, 162, ...</td>\n",
       "      <td>3</td>\n",
       "    </tr>\n",
       "    <tr>\n",
       "      <th>1</th>\n",
       "      <td>107</td>\n",
       "      <td>Height: 32 Width: 32</td>\n",
       "      <td>dog</td>\n",
       "      <td>[0.0, 0.0, 0.220678, 0.0, 0.0, 0.0, 8.58053, 0...</td>\n",
       "      <td>[97, 51, 31, 104, 58, 38, 107, 61, 40, 107, 62...</td>\n",
       "      <td>3</td>\n",
       "    </tr>\n",
       "    <tr>\n",
       "      <th>2</th>\n",
       "      <td>177</td>\n",
       "      <td>Height: 32 Width: 32</td>\n",
       "      <td>dog</td>\n",
       "      <td>[0.0, 1.45966, 0.0, 0.422992, 0.0, 0.0, 7.8609...</td>\n",
       "      <td>[55, 75, 42, 51, 76, 37, 57, 83, 48, 56, 83, 4...</td>\n",
       "      <td>3</td>\n",
       "    </tr>\n",
       "    <tr>\n",
       "      <th>3</th>\n",
       "      <td>424</td>\n",
       "      <td>Height: 32 Width: 32</td>\n",
       "      <td>dog</td>\n",
       "      <td>[0.9424, 0.0, 0.220353, 0.0, 0.0, 0.0, 10.0445...</td>\n",
       "      <td>[60, 35, 18, 63, 49, 38, 66, 56, 44, 64, 51, 3...</td>\n",
       "      <td>3</td>\n",
       "    </tr>\n",
       "    <tr>\n",
       "      <th>4</th>\n",
       "      <td>462</td>\n",
       "      <td>Height: 32 Width: 32</td>\n",
       "      <td>dog</td>\n",
       "      <td>[1.43463, 0.0, 0.0, 0.0, 0.0, 0.0, 9.27982, 0....</td>\n",
       "      <td>[86, 69, 75, 57, 41, 48, 46, 35, 41, 78, 46, 5...</td>\n",
       "      <td>3</td>\n",
       "    </tr>\n",
       "  </tbody>\n",
       "</table>\n",
       "</div>"
      ],
      "text/plain": [
       "    id                 image label  \\\n",
       "0   70  Height: 32 Width: 32   dog   \n",
       "1  107  Height: 32 Width: 32   dog   \n",
       "2  177  Height: 32 Width: 32   dog   \n",
       "3  424  Height: 32 Width: 32   dog   \n",
       "4  462  Height: 32 Width: 32   dog   \n",
       "\n",
       "                                       deep_features  \\\n",
       "0  [1.1298, 0.0, 0.0, 0.778194, 0.0, 0.758051, 9....   \n",
       "1  [0.0, 0.0, 0.220678, 0.0, 0.0, 0.0, 8.58053, 0...   \n",
       "2  [0.0, 1.45966, 0.0, 0.422992, 0.0, 0.0, 7.8609...   \n",
       "3  [0.9424, 0.0, 0.220353, 0.0, 0.0, 0.0, 10.0445...   \n",
       "4  [1.43463, 0.0, 0.0, 0.0, 0.0, 0.0, 9.27982, 0....   \n",
       "\n",
       "                                         image_array  encoded_label  \n",
       "0  [154, 179, 152, 159, 183, 157, 165, 189, 162, ...              3  \n",
       "1  [97, 51, 31, 104, 58, 38, 107, 61, 40, 107, 62...              3  \n",
       "2  [55, 75, 42, 51, 76, 37, 57, 83, 48, 56, 83, 4...              3  \n",
       "3  [60, 35, 18, 63, 49, 38, 66, 56, 44, 64, 51, 3...              3  \n",
       "4  [86, 69, 75, 57, 41, 48, 46, 35, 41, 78, 46, 5...              3  "
      ]
     },
     "execution_count": 28,
     "metadata": {},
     "output_type": "execute_result"
    }
   ],
   "source": [
    "dog_data = train_data.query('label == \"dog\"')\n",
    "dog_data = dog_data.reset_index(drop=True)\n",
    "dog_data.head()"
   ]
  },
  {
   "cell_type": "code",
   "execution_count": 29,
   "metadata": {},
   "outputs": [
    {
     "data": {
      "text/html": [
       "<div>\n",
       "<style scoped>\n",
       "    .dataframe tbody tr th:only-of-type {\n",
       "        vertical-align: middle;\n",
       "    }\n",
       "\n",
       "    .dataframe tbody tr th {\n",
       "        vertical-align: top;\n",
       "    }\n",
       "\n",
       "    .dataframe thead th {\n",
       "        text-align: right;\n",
       "    }\n",
       "</style>\n",
       "<table border=\"1\" class=\"dataframe\">\n",
       "  <thead>\n",
       "    <tr style=\"text-align: right;\">\n",
       "      <th></th>\n",
       "      <th>id</th>\n",
       "      <th>image</th>\n",
       "      <th>label</th>\n",
       "      <th>deep_features</th>\n",
       "      <th>image_array</th>\n",
       "      <th>encoded_label</th>\n",
       "    </tr>\n",
       "  </thead>\n",
       "  <tbody>\n",
       "    <tr>\n",
       "      <th>0</th>\n",
       "      <td>97</td>\n",
       "      <td>Height: 32 Width: 32</td>\n",
       "      <td>automobile</td>\n",
       "      <td>[1.57819, 0.0, 0.0, 0.0, 0.0, 0.0, 9.00632, 0....</td>\n",
       "      <td>[33, 44, 27, 29, 44, 31, 32, 45, 34, 38, 53, 3...</td>\n",
       "      <td>0</td>\n",
       "    </tr>\n",
       "    <tr>\n",
       "      <th>1</th>\n",
       "      <td>136</td>\n",
       "      <td>Height: 32 Width: 32</td>\n",
       "      <td>automobile</td>\n",
       "      <td>[0.0, 0.0, 0.0, 0.0, 0.0, 0.0, 7.57379, 0.0, 0...</td>\n",
       "      <td>[35, 59, 53, 36, 56, 56, 42, 62, 64, 40, 59, 6...</td>\n",
       "      <td>0</td>\n",
       "    </tr>\n",
       "    <tr>\n",
       "      <th>2</th>\n",
       "      <td>302</td>\n",
       "      <td>Height: 32 Width: 32</td>\n",
       "      <td>automobile</td>\n",
       "      <td>[0.583938, 0.0, 0.0, 0.0, 0.0, 0.0, 9.07562, 0...</td>\n",
       "      <td>[64, 52, 37, 85, 60, 40, 92, 66, 47, 90, 65, 4...</td>\n",
       "      <td>0</td>\n",
       "    </tr>\n",
       "    <tr>\n",
       "      <th>3</th>\n",
       "      <td>312</td>\n",
       "      <td>Height: 32 Width: 32</td>\n",
       "      <td>automobile</td>\n",
       "      <td>[0.0, 0.0, 0.0, 0.392823, 0.0, 0.727434, 7.414...</td>\n",
       "      <td>[124, 126, 113, 124, 126, 113, 133, 132, 119, ...</td>\n",
       "      <td>0</td>\n",
       "    </tr>\n",
       "    <tr>\n",
       "      <th>4</th>\n",
       "      <td>323</td>\n",
       "      <td>Height: 32 Width: 32</td>\n",
       "      <td>automobile</td>\n",
       "      <td>[0.0, 0.0, 0.0, 4.4231, 0.178729, 0.0, 7.25681...</td>\n",
       "      <td>[241, 241, 241, 238, 238, 238, 240, 240, 240, ...</td>\n",
       "      <td>0</td>\n",
       "    </tr>\n",
       "  </tbody>\n",
       "</table>\n",
       "</div>"
      ],
      "text/plain": [
       "    id                 image       label  \\\n",
       "0   97  Height: 32 Width: 32  automobile   \n",
       "1  136  Height: 32 Width: 32  automobile   \n",
       "2  302  Height: 32 Width: 32  automobile   \n",
       "3  312  Height: 32 Width: 32  automobile   \n",
       "4  323  Height: 32 Width: 32  automobile   \n",
       "\n",
       "                                       deep_features  \\\n",
       "0  [1.57819, 0.0, 0.0, 0.0, 0.0, 0.0, 9.00632, 0....   \n",
       "1  [0.0, 0.0, 0.0, 0.0, 0.0, 0.0, 7.57379, 0.0, 0...   \n",
       "2  [0.583938, 0.0, 0.0, 0.0, 0.0, 0.0, 9.07562, 0...   \n",
       "3  [0.0, 0.0, 0.0, 0.392823, 0.0, 0.727434, 7.414...   \n",
       "4  [0.0, 0.0, 0.0, 4.4231, 0.178729, 0.0, 7.25681...   \n",
       "\n",
       "                                         image_array  encoded_label  \n",
       "0  [33, 44, 27, 29, 44, 31, 32, 45, 34, 38, 53, 3...              0  \n",
       "1  [35, 59, 53, 36, 56, 56, 42, 62, 64, 40, 59, 6...              0  \n",
       "2  [64, 52, 37, 85, 60, 40, 92, 66, 47, 90, 65, 4...              0  \n",
       "3  [124, 126, 113, 124, 126, 113, 133, 132, 119, ...              0  \n",
       "4  [241, 241, 241, 238, 238, 238, 240, 240, 240, ...              0  "
      ]
     },
     "execution_count": 29,
     "metadata": {},
     "output_type": "execute_result"
    }
   ],
   "source": [
    "automobile_data = train_data.query('label == \"automobile\"')\n",
    "automobile_data = automobile_data.reset_index(drop=True)\n",
    "automobile_data.head()"
   ]
  },
  {
   "cell_type": "code",
   "execution_count": 30,
   "metadata": {},
   "outputs": [],
   "source": [
    "from sklearn.neighbors import NearestNeighbors\n",
    "\n",
    "bird_model = Pipeline(\n",
    "    steps=[\n",
    "        ('Nearest Neighbor', NearestNeighbors(metric='euclidean', algorithm='brute'))\n",
    "    ],\n",
    "    verbose=True\n",
    ")\n",
    "\n",
    "cat_model = Pipeline(\n",
    "    steps=[\n",
    "        ('Nearest Neighbor', NearestNeighbors(metric='euclidean', algorithm='brute'))\n",
    "    ],\n",
    "    verbose=True\n",
    ")\n",
    "\n",
    "dog_model = Pipeline(\n",
    "    steps=[\n",
    "        ('Nearest Neighbor', NearestNeighbors(metric='euclidean', algorithm='brute'))\n",
    "    ],\n",
    "    verbose=True\n",
    ")\n",
    "\n",
    "automobile_model = Pipeline(\n",
    "    steps=[\n",
    "        ('Nearest Neighbor', NearestNeighbors(metric='euclidean', algorithm='brute'))\n",
    "    ],\n",
    "    verbose=True\n",
    ")"
   ]
  },
  {
   "cell_type": "code",
   "execution_count": 31,
   "metadata": {},
   "outputs": [
    {
     "name": "stdout",
     "output_type": "stream",
     "text": [
      "[Pipeline] .. (step 1 of 1) Processing Nearest Neighbor, total=   0.0s\n"
     ]
    },
    {
     "data": {
      "text/html": [
       "<style>div.sk-top-container {color: black;background-color: white;}div.sk-toggleable {background-color: white;}label.sk-toggleable__label {cursor: pointer;display: block;width: 100%;margin-bottom: 0;padding: 0.2em 0.3em;box-sizing: border-box;text-align: center;}div.sk-toggleable__content {max-height: 0;max-width: 0;overflow: hidden;text-align: left;background-color: #f0f8ff;}div.sk-toggleable__content pre {margin: 0.2em;color: black;border-radius: 0.25em;background-color: #f0f8ff;}input.sk-toggleable__control:checked~div.sk-toggleable__content {max-height: 200px;max-width: 100%;overflow: auto;}div.sk-estimator input.sk-toggleable__control:checked~label.sk-toggleable__label {background-color: #d4ebff;}div.sk-label input.sk-toggleable__control:checked~label.sk-toggleable__label {background-color: #d4ebff;}input.sk-hidden--visually {border: 0;clip: rect(1px 1px 1px 1px);clip: rect(1px, 1px, 1px, 1px);height: 1px;margin: -1px;overflow: hidden;padding: 0;position: absolute;width: 1px;}div.sk-estimator {font-family: monospace;background-color: #f0f8ff;margin: 0.25em 0.25em;border: 1px dotted black;border-radius: 0.25em;box-sizing: border-box;}div.sk-estimator:hover {background-color: #d4ebff;}div.sk-parallel-item::after {content: \"\";width: 100%;border-bottom: 1px solid gray;flex-grow: 1;}div.sk-label:hover label.sk-toggleable__label {background-color: #d4ebff;}div.sk-serial::before {content: \"\";position: absolute;border-left: 1px solid gray;box-sizing: border-box;top: 2em;bottom: 0;left: 50%;}div.sk-serial {display: flex;flex-direction: column;align-items: center;background-color: white;}div.sk-item {z-index: 1;}div.sk-parallel {display: flex;align-items: stretch;justify-content: center;background-color: white;}div.sk-parallel-item {display: flex;flex-direction: column;position: relative;background-color: white;}div.sk-parallel-item:first-child::after {align-self: flex-end;width: 50%;}div.sk-parallel-item:last-child::after {align-self: flex-start;width: 50%;}div.sk-parallel-item:only-child::after {width: 0;}div.sk-dashed-wrapped {border: 1px dashed gray;margin: 0.2em;box-sizing: border-box;padding-bottom: 0.1em;background-color: white;position: relative;}div.sk-label label {font-family: monospace;font-weight: bold;background-color: white;display: inline-block;line-height: 1.2em;}div.sk-label-container {position: relative;z-index: 2;text-align: center;}div.sk-container {display: inline-block;position: relative;}</style><div class=\"sk-top-container\"><div class=\"sk-container\"><div class=\"sk-item sk-dashed-wrapped\"><div class=\"sk-label-container\"><div class=\"sk-label sk-toggleable\"><input class=\"sk-toggleable__control sk-hidden--visually\" id=\"c6a76cf5-522f-4259-b771-b70d352c5eb1\" type=\"checkbox\" ><label class=\"sk-toggleable__label\" for=\"c6a76cf5-522f-4259-b771-b70d352c5eb1\">Pipeline</label><div class=\"sk-toggleable__content\"><pre>Pipeline(steps=[('Nearest Neighbor',\n",
       "                 NearestNeighbors(algorithm='brute', metric='euclidean'))],\n",
       "         verbose=True)</pre></div></div></div><div class=\"sk-serial\"><div class=\"sk-item\"><div class=\"sk-estimator sk-toggleable\"><input class=\"sk-toggleable__control sk-hidden--visually\" id=\"49b7f8d7-a019-41b5-abcb-90f475b06956\" type=\"checkbox\" ><label class=\"sk-toggleable__label\" for=\"49b7f8d7-a019-41b5-abcb-90f475b06956\">NearestNeighbors</label><div class=\"sk-toggleable__content\"><pre>NearestNeighbors(algorithm='brute', metric='euclidean')</pre></div></div></div></div></div></div></div>"
      ],
      "text/plain": [
       "Pipeline(steps=[('Nearest Neighbor',\n",
       "                 NearestNeighbors(algorithm='brute', metric='euclidean'))],\n",
       "         verbose=True)"
      ]
     },
     "execution_count": 31,
     "metadata": {},
     "output_type": "execute_result"
    }
   ],
   "source": [
    "X_train_bird = np.array(bird_data[features_complex].tolist())\n",
    "bird_model.fit(X_train_bird)"
   ]
  },
  {
   "cell_type": "code",
   "execution_count": 32,
   "metadata": {},
   "outputs": [
    {
     "name": "stdout",
     "output_type": "stream",
     "text": [
      "[Pipeline] .. (step 1 of 1) Processing Nearest Neighbor, total=   0.0s\n"
     ]
    },
    {
     "data": {
      "text/html": [
       "<style>div.sk-top-container {color: black;background-color: white;}div.sk-toggleable {background-color: white;}label.sk-toggleable__label {cursor: pointer;display: block;width: 100%;margin-bottom: 0;padding: 0.2em 0.3em;box-sizing: border-box;text-align: center;}div.sk-toggleable__content {max-height: 0;max-width: 0;overflow: hidden;text-align: left;background-color: #f0f8ff;}div.sk-toggleable__content pre {margin: 0.2em;color: black;border-radius: 0.25em;background-color: #f0f8ff;}input.sk-toggleable__control:checked~div.sk-toggleable__content {max-height: 200px;max-width: 100%;overflow: auto;}div.sk-estimator input.sk-toggleable__control:checked~label.sk-toggleable__label {background-color: #d4ebff;}div.sk-label input.sk-toggleable__control:checked~label.sk-toggleable__label {background-color: #d4ebff;}input.sk-hidden--visually {border: 0;clip: rect(1px 1px 1px 1px);clip: rect(1px, 1px, 1px, 1px);height: 1px;margin: -1px;overflow: hidden;padding: 0;position: absolute;width: 1px;}div.sk-estimator {font-family: monospace;background-color: #f0f8ff;margin: 0.25em 0.25em;border: 1px dotted black;border-radius: 0.25em;box-sizing: border-box;}div.sk-estimator:hover {background-color: #d4ebff;}div.sk-parallel-item::after {content: \"\";width: 100%;border-bottom: 1px solid gray;flex-grow: 1;}div.sk-label:hover label.sk-toggleable__label {background-color: #d4ebff;}div.sk-serial::before {content: \"\";position: absolute;border-left: 1px solid gray;box-sizing: border-box;top: 2em;bottom: 0;left: 50%;}div.sk-serial {display: flex;flex-direction: column;align-items: center;background-color: white;}div.sk-item {z-index: 1;}div.sk-parallel {display: flex;align-items: stretch;justify-content: center;background-color: white;}div.sk-parallel-item {display: flex;flex-direction: column;position: relative;background-color: white;}div.sk-parallel-item:first-child::after {align-self: flex-end;width: 50%;}div.sk-parallel-item:last-child::after {align-self: flex-start;width: 50%;}div.sk-parallel-item:only-child::after {width: 0;}div.sk-dashed-wrapped {border: 1px dashed gray;margin: 0.2em;box-sizing: border-box;padding-bottom: 0.1em;background-color: white;position: relative;}div.sk-label label {font-family: monospace;font-weight: bold;background-color: white;display: inline-block;line-height: 1.2em;}div.sk-label-container {position: relative;z-index: 2;text-align: center;}div.sk-container {display: inline-block;position: relative;}</style><div class=\"sk-top-container\"><div class=\"sk-container\"><div class=\"sk-item sk-dashed-wrapped\"><div class=\"sk-label-container\"><div class=\"sk-label sk-toggleable\"><input class=\"sk-toggleable__control sk-hidden--visually\" id=\"98b3ebbb-2aa3-4a25-9bd4-b7eec76e2079\" type=\"checkbox\" ><label class=\"sk-toggleable__label\" for=\"98b3ebbb-2aa3-4a25-9bd4-b7eec76e2079\">Pipeline</label><div class=\"sk-toggleable__content\"><pre>Pipeline(steps=[('Nearest Neighbor',\n",
       "                 NearestNeighbors(algorithm='brute', metric='euclidean'))],\n",
       "         verbose=True)</pre></div></div></div><div class=\"sk-serial\"><div class=\"sk-item\"><div class=\"sk-estimator sk-toggleable\"><input class=\"sk-toggleable__control sk-hidden--visually\" id=\"e3258006-ea83-453e-a720-4cb341cbd110\" type=\"checkbox\" ><label class=\"sk-toggleable__label\" for=\"e3258006-ea83-453e-a720-4cb341cbd110\">NearestNeighbors</label><div class=\"sk-toggleable__content\"><pre>NearestNeighbors(algorithm='brute', metric='euclidean')</pre></div></div></div></div></div></div></div>"
      ],
      "text/plain": [
       "Pipeline(steps=[('Nearest Neighbor',\n",
       "                 NearestNeighbors(algorithm='brute', metric='euclidean'))],\n",
       "         verbose=True)"
      ]
     },
     "execution_count": 32,
     "metadata": {},
     "output_type": "execute_result"
    }
   ],
   "source": [
    "X_train_cat = np.array(cat_data[features_complex].tolist())\n",
    "cat_model.fit(X_train_cat)"
   ]
  },
  {
   "cell_type": "code",
   "execution_count": 33,
   "metadata": {},
   "outputs": [
    {
     "name": "stdout",
     "output_type": "stream",
     "text": [
      "[Pipeline] .. (step 1 of 1) Processing Nearest Neighbor, total=   0.0s\n"
     ]
    },
    {
     "data": {
      "text/html": [
       "<style>div.sk-top-container {color: black;background-color: white;}div.sk-toggleable {background-color: white;}label.sk-toggleable__label {cursor: pointer;display: block;width: 100%;margin-bottom: 0;padding: 0.2em 0.3em;box-sizing: border-box;text-align: center;}div.sk-toggleable__content {max-height: 0;max-width: 0;overflow: hidden;text-align: left;background-color: #f0f8ff;}div.sk-toggleable__content pre {margin: 0.2em;color: black;border-radius: 0.25em;background-color: #f0f8ff;}input.sk-toggleable__control:checked~div.sk-toggleable__content {max-height: 200px;max-width: 100%;overflow: auto;}div.sk-estimator input.sk-toggleable__control:checked~label.sk-toggleable__label {background-color: #d4ebff;}div.sk-label input.sk-toggleable__control:checked~label.sk-toggleable__label {background-color: #d4ebff;}input.sk-hidden--visually {border: 0;clip: rect(1px 1px 1px 1px);clip: rect(1px, 1px, 1px, 1px);height: 1px;margin: -1px;overflow: hidden;padding: 0;position: absolute;width: 1px;}div.sk-estimator {font-family: monospace;background-color: #f0f8ff;margin: 0.25em 0.25em;border: 1px dotted black;border-radius: 0.25em;box-sizing: border-box;}div.sk-estimator:hover {background-color: #d4ebff;}div.sk-parallel-item::after {content: \"\";width: 100%;border-bottom: 1px solid gray;flex-grow: 1;}div.sk-label:hover label.sk-toggleable__label {background-color: #d4ebff;}div.sk-serial::before {content: \"\";position: absolute;border-left: 1px solid gray;box-sizing: border-box;top: 2em;bottom: 0;left: 50%;}div.sk-serial {display: flex;flex-direction: column;align-items: center;background-color: white;}div.sk-item {z-index: 1;}div.sk-parallel {display: flex;align-items: stretch;justify-content: center;background-color: white;}div.sk-parallel-item {display: flex;flex-direction: column;position: relative;background-color: white;}div.sk-parallel-item:first-child::after {align-self: flex-end;width: 50%;}div.sk-parallel-item:last-child::after {align-self: flex-start;width: 50%;}div.sk-parallel-item:only-child::after {width: 0;}div.sk-dashed-wrapped {border: 1px dashed gray;margin: 0.2em;box-sizing: border-box;padding-bottom: 0.1em;background-color: white;position: relative;}div.sk-label label {font-family: monospace;font-weight: bold;background-color: white;display: inline-block;line-height: 1.2em;}div.sk-label-container {position: relative;z-index: 2;text-align: center;}div.sk-container {display: inline-block;position: relative;}</style><div class=\"sk-top-container\"><div class=\"sk-container\"><div class=\"sk-item sk-dashed-wrapped\"><div class=\"sk-label-container\"><div class=\"sk-label sk-toggleable\"><input class=\"sk-toggleable__control sk-hidden--visually\" id=\"fb06928b-3ee8-4b38-ab45-77d390c0ebd8\" type=\"checkbox\" ><label class=\"sk-toggleable__label\" for=\"fb06928b-3ee8-4b38-ab45-77d390c0ebd8\">Pipeline</label><div class=\"sk-toggleable__content\"><pre>Pipeline(steps=[('Nearest Neighbor',\n",
       "                 NearestNeighbors(algorithm='brute', metric='euclidean'))],\n",
       "         verbose=True)</pre></div></div></div><div class=\"sk-serial\"><div class=\"sk-item\"><div class=\"sk-estimator sk-toggleable\"><input class=\"sk-toggleable__control sk-hidden--visually\" id=\"e2e08566-f5a8-4bc4-adae-a48fe7f33dd6\" type=\"checkbox\" ><label class=\"sk-toggleable__label\" for=\"e2e08566-f5a8-4bc4-adae-a48fe7f33dd6\">NearestNeighbors</label><div class=\"sk-toggleable__content\"><pre>NearestNeighbors(algorithm='brute', metric='euclidean')</pre></div></div></div></div></div></div></div>"
      ],
      "text/plain": [
       "Pipeline(steps=[('Nearest Neighbor',\n",
       "                 NearestNeighbors(algorithm='brute', metric='euclidean'))],\n",
       "         verbose=True)"
      ]
     },
     "execution_count": 33,
     "metadata": {},
     "output_type": "execute_result"
    }
   ],
   "source": [
    "X_train_dog = np.array(dog_data[features_complex].tolist())\n",
    "dog_model.fit(X_train_dog)"
   ]
  },
  {
   "cell_type": "code",
   "execution_count": 34,
   "metadata": {},
   "outputs": [
    {
     "name": "stdout",
     "output_type": "stream",
     "text": [
      "[Pipeline] .. (step 1 of 1) Processing Nearest Neighbor, total=   0.0s\n"
     ]
    },
    {
     "data": {
      "text/html": [
       "<style>div.sk-top-container {color: black;background-color: white;}div.sk-toggleable {background-color: white;}label.sk-toggleable__label {cursor: pointer;display: block;width: 100%;margin-bottom: 0;padding: 0.2em 0.3em;box-sizing: border-box;text-align: center;}div.sk-toggleable__content {max-height: 0;max-width: 0;overflow: hidden;text-align: left;background-color: #f0f8ff;}div.sk-toggleable__content pre {margin: 0.2em;color: black;border-radius: 0.25em;background-color: #f0f8ff;}input.sk-toggleable__control:checked~div.sk-toggleable__content {max-height: 200px;max-width: 100%;overflow: auto;}div.sk-estimator input.sk-toggleable__control:checked~label.sk-toggleable__label {background-color: #d4ebff;}div.sk-label input.sk-toggleable__control:checked~label.sk-toggleable__label {background-color: #d4ebff;}input.sk-hidden--visually {border: 0;clip: rect(1px 1px 1px 1px);clip: rect(1px, 1px, 1px, 1px);height: 1px;margin: -1px;overflow: hidden;padding: 0;position: absolute;width: 1px;}div.sk-estimator {font-family: monospace;background-color: #f0f8ff;margin: 0.25em 0.25em;border: 1px dotted black;border-radius: 0.25em;box-sizing: border-box;}div.sk-estimator:hover {background-color: #d4ebff;}div.sk-parallel-item::after {content: \"\";width: 100%;border-bottom: 1px solid gray;flex-grow: 1;}div.sk-label:hover label.sk-toggleable__label {background-color: #d4ebff;}div.sk-serial::before {content: \"\";position: absolute;border-left: 1px solid gray;box-sizing: border-box;top: 2em;bottom: 0;left: 50%;}div.sk-serial {display: flex;flex-direction: column;align-items: center;background-color: white;}div.sk-item {z-index: 1;}div.sk-parallel {display: flex;align-items: stretch;justify-content: center;background-color: white;}div.sk-parallel-item {display: flex;flex-direction: column;position: relative;background-color: white;}div.sk-parallel-item:first-child::after {align-self: flex-end;width: 50%;}div.sk-parallel-item:last-child::after {align-self: flex-start;width: 50%;}div.sk-parallel-item:only-child::after {width: 0;}div.sk-dashed-wrapped {border: 1px dashed gray;margin: 0.2em;box-sizing: border-box;padding-bottom: 0.1em;background-color: white;position: relative;}div.sk-label label {font-family: monospace;font-weight: bold;background-color: white;display: inline-block;line-height: 1.2em;}div.sk-label-container {position: relative;z-index: 2;text-align: center;}div.sk-container {display: inline-block;position: relative;}</style><div class=\"sk-top-container\"><div class=\"sk-container\"><div class=\"sk-item sk-dashed-wrapped\"><div class=\"sk-label-container\"><div class=\"sk-label sk-toggleable\"><input class=\"sk-toggleable__control sk-hidden--visually\" id=\"76770af9-6aab-40c4-9923-c2b67b02d86c\" type=\"checkbox\" ><label class=\"sk-toggleable__label\" for=\"76770af9-6aab-40c4-9923-c2b67b02d86c\">Pipeline</label><div class=\"sk-toggleable__content\"><pre>Pipeline(steps=[('Nearest Neighbor',\n",
       "                 NearestNeighbors(algorithm='brute', metric='euclidean'))],\n",
       "         verbose=True)</pre></div></div></div><div class=\"sk-serial\"><div class=\"sk-item\"><div class=\"sk-estimator sk-toggleable\"><input class=\"sk-toggleable__control sk-hidden--visually\" id=\"7005c3f1-cf80-4c26-ac0a-0384a1db60e8\" type=\"checkbox\" ><label class=\"sk-toggleable__label\" for=\"7005c3f1-cf80-4c26-ac0a-0384a1db60e8\">NearestNeighbors</label><div class=\"sk-toggleable__content\"><pre>NearestNeighbors(algorithm='brute', metric='euclidean')</pre></div></div></div></div></div></div></div>"
      ],
      "text/plain": [
       "Pipeline(steps=[('Nearest Neighbor',\n",
       "                 NearestNeighbors(algorithm='brute', metric='euclidean'))],\n",
       "         verbose=True)"
      ]
     },
     "execution_count": 34,
     "metadata": {},
     "output_type": "execute_result"
    }
   ],
   "source": [
    "X_train_automobile = np.array(automobile_data[features_complex].tolist())\n",
    "automobile_model.fit(X_train_automobile)"
   ]
  },
  {
   "cell_type": "markdown",
   "metadata": {},
   "source": [
    "## 3. A simple example of nearest-neighbors classification:"
   ]
  },
  {
   "cell_type": "code",
   "execution_count": 35,
   "metadata": {},
   "outputs": [],
   "source": [
    "def nearest_image(sample, type_data, pipeline):\n",
    "    distances, indices = pipeline['Nearest Neighbor'].kneighbors(np.array(sample[features_complex]).reshape(1, -1))\n",
    "    neighbors = pd.DataFrame({'distance':distances[0].tolist(), 'index':indices[0].tolist()})\n",
    "    left_join = pd.merge(neighbors, type_data, how='left', left_on='index', right_index=True)\n",
    "    plot_images_id([left_join.loc[0, 'id']], type_data)\n",
    "    return left_join"
   ]
  },
  {
   "cell_type": "code",
   "execution_count": 36,
   "metadata": {},
   "outputs": [
    {
     "data": {
      "image/png": "[encoded data removed]",
      "text/plain": [
       "<Figure size 72x72 with 1 Axes>"
      ]
     },
     "metadata": {
      "needs_background": "light"
     },
     "output_type": "display_data"
    },
    {
     "data": {
      "image/png": "[encoded data removed]",
      "text/plain": [
       "<Figure size 72x72 with 1 Axes>"
      ]
     },
     "metadata": {
      "needs_background": "light"
     },
     "output_type": "display_data"
    },
    {
     "data": {
      "text/plain": [
       "36.15572932231886"
      ]
     },
     "execution_count": 36,
     "metadata": {},
     "output_type": "execute_result"
    }
   ],
   "source": [
    "sample = test_data.loc[0]\n",
    "sample_list = [sample.id]\n",
    "plot_images_id(sample_list, test_data)\n",
    "table = nearest_image(sample, cat_data, cat_model)\n",
    "table['distance'].mean()"
   ]
  },
  {
   "cell_type": "code",
   "execution_count": 37,
   "metadata": {},
   "outputs": [
    {
     "data": {
      "image/png": "[encoded data removed]",
      "text/plain": [
       "<Figure size 72x72 with 1 Axes>"
      ]
     },
     "metadata": {
      "needs_background": "light"
     },
     "output_type": "display_data"
    },
    {
     "data": {
      "image/png": "[encoded data removed]",
      "text/plain": [
       "<Figure size 72x72 with 1 Axes>"
      ]
     },
     "metadata": {
      "needs_background": "light"
     },
     "output_type": "display_data"
    },
    {
     "data": {
      "text/plain": [
       "37.770711933529554"
      ]
     },
     "execution_count": 37,
     "metadata": {},
     "output_type": "execute_result"
    }
   ],
   "source": [
    "sample = test_data.loc[0]\n",
    "sample_list = [sample.id]\n",
    "plot_images_id(sample_list, test_data)\n",
    "table = nearest_image(sample, dog_data, dog_model)\n",
    "table['distance'].mean()"
   ]
  },
  {
   "cell_type": "code",
   "execution_count": null,
   "metadata": {},
   "outputs": [],
   "source": []
  }
 ],
 "metadata": {
  "kernelspec": {
   "display_name": "Python 3",
   "language": "python",
   "name": "python3"
  },
  "language_info": {
   "codemirror_mode": {
    "name": "ipython",
    "version": 3
   },
   "file_extension": ".py",
   "mimetype": "text/x-python",
   "name": "python",
   "nbconvert_exporter": "python",
   "pygments_lexer": "ipython3",
   "version": "3.8.5"
  }
 },
 "nbformat": 4,
 "nbformat_minor": 4
}
